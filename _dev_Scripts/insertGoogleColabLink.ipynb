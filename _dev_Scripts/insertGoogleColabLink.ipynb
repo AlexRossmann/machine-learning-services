{
 "cells": [
  {
   "cell_type": "code",
   "execution_count": 1,
   "metadata": {},
   "outputs": [],
   "source": [
    "import glob\n",
    "import os"
   ]
  },
  {
   "cell_type": "code",
   "execution_count": 2,
   "metadata": {},
   "outputs": [],
   "source": [
    "os.chdir('..')"
   ]
  },
  {
   "cell_type": "code",
   "execution_count": 3,
   "metadata": {},
   "outputs": [
    {
     "data": {
      "text/plain": [
       "'c:\\\\Git_Repos\\\\ml-services'"
      ]
     },
     "execution_count": 3,
     "metadata": {},
     "output_type": "execute_result"
    }
   ],
   "source": [
    "os.getcwd()\n"
   ]
  },
  {
   "cell_type": "code",
   "execution_count": 4,
   "metadata": {},
   "outputs": [],
   "source": [
    "files = glob.glob('*/*/*Readme.md')"
   ]
  },
  {
   "cell_type": "code",
   "execution_count": 5,
   "metadata": {},
   "outputs": [],
   "source": [
    "files = [file for file in files if file[0] != '_']"
   ]
  },
  {
   "cell_type": "code",
   "execution_count": 6,
   "metadata": {},
   "outputs": [
    {
     "data": {
      "text/plain": [
       "['Agriculture\\\\Analysis of the movement and activity of free-ranging cattle\\\\README.md',\n",
       " 'Automotive\\\\Improvement of components for autonomous motor vehicles\\\\README.md',\n",
       " 'CRM\\\\Customer Churn Prediction\\\\README.md',\n",
       " 'CRM\\\\Increase customer satisfaction\\\\README.md',\n",
       " 'CRM\\\\Sentiment analysis on amazon alexa reviews\\\\README.md',\n",
       " 'Forecast\\\\Forecast of required vehicles in the city center\\\\README.md',\n",
       " 'Forecast\\\\Sales Forecast for retail store\\\\README.md',\n",
       " 'Health\\\\Healthcare system finding causes and patterns for common diseases\\\\README.md',\n",
       " 'Health\\\\Risk prediction of heart disease\\\\README.md',\n",
       " 'Insurance\\\\Insurance Fraud detection\\\\README.md',\n",
       " 'Insurance\\\\Predicting mental illness for health insurance\\\\README.md',\n",
       " 'Insurance\\\\Prediction Interest for car insurance\\\\README.md',\n",
       " 'Maintenance\\\\Prediction of IOT system failures based on sensor data\\\\README.md',\n",
       " 'Marketing\\\\Generation of Individual Playlists\\\\README.md',\n",
       " 'Marketing\\\\Predicting clicks on online advertising by Facebook\\\\README.md',\n",
       " 'Online Retail\\\\Size prediction for online fashion retailer\\\\README.md',\n",
       " 'Rating\\\\Accommodation rating\\\\README.md',\n",
       " 'Rating\\\\Digital Valuation of Real Estate\\\\README.md',\n",
       " 'Rating\\\\What Quality does the Red wine have\\\\README.md',\n",
       " 'Success Predicition\\\\Prediction of Successful or Failed Startups\\\\README.md',\n",
       " 'Success Predicition\\\\Prediction of Successfully Financed Projects\\\\README.md',\n",
       " 'Tourism\\\\flight delay prediction\\\\README.md',\n",
       " 'Tourism\\\\Prediction cancellation of hotel bookings\\\\README.md',\n",
       " 'Warehouse\\\\Classification of clothing through images\\\\README.md']"
      ]
     },
     "execution_count": 6,
     "metadata": {},
     "output_type": "execute_result"
    }
   ],
   "source": [
    "files"
   ]
  },
  {
   "cell_type": "code",
   "execution_count": 7,
   "metadata": {},
   "outputs": [],
   "source": [
    "def insert_line_at(file_path, colab_link_snippet, at_index):\n",
    "    with open(file_path, \"r\") as f:\n",
    "        contents = f.readlines()\n",
    "\n",
    "    contents.insert(at_index, colab_link_snippet)\n",
    "\n",
    "    with open(file_path, \"w\") as f:\n",
    "        contents = \"\".join(contents)\n",
    "        f.write(contents)"
   ]
  },
  {
   "cell_type": "code",
   "execution_count": 8,
   "metadata": {},
   "outputs": [],
   "source": [
    "def overwrite_colab_link(file_path, colab_link_snippet):\n",
    "    with open(file_path, \"r\") as f:\n",
    "        contents = f.readlines()\n",
    "    # find google colab line\n",
    "    for line_number in range(len(contents)):\n",
    "        if '<a href=\"https://colab.research.google.com/github/' in contents[line_number]:\n",
    "            colab_line_number = line_number\n",
    "            break\n",
    "    contents[colab_line_number] = colab_link_snippet \n",
    "\n",
    "    with open(file_path, \"w\") as f:\n",
    "        contents = \"\".join(contents)\n",
    "        f.write(contents)\n",
    "    "
   ]
  },
  {
   "cell_type": "code",
   "execution_count": 10,
   "metadata": {},
   "outputs": [],
   "source": [
    "for file in files:\n",
    "    category = file.split(\"\\\\\")[0].replace(\" \", \"%20\")\n",
    "    use_case = file.split(\"\\\\\")[1].replace(\" \", \"%20\")\n",
    "    temp = category + '/' + use_case\n",
    "    line = f'<a href=\"https://colab.research.google.com/github/AlexRossmann/ml-services/blob/main/{temp}/notebook.ipynb\"><img src=\"https://colab.research.google.com/assets/colab-badge.svg\" alt=\"Open Notebook In Google Colab\"/></a>  \\n\\n'\n",
    "    # insert_line_at(file, colab_link_snippet=line, at_index=3)\n",
    "    overwrite_colab_link(file, colab_link_snippet=line)"
   ]
  },
  {
   "cell_type": "code",
   "execution_count": 9,
   "metadata": {},
   "outputs": [
    {
     "ename": "AssertionError",
     "evalue": "Stop execution here",
     "output_type": "error",
     "traceback": [
      "\u001b[1;31m---------------------------------------------------------------------------\u001b[0m",
      "\u001b[1;31mAssertionError\u001b[0m                            Traceback (most recent call last)",
      "\u001b[1;32m~\\AppData\\Local\\Temp/ipykernel_11116/2078582149.py\u001b[0m in \u001b[0;36m<module>\u001b[1;34m\u001b[0m\n\u001b[1;32m----> 1\u001b[1;33m \u001b[1;32massert\u001b[0m \u001b[1;32mFalse\u001b[0m\u001b[1;33m,\u001b[0m \u001b[1;34m\"Stop execution here\"\u001b[0m\u001b[1;33m\u001b[0m\u001b[1;33m\u001b[0m\u001b[0m\n\u001b[0m",
      "\u001b[1;31mAssertionError\u001b[0m: Stop execution here"
     ]
    }
   ],
   "source": [
    "assert False, \"Stop execution here\""
   ]
  },
  {
   "cell_type": "code",
   "execution_count": 11,
   "metadata": {},
   "outputs": [
    {
     "data": {
      "text/plain": [
       "'Warehouse\\\\Classification of clothing through images\\\\README.md'"
      ]
     },
     "execution_count": 11,
     "metadata": {},
     "output_type": "execute_result"
    }
   ],
   "source": [
    "file = files[-1]\n",
    "file"
   ]
  },
  {
   "cell_type": "code",
   "execution_count": null,
   "metadata": {},
   "outputs": [],
   "source": [
    "temp = file.split(\"\\\\\")[0].replace(\" \", \"%20\")\n",
    "line = f'<a href=\"https://colab.research.google.com/github/AlexRossmann/ml-services/blob/main/{temp}/notebook.ipynb\"><img src=\"https://colab.research.google.com/assets/colab-badge.svg\" alt=\"Open Notebook In Google Colab\"/></a>  \\n\\n'\n",
    "# insert_line_at(file, colab_link_snippet=line, at_index=3)\n",
    "overwrite_colab_link(file, colab_link_snippet=line)"
   ]
  }
 ],
 "metadata": {
  "interpreter": {
   "hash": "d8ad938b111551bd971540a987a9651c3040c84fd74b784460cb61a1a48b653c"
  },
  "kernelspec": {
   "display_name": "Python 3.8.9 64-bit ('venv': venv)",
   "language": "python",
   "name": "python3"
  },
  "language_info": {
   "codemirror_mode": {
    "name": "ipython",
    "version": 3
   },
   "file_extension": ".py",
   "mimetype": "text/x-python",
   "name": "python",
   "nbconvert_exporter": "python",
   "pygments_lexer": "ipython3",
   "version": "3.8.9"
  },
  "orig_nbformat": 4
 },
 "nbformat": 4,
 "nbformat_minor": 2
}
