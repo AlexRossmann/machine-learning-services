{
 "cells": [
  {
   "cell_type": "markdown",
   "metadata": {},
   "source": [
    "# Prediction of fire protection system failures based on sensor data\n",
    "\n",
    "# Business Understanding \n",
    "With the help of the Inveron hazard management system, the plants already equipped with sensors can be \n",
    "be monitored and controlled manually, for example from a control station. \n",
    "from a control station. Inveron is a software that bundles and visualizes all sensor data from the \n",
    "fire protection systems and visualizes them. In addition, with the help of \n",
    "Inveron, test alarms can be triggered or alarms can be reset. \n",
    "The Inveron hazard management system already processes a lot of \n",
    "sensor data that can be used in the local system environment, for example the\n",
    "security center of an industrial company. Specific\n",
    "maintenance intervals tell Minimax service technicians when a system should be serviced. \n",
    "maintenance. \n",
    "In addition to monitoring its own sensor data, Inveron can also monitor third-party data. \n",
    "monitor. For example, connected video cameras can be used for fire detection. \n",
    "can be used for fire detection. Also burglar alarm systems, systems for \n",
    "fence monitoring or gate control systems. Open interfaces (OPC, \n",
    "Modbus, Profibus, BAC-net) allow long-term usability when individual components are \n",
    "exchange of individual components.\n"
   ]
  },
  {
   "cell_type": "markdown",
   "metadata": {},
   "source": [
    "## 2.1. Import of Relevant Modules  "
   ]
  },
  {
   "cell_type": "code",
   "execution_count": 1,
   "metadata": {
    "executionInfo": {
     "elapsed": 2030,
     "status": "ok",
     "timestamp": 1626031922565,
     "user": {
      "displayName": "Lucas Fritzsche",
      "photoUrl": "https://lh3.googleusercontent.com/a-/AOh14Gig9jWRBH9pEsZxAH2T8DAJghA-cFwhfbFplzkmOA=s64",
      "userId": "08959184792999143517"
     },
     "user_tz": -120
    },
    "id": "KYTEEGEQSNmJ"
   },
   "outputs": [],
   "source": [
    "import pandas as pd\n",
    "import numpy as np\n",
    "import matplotlib.pyplot as plt\n",
    "\n",
    "# Setting seed for reproducability\n",
    "np.random.seed(9876)  \n",
    "PYTHONHASHSEED = 0\n",
    "\n",
    "from sklearn import preprocessing\n",
    "from sklearn.metrics import confusion_matrix, recall_score, precision_score\n",
    "from keras.models import Sequential\n",
    "from keras.layers import Dense, Dropout, LSTM, Activation\n",
    "%matplotlib inline"
   ]
  },
  {
   "cell_type": "markdown",
   "metadata": {},
   "source": [
    "## 2.2. load Data  "
   ]
  },
  {
   "cell_type": "code",
   "execution_count": 2,
   "metadata": {
    "executionInfo": {
     "elapsed": 341,
     "status": "ok",
     "timestamp": 1626031922905,
     "user": {
      "displayName": "Lucas Fritzsche",
      "photoUrl": "https://lh3.googleusercontent.com/a-/AOh14Gig9jWRBH9pEsZxAH2T8DAJghA-cFwhfbFplzkmOA=s64",
      "userId": "08959184792999143517"
     },
     "user_tz": -120
    },
    "id": "gz-kNLjCSNmM"
   },
   "outputs": [],
   "source": [
    "#load training data\n",
    "train_df = pd.read_csv('https://storage.googleapis.com/ml-service-repository-datastorage/Prediction_of_IOT_system_failures_based_on_sensor_data_PM_train.txt', sep=\" \", header=None)\n",
    "train_df.drop(train_df.columns[[26, 27]], axis=1, inplace=True)\n",
    "train_df.columns = ['id', 'zyklus', 'setting1', 'setting2', 'setting3', 's1', 's2', 's3',\n",
    "                     's4', 's5', 's6', 's7', 's8', 's9', 's10', 's11', 's12', 's13', 's14',\n",
    "                     's15', 's16', 's17', 's18', 's19', 's20', 's21']\n"
   ]
  },
  {
   "cell_type": "code",
   "execution_count": 3,
   "metadata": {
    "executionInfo": {
     "elapsed": 13,
     "status": "ok",
     "timestamp": 1626031922905,
     "user": {
      "displayName": "Lucas Fritzsche",
      "photoUrl": "https://lh3.googleusercontent.com/a-/AOh14Gig9jWRBH9pEsZxAH2T8DAJghA-cFwhfbFplzkmOA=s64",
      "userId": "08959184792999143517"
     },
     "user_tz": -120
    },
    "id": "GoiWH19xSNmN"
   },
   "outputs": [],
   "source": [
    "# load testdata\n",
    "test_df = pd.read_csv('https://storage.googleapis.com/ml-service-repository-datastorage/Prediction_of_IOT_system_failures_based_on_sensor_data_PM_test.txt', sep=\" \", header=None)\n",
    "test_df.drop(test_df.columns[[26, 27]], axis=1, inplace=True)\n",
    "test_df.columns = ['id', 'zyklus', 'setting1', 'setting2', 'setting3', 's1', 's2', 's3',\n",
    "                     's4', 's5', 's6', 's7', 's8', 's9', 's10', 's11', 's12', 's13', 's14',\n",
    "                     's15', 's16', 's17', 's18', 's19', 's20', 's21']\n"
   ]
  },
  {
   "cell_type": "code",
   "execution_count": 4,
   "metadata": {
    "executionInfo": {
     "elapsed": 13,
     "status": "ok",
     "timestamp": 1626031922906,
     "user": {
      "displayName": "Lucas Fritzsche",
      "photoUrl": "https://lh3.googleusercontent.com/a-/AOh14Gig9jWRBH9pEsZxAH2T8DAJghA-cFwhfbFplzkmOA=s64",
      "userId": "08959184792999143517"
     },
     "user_tz": -120
    },
    "id": "JrhGGOtfSNmR"
   },
   "outputs": [],
   "source": [
    "# load truth data\n",
    "truth_df = pd.read_csv('https://storage.googleapis.com/ml-service-repository-datastorage/Prediction_of_IOT_system_failures_based_on_sensor_data_PM_truth.txt', sep=\" \", header=None)\n",
    "truth_df.drop(truth_df.columns[[1]], axis=1, inplace=True)"
   ]
  },
  {
   "cell_type": "markdown",
   "metadata": {},
   "source": [
    "## 2.4. Descriptive Analytics  "
   ]
  },
  {
   "cell_type": "code",
   "execution_count": 5,
   "metadata": {},
   "outputs": [
    {
     "name": "stdout",
     "output_type": "stream",
     "text": [
      "| Feature  | Data Type|\n",
      "|-----|------|\n",
      "|id      |   int64  |\n",
      "|zyklus  |   int64  |\n",
      "|setting1|   float64  |\n",
      "|setting2|   float64  |\n",
      "|setting3|   float64  |\n",
      "|s1      |   float64  |\n",
      "|s2      |   float64  |\n",
      "|s3      |   float64  |\n",
      "|s4      |   float64  |\n",
      "|s5      |   float64  |\n",
      "|s6      |   float64  |\n",
      "|s7      |   float64  |\n",
      "|s8      |   float64  |\n",
      "|s9      |   float64  |\n",
      "|s10     |   float64  |\n",
      "|s11     |   float64  |\n",
      "|s12     |   float64  |\n",
      "|s13     |   float64  |\n",
      "|s14     |   float64  |\n",
      "|s15     |   float64  |\n",
      "|s16     |   float64  |\n",
      "|s17     |   int64  |\n",
      "|s18     |   int64  |\n",
      "|s19     |   float64  |\n",
      "|s20     |   float64  |\n",
      "|s21     |   float64  |\n"
     ]
    }
   ],
   "source": [
    "def attribute_description(data):\n",
    "    longestColumnName = len(max(np.array(data.columns), key=len))\n",
    "    print(\"| Feature  | Data Type|\")\n",
    "    print(\"|-----|------|\")\n",
    "    for col in data.columns:\n",
    "        description = ''\n",
    "        col_dropna = data[col].dropna()\n",
    "        example = col_dropna.sample(1).values[0]\n",
    "        if type(example) == str:\n",
    "            description = 'str '\n",
    "            if len(col_dropna.unique()) < 10:\n",
    "                description += '{'\n",
    "                description += '; '.join([ f'\"{name}\"' for name in col_dropna.unique()])\n",
    "                description += '}'\n",
    "            else:\n",
    "                description += '[ example: \"'+ example + '\" ]'\n",
    "        elif (type(example) == np.int32) and (len(col_dropna.unique()) < 10) :\n",
    "            description += 'dummy int32 {'\n",
    "            description += '; '.join([ f'{name}' for name in sorted(col_dropna.unique())])\n",
    "            description += '}'\n",
    "        else:\n",
    "            try:\n",
    "                description = example.dtype\n",
    "            except:\n",
    "                 description = type(example)\n",
    "        print(\"|\" + col.ljust(longestColumnName)+ f'|   {description}  |')\n",
    " \n",
    "attribute_description(train_df)"
   ]
  },
  {
   "cell_type": "code",
   "execution_count": 6,
   "metadata": {
    "colab": {
     "base_uri": "https://localhost:8080/",
     "height": 222
    },
    "executionInfo": {
     "elapsed": 14,
     "status": "ok",
     "timestamp": 1626031922907,
     "user": {
      "displayName": "Lucas Fritzsche",
      "photoUrl": "https://lh3.googleusercontent.com/a-/AOh14Gig9jWRBH9pEsZxAH2T8DAJghA-cFwhfbFplzkmOA=s64",
      "userId": "08959184792999143517"
     },
     "user_tz": -120
    },
    "id": "glAMhyfOSNmU",
    "outputId": "ec9a919c-a862-4270-ce6f-3a84366b3934"
   },
   "outputs": [
    {
     "data": {
      "text/html": [
       "<div>\n",
       "<style scoped>\n",
       "    .dataframe tbody tr th:only-of-type {\n",
       "        vertical-align: middle;\n",
       "    }\n",
       "\n",
       "    .dataframe tbody tr th {\n",
       "        vertical-align: top;\n",
       "    }\n",
       "\n",
       "    .dataframe thead th {\n",
       "        text-align: right;\n",
       "    }\n",
       "</style>\n",
       "<table border=\"1\" class=\"dataframe\">\n",
       "  <thead>\n",
       "    <tr style=\"text-align: right;\">\n",
       "      <th></th>\n",
       "      <th>id</th>\n",
       "      <th>zyklus</th>\n",
       "      <th>setting1</th>\n",
       "      <th>setting2</th>\n",
       "      <th>setting3</th>\n",
       "      <th>s1</th>\n",
       "      <th>s2</th>\n",
       "      <th>s3</th>\n",
       "      <th>s4</th>\n",
       "      <th>s5</th>\n",
       "      <th>...</th>\n",
       "      <th>s12</th>\n",
       "      <th>s13</th>\n",
       "      <th>s14</th>\n",
       "      <th>s15</th>\n",
       "      <th>s16</th>\n",
       "      <th>s17</th>\n",
       "      <th>s18</th>\n",
       "      <th>s19</th>\n",
       "      <th>s20</th>\n",
       "      <th>s21</th>\n",
       "    </tr>\n",
       "  </thead>\n",
       "  <tbody>\n",
       "    <tr>\n",
       "      <th>0</th>\n",
       "      <td>1</td>\n",
       "      <td>1</td>\n",
       "      <td>-0.0007</td>\n",
       "      <td>-0.0004</td>\n",
       "      <td>100.0</td>\n",
       "      <td>518.67</td>\n",
       "      <td>641.82</td>\n",
       "      <td>1589.70</td>\n",
       "      <td>1400.60</td>\n",
       "      <td>14.62</td>\n",
       "      <td>...</td>\n",
       "      <td>521.66</td>\n",
       "      <td>2388.02</td>\n",
       "      <td>8138.62</td>\n",
       "      <td>8.4195</td>\n",
       "      <td>0.03</td>\n",
       "      <td>392</td>\n",
       "      <td>2388</td>\n",
       "      <td>100.0</td>\n",
       "      <td>39.06</td>\n",
       "      <td>23.4190</td>\n",
       "    </tr>\n",
       "    <tr>\n",
       "      <th>1</th>\n",
       "      <td>1</td>\n",
       "      <td>2</td>\n",
       "      <td>0.0019</td>\n",
       "      <td>-0.0003</td>\n",
       "      <td>100.0</td>\n",
       "      <td>518.67</td>\n",
       "      <td>642.15</td>\n",
       "      <td>1591.82</td>\n",
       "      <td>1403.14</td>\n",
       "      <td>14.62</td>\n",
       "      <td>...</td>\n",
       "      <td>522.28</td>\n",
       "      <td>2388.07</td>\n",
       "      <td>8131.49</td>\n",
       "      <td>8.4318</td>\n",
       "      <td>0.03</td>\n",
       "      <td>392</td>\n",
       "      <td>2388</td>\n",
       "      <td>100.0</td>\n",
       "      <td>39.00</td>\n",
       "      <td>23.4236</td>\n",
       "    </tr>\n",
       "    <tr>\n",
       "      <th>2</th>\n",
       "      <td>1</td>\n",
       "      <td>3</td>\n",
       "      <td>-0.0043</td>\n",
       "      <td>0.0003</td>\n",
       "      <td>100.0</td>\n",
       "      <td>518.67</td>\n",
       "      <td>642.35</td>\n",
       "      <td>1587.99</td>\n",
       "      <td>1404.20</td>\n",
       "      <td>14.62</td>\n",
       "      <td>...</td>\n",
       "      <td>522.42</td>\n",
       "      <td>2388.03</td>\n",
       "      <td>8133.23</td>\n",
       "      <td>8.4178</td>\n",
       "      <td>0.03</td>\n",
       "      <td>390</td>\n",
       "      <td>2388</td>\n",
       "      <td>100.0</td>\n",
       "      <td>38.95</td>\n",
       "      <td>23.3442</td>\n",
       "    </tr>\n",
       "    <tr>\n",
       "      <th>3</th>\n",
       "      <td>1</td>\n",
       "      <td>4</td>\n",
       "      <td>0.0007</td>\n",
       "      <td>0.0000</td>\n",
       "      <td>100.0</td>\n",
       "      <td>518.67</td>\n",
       "      <td>642.35</td>\n",
       "      <td>1582.79</td>\n",
       "      <td>1401.87</td>\n",
       "      <td>14.62</td>\n",
       "      <td>...</td>\n",
       "      <td>522.86</td>\n",
       "      <td>2388.08</td>\n",
       "      <td>8133.83</td>\n",
       "      <td>8.3682</td>\n",
       "      <td>0.03</td>\n",
       "      <td>392</td>\n",
       "      <td>2388</td>\n",
       "      <td>100.0</td>\n",
       "      <td>38.88</td>\n",
       "      <td>23.3739</td>\n",
       "    </tr>\n",
       "    <tr>\n",
       "      <th>4</th>\n",
       "      <td>1</td>\n",
       "      <td>5</td>\n",
       "      <td>-0.0019</td>\n",
       "      <td>-0.0002</td>\n",
       "      <td>100.0</td>\n",
       "      <td>518.67</td>\n",
       "      <td>642.37</td>\n",
       "      <td>1582.85</td>\n",
       "      <td>1406.22</td>\n",
       "      <td>14.62</td>\n",
       "      <td>...</td>\n",
       "      <td>522.19</td>\n",
       "      <td>2388.04</td>\n",
       "      <td>8133.80</td>\n",
       "      <td>8.4294</td>\n",
       "      <td>0.03</td>\n",
       "      <td>393</td>\n",
       "      <td>2388</td>\n",
       "      <td>100.0</td>\n",
       "      <td>38.90</td>\n",
       "      <td>23.4044</td>\n",
       "    </tr>\n",
       "  </tbody>\n",
       "</table>\n",
       "<p>5 rows × 26 columns</p>\n",
       "</div>"
      ],
      "text/plain": [
       "   id  zyklus  setting1  setting2  setting3      s1      s2       s3       s4  \\\n",
       "0   1       1   -0.0007   -0.0004     100.0  518.67  641.82  1589.70  1400.60   \n",
       "1   1       2    0.0019   -0.0003     100.0  518.67  642.15  1591.82  1403.14   \n",
       "2   1       3   -0.0043    0.0003     100.0  518.67  642.35  1587.99  1404.20   \n",
       "3   1       4    0.0007    0.0000     100.0  518.67  642.35  1582.79  1401.87   \n",
       "4   1       5   -0.0019   -0.0002     100.0  518.67  642.37  1582.85  1406.22   \n",
       "\n",
       "      s5  ...     s12      s13      s14     s15   s16  s17   s18    s19  \\\n",
       "0  14.62  ...  521.66  2388.02  8138.62  8.4195  0.03  392  2388  100.0   \n",
       "1  14.62  ...  522.28  2388.07  8131.49  8.4318  0.03  392  2388  100.0   \n",
       "2  14.62  ...  522.42  2388.03  8133.23  8.4178  0.03  390  2388  100.0   \n",
       "3  14.62  ...  522.86  2388.08  8133.83  8.3682  0.03  392  2388  100.0   \n",
       "4  14.62  ...  522.19  2388.04  8133.80  8.4294  0.03  393  2388  100.0   \n",
       "\n",
       "     s20      s21  \n",
       "0  39.06  23.4190  \n",
       "1  39.00  23.4236  \n",
       "2  38.95  23.3442  \n",
       "3  38.88  23.3739  \n",
       "4  38.90  23.4044  \n",
       "\n",
       "[5 rows x 26 columns]"
      ]
     },
     "execution_count": 6,
     "metadata": {},
     "output_type": "execute_result"
    }
   ],
   "source": [
    "train_df = train_df.sort_values(['id','zyklus'])\n",
    "train_df.head()\n"
   ]
  },
  {
   "cell_type": "markdown",
   "metadata": {},
   "source": [
    "# 3. Data Preparation\n",
    "\n",
    "## 3.1 check for null values"
   ]
  },
  {
   "cell_type": "code",
   "execution_count": 7,
   "metadata": {
    "colab": {
     "base_uri": "https://localhost:8080/"
    },
    "executionInfo": {
     "elapsed": 13,
     "status": "ok",
     "timestamp": 1626031922908,
     "user": {
      "displayName": "Lucas Fritzsche",
      "photoUrl": "https://lh3.googleusercontent.com/a-/AOh14Gig9jWRBH9pEsZxAH2T8DAJghA-cFwhfbFplzkmOA=s64",
      "userId": "08959184792999143517"
     },
     "user_tz": -120
    },
    "id": "TWlFNHNbSNmX",
    "outputId": "24c1b018-d8a4-4ae3-f2fd-92bd76b77bcf"
   },
   "outputs": [
    {
     "name": "stdout",
     "output_type": "stream",
     "text": [
      "id          0\n",
      "zyklus      0\n",
      "setting1    0\n",
      "setting2    0\n",
      "setting3    0\n",
      "s1          0\n",
      "s2          0\n",
      "s3          0\n",
      "s4          0\n",
      "s5          0\n",
      "s6          0\n",
      "s7          0\n",
      "s8          0\n",
      "s9          0\n",
      "s10         0\n",
      "s11         0\n",
      "s12         0\n",
      "s13         0\n",
      "s14         0\n",
      "s15         0\n",
      "s16         0\n",
      "s17         0\n",
      "s18         0\n",
      "s19         0\n",
      "s20         0\n",
      "s21         0\n",
      "dtype: int64\n"
     ]
    }
   ],
   "source": [
    "print(train_df.isna().sum())"
   ]
  },
  {
   "cell_type": "code",
   "execution_count": 8,
   "metadata": {
    "colab": {
     "base_uri": "https://localhost:8080/"
    },
    "executionInfo": {
     "elapsed": 10,
     "status": "ok",
     "timestamp": 1626031922908,
     "user": {
      "displayName": "Lucas Fritzsche",
      "photoUrl": "https://lh3.googleusercontent.com/a-/AOh14Gig9jWRBH9pEsZxAH2T8DAJghA-cFwhfbFplzkmOA=s64",
      "userId": "08959184792999143517"
     },
     "user_tz": -120
    },
    "id": "_LeIIMt4SNmY",
    "outputId": "c3fa5022-bc0a-4be4-bde8-d4ee09f09acb"
   },
   "outputs": [
    {
     "name": "stdout",
     "output_type": "stream",
     "text": [
      "id          0\n",
      "zyklus      0\n",
      "setting1    0\n",
      "setting2    0\n",
      "setting3    0\n",
      "s1          0\n",
      "s2          0\n",
      "s3          0\n",
      "s4          0\n",
      "s5          0\n",
      "s6          0\n",
      "s7          0\n",
      "s8          0\n",
      "s9          0\n",
      "s10         0\n",
      "s11         0\n",
      "s12         0\n",
      "s13         0\n",
      "s14         0\n",
      "s15         0\n",
      "s16         0\n",
      "s17         0\n",
      "s18         0\n",
      "s19         0\n",
      "s20         0\n",
      "s21         0\n",
      "dtype: int64\n"
     ]
    }
   ],
   "source": [
    "print(test_df.isna().sum())"
   ]
  },
  {
   "cell_type": "markdown",
   "metadata": {
    "id": "YZhUl3TKSNmZ"
   },
   "source": [
    "There are no Null values  \n",
    "there is no missing data"
   ]
  },
  {
   "cell_type": "markdown",
   "metadata": {},
   "source": []
  },
  {
   "cell_type": "markdown",
   "metadata": {
    "id": "pNqxaXBnSNmb"
   },
   "source": [
    "## 2.1 calculate the remaining days until failure\n",
    "Im ersten Schritt haben wir nun die Daten eingeladen und werden den Trainingsdatensatz nun mit einer weiteren Spalte versehen, nämlich der verbleibenden Zyklen bis zum Austausch des Feuermelders bzw. Bauteils. Im Testdatensatz wird eine weitere Spalten für die binäre Unterscheidung bzw. Klassifikation angelegt. Herauszufinden ist, ob ein spezifischer Feuermelder (ID) innerhalb w1-Zyklen ausfällt, weshalb hier für w1 ein fiktiver Wert von 1 gewählt wird (1 Tag)."
   ]
  },
  {
   "cell_type": "code",
   "execution_count": 9,
   "metadata": {
    "colab": {
     "base_uri": "https://localhost:8080/",
     "height": 239
    },
    "executionInfo": {
     "elapsed": 404,
     "status": "ok",
     "timestamp": 1626031923305,
     "user": {
      "displayName": "Lucas Fritzsche",
      "photoUrl": "https://lh3.googleusercontent.com/a-/AOh14Gig9jWRBH9pEsZxAH2T8DAJghA-cFwhfbFplzkmOA=s64",
      "userId": "08959184792999143517"
     },
     "user_tz": -120
    },
    "id": "QPqTO_ukSNmc",
    "outputId": "db776cbc-8965-4323-d883-c55b38f134be"
   },
   "outputs": [
    {
     "data": {
      "text/html": [
       "<div>\n",
       "<style scoped>\n",
       "    .dataframe tbody tr th:only-of-type {\n",
       "        vertical-align: middle;\n",
       "    }\n",
       "\n",
       "    .dataframe tbody tr th {\n",
       "        vertical-align: top;\n",
       "    }\n",
       "\n",
       "    .dataframe thead th {\n",
       "        text-align: right;\n",
       "    }\n",
       "</style>\n",
       "<table border=\"1\" class=\"dataframe\">\n",
       "  <thead>\n",
       "    <tr style=\"text-align: right;\">\n",
       "      <th></th>\n",
       "      <th>id</th>\n",
       "      <th>zyklus</th>\n",
       "      <th>setting1</th>\n",
       "      <th>setting2</th>\n",
       "      <th>setting3</th>\n",
       "      <th>s1</th>\n",
       "      <th>s2</th>\n",
       "      <th>s3</th>\n",
       "      <th>s4</th>\n",
       "      <th>s5</th>\n",
       "      <th>...</th>\n",
       "      <th>s13</th>\n",
       "      <th>s14</th>\n",
       "      <th>s15</th>\n",
       "      <th>s16</th>\n",
       "      <th>s17</th>\n",
       "      <th>s18</th>\n",
       "      <th>s19</th>\n",
       "      <th>s20</th>\n",
       "      <th>s21</th>\n",
       "      <th>remaining_days_until_Failure</th>\n",
       "    </tr>\n",
       "  </thead>\n",
       "  <tbody>\n",
       "    <tr>\n",
       "      <th>0</th>\n",
       "      <td>1</td>\n",
       "      <td>1</td>\n",
       "      <td>-0.0007</td>\n",
       "      <td>-0.0004</td>\n",
       "      <td>100.0</td>\n",
       "      <td>518.67</td>\n",
       "      <td>641.82</td>\n",
       "      <td>1589.70</td>\n",
       "      <td>1400.60</td>\n",
       "      <td>14.62</td>\n",
       "      <td>...</td>\n",
       "      <td>2388.02</td>\n",
       "      <td>8138.62</td>\n",
       "      <td>8.4195</td>\n",
       "      <td>0.03</td>\n",
       "      <td>392</td>\n",
       "      <td>2388</td>\n",
       "      <td>100.0</td>\n",
       "      <td>39.06</td>\n",
       "      <td>23.4190</td>\n",
       "      <td>191</td>\n",
       "    </tr>\n",
       "    <tr>\n",
       "      <th>1</th>\n",
       "      <td>1</td>\n",
       "      <td>2</td>\n",
       "      <td>0.0019</td>\n",
       "      <td>-0.0003</td>\n",
       "      <td>100.0</td>\n",
       "      <td>518.67</td>\n",
       "      <td>642.15</td>\n",
       "      <td>1591.82</td>\n",
       "      <td>1403.14</td>\n",
       "      <td>14.62</td>\n",
       "      <td>...</td>\n",
       "      <td>2388.07</td>\n",
       "      <td>8131.49</td>\n",
       "      <td>8.4318</td>\n",
       "      <td>0.03</td>\n",
       "      <td>392</td>\n",
       "      <td>2388</td>\n",
       "      <td>100.0</td>\n",
       "      <td>39.00</td>\n",
       "      <td>23.4236</td>\n",
       "      <td>190</td>\n",
       "    </tr>\n",
       "    <tr>\n",
       "      <th>2</th>\n",
       "      <td>1</td>\n",
       "      <td>3</td>\n",
       "      <td>-0.0043</td>\n",
       "      <td>0.0003</td>\n",
       "      <td>100.0</td>\n",
       "      <td>518.67</td>\n",
       "      <td>642.35</td>\n",
       "      <td>1587.99</td>\n",
       "      <td>1404.20</td>\n",
       "      <td>14.62</td>\n",
       "      <td>...</td>\n",
       "      <td>2388.03</td>\n",
       "      <td>8133.23</td>\n",
       "      <td>8.4178</td>\n",
       "      <td>0.03</td>\n",
       "      <td>390</td>\n",
       "      <td>2388</td>\n",
       "      <td>100.0</td>\n",
       "      <td>38.95</td>\n",
       "      <td>23.3442</td>\n",
       "      <td>189</td>\n",
       "    </tr>\n",
       "    <tr>\n",
       "      <th>3</th>\n",
       "      <td>1</td>\n",
       "      <td>4</td>\n",
       "      <td>0.0007</td>\n",
       "      <td>0.0000</td>\n",
       "      <td>100.0</td>\n",
       "      <td>518.67</td>\n",
       "      <td>642.35</td>\n",
       "      <td>1582.79</td>\n",
       "      <td>1401.87</td>\n",
       "      <td>14.62</td>\n",
       "      <td>...</td>\n",
       "      <td>2388.08</td>\n",
       "      <td>8133.83</td>\n",
       "      <td>8.3682</td>\n",
       "      <td>0.03</td>\n",
       "      <td>392</td>\n",
       "      <td>2388</td>\n",
       "      <td>100.0</td>\n",
       "      <td>38.88</td>\n",
       "      <td>23.3739</td>\n",
       "      <td>188</td>\n",
       "    </tr>\n",
       "    <tr>\n",
       "      <th>4</th>\n",
       "      <td>1</td>\n",
       "      <td>5</td>\n",
       "      <td>-0.0019</td>\n",
       "      <td>-0.0002</td>\n",
       "      <td>100.0</td>\n",
       "      <td>518.67</td>\n",
       "      <td>642.37</td>\n",
       "      <td>1582.85</td>\n",
       "      <td>1406.22</td>\n",
       "      <td>14.62</td>\n",
       "      <td>...</td>\n",
       "      <td>2388.04</td>\n",
       "      <td>8133.80</td>\n",
       "      <td>8.4294</td>\n",
       "      <td>0.03</td>\n",
       "      <td>393</td>\n",
       "      <td>2388</td>\n",
       "      <td>100.0</td>\n",
       "      <td>38.90</td>\n",
       "      <td>23.4044</td>\n",
       "      <td>187</td>\n",
       "    </tr>\n",
       "  </tbody>\n",
       "</table>\n",
       "<p>5 rows × 27 columns</p>\n",
       "</div>"
      ],
      "text/plain": [
       "   id  zyklus  setting1  setting2  setting3      s1      s2       s3       s4  \\\n",
       "0   1       1   -0.0007   -0.0004     100.0  518.67  641.82  1589.70  1400.60   \n",
       "1   1       2    0.0019   -0.0003     100.0  518.67  642.15  1591.82  1403.14   \n",
       "2   1       3   -0.0043    0.0003     100.0  518.67  642.35  1587.99  1404.20   \n",
       "3   1       4    0.0007    0.0000     100.0  518.67  642.35  1582.79  1401.87   \n",
       "4   1       5   -0.0019   -0.0002     100.0  518.67  642.37  1582.85  1406.22   \n",
       "\n",
       "      s5  ...      s13      s14     s15   s16  s17   s18    s19    s20  \\\n",
       "0  14.62  ...  2388.02  8138.62  8.4195  0.03  392  2388  100.0  39.06   \n",
       "1  14.62  ...  2388.07  8131.49  8.4318  0.03  392  2388  100.0  39.00   \n",
       "2  14.62  ...  2388.03  8133.23  8.4178  0.03  390  2388  100.0  38.95   \n",
       "3  14.62  ...  2388.08  8133.83  8.3682  0.03  392  2388  100.0  38.88   \n",
       "4  14.62  ...  2388.04  8133.80  8.4294  0.03  393  2388  100.0  38.90   \n",
       "\n",
       "       s21  remaining_days_until_Failure  \n",
       "0  23.4190                           191  \n",
       "1  23.4236                           190  \n",
       "2  23.3442                           189  \n",
       "3  23.3739                           188  \n",
       "4  23.4044                           187  \n",
       "\n",
       "[5 rows x 27 columns]"
      ]
     },
     "execution_count": 9,
     "metadata": {},
     "output_type": "execute_result"
    }
   ],
   "source": [
    "remaining_days_until_F = pd.DataFrame(train_df.groupby('id')['zyklus'].max()).reset_index()\n",
    "remaining_days_until_F.columns = ['id', 'max']\n",
    "train_df = train_df.merge(remaining_days_until_F, on=['id'], how='left')\n",
    "train_df['remaining_days_until_Failure'] = train_df['max'] - train_df['zyklus']\n",
    "train_df.drop('max', axis=1, inplace=True)\n",
    "train_df.head()"
   ]
  },
  {
   "cell_type": "code",
   "execution_count": 10,
   "metadata": {
    "colab": {
     "base_uri": "https://localhost:8080/",
     "height": 239
    },
    "executionInfo": {
     "elapsed": 10,
     "status": "ok",
     "timestamp": 1626031923305,
     "user": {
      "displayName": "Lucas Fritzsche",
      "photoUrl": "https://lh3.googleusercontent.com/a-/AOh14Gig9jWRBH9pEsZxAH2T8DAJghA-cFwhfbFplzkmOA=s64",
      "userId": "08959184792999143517"
     },
     "user_tz": -120
    },
    "id": "dCduaWY6SNmc",
    "outputId": "f9f56066-efae-4097-a726-12731b7ecbce"
   },
   "outputs": [
    {
     "data": {
      "text/html": [
       "<div>\n",
       "<style scoped>\n",
       "    .dataframe tbody tr th:only-of-type {\n",
       "        vertical-align: middle;\n",
       "    }\n",
       "\n",
       "    .dataframe tbody tr th {\n",
       "        vertical-align: top;\n",
       "    }\n",
       "\n",
       "    .dataframe thead th {\n",
       "        text-align: right;\n",
       "    }\n",
       "</style>\n",
       "<table border=\"1\" class=\"dataframe\">\n",
       "  <thead>\n",
       "    <tr style=\"text-align: right;\">\n",
       "      <th></th>\n",
       "      <th>id</th>\n",
       "      <th>zyklus</th>\n",
       "      <th>setting1</th>\n",
       "      <th>setting2</th>\n",
       "      <th>setting3</th>\n",
       "      <th>s1</th>\n",
       "      <th>s2</th>\n",
       "      <th>s3</th>\n",
       "      <th>s4</th>\n",
       "      <th>s5</th>\n",
       "      <th>...</th>\n",
       "      <th>s15</th>\n",
       "      <th>s16</th>\n",
       "      <th>s17</th>\n",
       "      <th>s18</th>\n",
       "      <th>s19</th>\n",
       "      <th>s20</th>\n",
       "      <th>s21</th>\n",
       "      <th>remaining_days_until_Failure</th>\n",
       "      <th>label1</th>\n",
       "      <th>label2</th>\n",
       "    </tr>\n",
       "  </thead>\n",
       "  <tbody>\n",
       "    <tr>\n",
       "      <th>0</th>\n",
       "      <td>1</td>\n",
       "      <td>1</td>\n",
       "      <td>-0.0007</td>\n",
       "      <td>-0.0004</td>\n",
       "      <td>100.0</td>\n",
       "      <td>518.67</td>\n",
       "      <td>641.82</td>\n",
       "      <td>1589.70</td>\n",
       "      <td>1400.60</td>\n",
       "      <td>14.62</td>\n",
       "      <td>...</td>\n",
       "      <td>8.4195</td>\n",
       "      <td>0.03</td>\n",
       "      <td>392</td>\n",
       "      <td>2388</td>\n",
       "      <td>100.0</td>\n",
       "      <td>39.06</td>\n",
       "      <td>23.4190</td>\n",
       "      <td>191</td>\n",
       "      <td>0</td>\n",
       "      <td>0</td>\n",
       "    </tr>\n",
       "    <tr>\n",
       "      <th>1</th>\n",
       "      <td>1</td>\n",
       "      <td>2</td>\n",
       "      <td>0.0019</td>\n",
       "      <td>-0.0003</td>\n",
       "      <td>100.0</td>\n",
       "      <td>518.67</td>\n",
       "      <td>642.15</td>\n",
       "      <td>1591.82</td>\n",
       "      <td>1403.14</td>\n",
       "      <td>14.62</td>\n",
       "      <td>...</td>\n",
       "      <td>8.4318</td>\n",
       "      <td>0.03</td>\n",
       "      <td>392</td>\n",
       "      <td>2388</td>\n",
       "      <td>100.0</td>\n",
       "      <td>39.00</td>\n",
       "      <td>23.4236</td>\n",
       "      <td>190</td>\n",
       "      <td>0</td>\n",
       "      <td>0</td>\n",
       "    </tr>\n",
       "    <tr>\n",
       "      <th>2</th>\n",
       "      <td>1</td>\n",
       "      <td>3</td>\n",
       "      <td>-0.0043</td>\n",
       "      <td>0.0003</td>\n",
       "      <td>100.0</td>\n",
       "      <td>518.67</td>\n",
       "      <td>642.35</td>\n",
       "      <td>1587.99</td>\n",
       "      <td>1404.20</td>\n",
       "      <td>14.62</td>\n",
       "      <td>...</td>\n",
       "      <td>8.4178</td>\n",
       "      <td>0.03</td>\n",
       "      <td>390</td>\n",
       "      <td>2388</td>\n",
       "      <td>100.0</td>\n",
       "      <td>38.95</td>\n",
       "      <td>23.3442</td>\n",
       "      <td>189</td>\n",
       "      <td>0</td>\n",
       "      <td>0</td>\n",
       "    </tr>\n",
       "    <tr>\n",
       "      <th>3</th>\n",
       "      <td>1</td>\n",
       "      <td>4</td>\n",
       "      <td>0.0007</td>\n",
       "      <td>0.0000</td>\n",
       "      <td>100.0</td>\n",
       "      <td>518.67</td>\n",
       "      <td>642.35</td>\n",
       "      <td>1582.79</td>\n",
       "      <td>1401.87</td>\n",
       "      <td>14.62</td>\n",
       "      <td>...</td>\n",
       "      <td>8.3682</td>\n",
       "      <td>0.03</td>\n",
       "      <td>392</td>\n",
       "      <td>2388</td>\n",
       "      <td>100.0</td>\n",
       "      <td>38.88</td>\n",
       "      <td>23.3739</td>\n",
       "      <td>188</td>\n",
       "      <td>0</td>\n",
       "      <td>0</td>\n",
       "    </tr>\n",
       "    <tr>\n",
       "      <th>4</th>\n",
       "      <td>1</td>\n",
       "      <td>5</td>\n",
       "      <td>-0.0019</td>\n",
       "      <td>-0.0002</td>\n",
       "      <td>100.0</td>\n",
       "      <td>518.67</td>\n",
       "      <td>642.37</td>\n",
       "      <td>1582.85</td>\n",
       "      <td>1406.22</td>\n",
       "      <td>14.62</td>\n",
       "      <td>...</td>\n",
       "      <td>8.4294</td>\n",
       "      <td>0.03</td>\n",
       "      <td>393</td>\n",
       "      <td>2388</td>\n",
       "      <td>100.0</td>\n",
       "      <td>38.90</td>\n",
       "      <td>23.4044</td>\n",
       "      <td>187</td>\n",
       "      <td>0</td>\n",
       "      <td>0</td>\n",
       "    </tr>\n",
       "  </tbody>\n",
       "</table>\n",
       "<p>5 rows × 29 columns</p>\n",
       "</div>"
      ],
      "text/plain": [
       "   id  zyklus  setting1  setting2  setting3      s1      s2       s3       s4  \\\n",
       "0   1       1   -0.0007   -0.0004     100.0  518.67  641.82  1589.70  1400.60   \n",
       "1   1       2    0.0019   -0.0003     100.0  518.67  642.15  1591.82  1403.14   \n",
       "2   1       3   -0.0043    0.0003     100.0  518.67  642.35  1587.99  1404.20   \n",
       "3   1       4    0.0007    0.0000     100.0  518.67  642.35  1582.79  1401.87   \n",
       "4   1       5   -0.0019   -0.0002     100.0  518.67  642.37  1582.85  1406.22   \n",
       "\n",
       "      s5  ...     s15   s16  s17   s18    s19    s20      s21  \\\n",
       "0  14.62  ...  8.4195  0.03  392  2388  100.0  39.06  23.4190   \n",
       "1  14.62  ...  8.4318  0.03  392  2388  100.0  39.00  23.4236   \n",
       "2  14.62  ...  8.4178  0.03  390  2388  100.0  38.95  23.3442   \n",
       "3  14.62  ...  8.3682  0.03  392  2388  100.0  38.88  23.3739   \n",
       "4  14.62  ...  8.4294  0.03  393  2388  100.0  38.90  23.4044   \n",
       "\n",
       "   remaining_days_until_Failure  label1  label2  \n",
       "0                           191       0       0  \n",
       "1                           190       0       0  \n",
       "2                           189       0       0  \n",
       "3                           188       0       0  \n",
       "4                           187       0       0  \n",
       "\n",
       "[5 rows x 29 columns]"
      ]
     },
     "execution_count": 10,
     "metadata": {},
     "output_type": "execute_result"
    }
   ],
   "source": [
    "w1 = 20\n",
    "w0 = 10\n",
    "train_df['label1'] = np.where(train_df['remaining_days_until_Failure'] <= w1, 1, 0 )\n",
    "train_df['label2'] = train_df['label1']\n",
    "train_df.loc[train_df['remaining_days_until_Failure'] <= w0, 'label2'] = 2\n",
    "train_df.head()\n"
   ]
  },
  {
   "cell_type": "markdown",
   "metadata": {
    "id": "cfokSoC9SNmd"
   },
   "source": [
    "The cycle column \"cycle\" is to be normalized by means of a MinMax normalization, which is why a column with the normalized values is also created"
   ]
  },
  {
   "cell_type": "code",
   "execution_count": 11,
   "metadata": {
    "colab": {
     "base_uri": "https://localhost:8080/",
     "height": 239
    },
    "executionInfo": {
     "elapsed": 9,
     "status": "ok",
     "timestamp": 1626031923306,
     "user": {
      "displayName": "Lucas Fritzsche",
      "photoUrl": "https://lh3.googleusercontent.com/a-/AOh14Gig9jWRBH9pEsZxAH2T8DAJghA-cFwhfbFplzkmOA=s64",
      "userId": "08959184792999143517"
     },
     "user_tz": -120
    },
    "id": "KnXSscyYSNme",
    "outputId": "c7eb190a-b106-4aaa-ff40-e69d38be48d4"
   },
   "outputs": [
    {
     "data": {
      "text/html": [
       "<div>\n",
       "<style scoped>\n",
       "    .dataframe tbody tr th:only-of-type {\n",
       "        vertical-align: middle;\n",
       "    }\n",
       "\n",
       "    .dataframe tbody tr th {\n",
       "        vertical-align: top;\n",
       "    }\n",
       "\n",
       "    .dataframe thead th {\n",
       "        text-align: right;\n",
       "    }\n",
       "</style>\n",
       "<table border=\"1\" class=\"dataframe\">\n",
       "  <thead>\n",
       "    <tr style=\"text-align: right;\">\n",
       "      <th></th>\n",
       "      <th>id</th>\n",
       "      <th>zyklus</th>\n",
       "      <th>setting1</th>\n",
       "      <th>setting2</th>\n",
       "      <th>setting3</th>\n",
       "      <th>s1</th>\n",
       "      <th>s2</th>\n",
       "      <th>s3</th>\n",
       "      <th>s4</th>\n",
       "      <th>s5</th>\n",
       "      <th>...</th>\n",
       "      <th>s16</th>\n",
       "      <th>s17</th>\n",
       "      <th>s18</th>\n",
       "      <th>s19</th>\n",
       "      <th>s20</th>\n",
       "      <th>s21</th>\n",
       "      <th>remaining_days_until_Failure</th>\n",
       "      <th>label1</th>\n",
       "      <th>label2</th>\n",
       "      <th>Zyklus normalisiert</th>\n",
       "    </tr>\n",
       "  </thead>\n",
       "  <tbody>\n",
       "    <tr>\n",
       "      <th>0</th>\n",
       "      <td>1</td>\n",
       "      <td>1</td>\n",
       "      <td>0.459770</td>\n",
       "      <td>0.166667</td>\n",
       "      <td>0.0</td>\n",
       "      <td>0.0</td>\n",
       "      <td>0.183735</td>\n",
       "      <td>0.406802</td>\n",
       "      <td>0.309757</td>\n",
       "      <td>0.0</td>\n",
       "      <td>...</td>\n",
       "      <td>0.0</td>\n",
       "      <td>0.333333</td>\n",
       "      <td>0.0</td>\n",
       "      <td>0.0</td>\n",
       "      <td>0.713178</td>\n",
       "      <td>0.724662</td>\n",
       "      <td>191</td>\n",
       "      <td>0</td>\n",
       "      <td>0</td>\n",
       "      <td>0.00000</td>\n",
       "    </tr>\n",
       "    <tr>\n",
       "      <th>1</th>\n",
       "      <td>1</td>\n",
       "      <td>2</td>\n",
       "      <td>0.609195</td>\n",
       "      <td>0.250000</td>\n",
       "      <td>0.0</td>\n",
       "      <td>0.0</td>\n",
       "      <td>0.283133</td>\n",
       "      <td>0.453019</td>\n",
       "      <td>0.352633</td>\n",
       "      <td>0.0</td>\n",
       "      <td>...</td>\n",
       "      <td>0.0</td>\n",
       "      <td>0.333333</td>\n",
       "      <td>0.0</td>\n",
       "      <td>0.0</td>\n",
       "      <td>0.666667</td>\n",
       "      <td>0.731014</td>\n",
       "      <td>190</td>\n",
       "      <td>0</td>\n",
       "      <td>0</td>\n",
       "      <td>0.00277</td>\n",
       "    </tr>\n",
       "    <tr>\n",
       "      <th>2</th>\n",
       "      <td>1</td>\n",
       "      <td>3</td>\n",
       "      <td>0.252874</td>\n",
       "      <td>0.750000</td>\n",
       "      <td>0.0</td>\n",
       "      <td>0.0</td>\n",
       "      <td>0.343373</td>\n",
       "      <td>0.369523</td>\n",
       "      <td>0.370527</td>\n",
       "      <td>0.0</td>\n",
       "      <td>...</td>\n",
       "      <td>0.0</td>\n",
       "      <td>0.166667</td>\n",
       "      <td>0.0</td>\n",
       "      <td>0.0</td>\n",
       "      <td>0.627907</td>\n",
       "      <td>0.621375</td>\n",
       "      <td>189</td>\n",
       "      <td>0</td>\n",
       "      <td>0</td>\n",
       "      <td>0.00554</td>\n",
       "    </tr>\n",
       "    <tr>\n",
       "      <th>3</th>\n",
       "      <td>1</td>\n",
       "      <td>4</td>\n",
       "      <td>0.540230</td>\n",
       "      <td>0.500000</td>\n",
       "      <td>0.0</td>\n",
       "      <td>0.0</td>\n",
       "      <td>0.343373</td>\n",
       "      <td>0.256159</td>\n",
       "      <td>0.331195</td>\n",
       "      <td>0.0</td>\n",
       "      <td>...</td>\n",
       "      <td>0.0</td>\n",
       "      <td>0.333333</td>\n",
       "      <td>0.0</td>\n",
       "      <td>0.0</td>\n",
       "      <td>0.573643</td>\n",
       "      <td>0.662386</td>\n",
       "      <td>188</td>\n",
       "      <td>0</td>\n",
       "      <td>0</td>\n",
       "      <td>0.00831</td>\n",
       "    </tr>\n",
       "    <tr>\n",
       "      <th>4</th>\n",
       "      <td>1</td>\n",
       "      <td>5</td>\n",
       "      <td>0.390805</td>\n",
       "      <td>0.333333</td>\n",
       "      <td>0.0</td>\n",
       "      <td>0.0</td>\n",
       "      <td>0.349398</td>\n",
       "      <td>0.257467</td>\n",
       "      <td>0.404625</td>\n",
       "      <td>0.0</td>\n",
       "      <td>...</td>\n",
       "      <td>0.0</td>\n",
       "      <td>0.416667</td>\n",
       "      <td>0.0</td>\n",
       "      <td>0.0</td>\n",
       "      <td>0.589147</td>\n",
       "      <td>0.704502</td>\n",
       "      <td>187</td>\n",
       "      <td>0</td>\n",
       "      <td>0</td>\n",
       "      <td>0.01108</td>\n",
       "    </tr>\n",
       "  </tbody>\n",
       "</table>\n",
       "<p>5 rows × 30 columns</p>\n",
       "</div>"
      ],
      "text/plain": [
       "   id  zyklus  setting1  setting2  setting3   s1        s2        s3  \\\n",
       "0   1       1  0.459770  0.166667       0.0  0.0  0.183735  0.406802   \n",
       "1   1       2  0.609195  0.250000       0.0  0.0  0.283133  0.453019   \n",
       "2   1       3  0.252874  0.750000       0.0  0.0  0.343373  0.369523   \n",
       "3   1       4  0.540230  0.500000       0.0  0.0  0.343373  0.256159   \n",
       "4   1       5  0.390805  0.333333       0.0  0.0  0.349398  0.257467   \n",
       "\n",
       "         s4   s5  ...  s16       s17  s18  s19       s20       s21  \\\n",
       "0  0.309757  0.0  ...  0.0  0.333333  0.0  0.0  0.713178  0.724662   \n",
       "1  0.352633  0.0  ...  0.0  0.333333  0.0  0.0  0.666667  0.731014   \n",
       "2  0.370527  0.0  ...  0.0  0.166667  0.0  0.0  0.627907  0.621375   \n",
       "3  0.331195  0.0  ...  0.0  0.333333  0.0  0.0  0.573643  0.662386   \n",
       "4  0.404625  0.0  ...  0.0  0.416667  0.0  0.0  0.589147  0.704502   \n",
       "\n",
       "   remaining_days_until_Failure  label1  label2  Zyklus normalisiert  \n",
       "0                           191       0       0              0.00000  \n",
       "1                           190       0       0              0.00277  \n",
       "2                           189       0       0              0.00554  \n",
       "3                           188       0       0              0.00831  \n",
       "4                           187       0       0              0.01108  \n",
       "\n",
       "[5 rows x 30 columns]"
      ]
     },
     "execution_count": 11,
     "metadata": {},
     "output_type": "execute_result"
    }
   ],
   "source": [
    "train_df['Zyklus normalisiert'] = train_df['zyklus']\n",
    "cols_normalize = train_df.columns.difference(['id','zyklus','remaining_days_until_Failure','label1','label2'])\n",
    "\n",
    "minmax = preprocessing.MinMaxScaler()\n",
    "norm_train_df = pd.DataFrame(minmax.fit_transform(train_df[cols_normalize]), \n",
    "                             columns=cols_normalize, \n",
    "                             index=train_df.index)\n",
    "join_df = train_df[train_df.columns.difference(cols_normalize)].join(norm_train_df)\n",
    "train_df = join_df.reindex(columns = train_df.columns)\n",
    "train_df.head()\n"
   ]
  },
  {
   "cell_type": "markdown",
   "metadata": {
    "id": "BuhuRzZsSNme"
   },
   "source": [
    "Da nun eine Normalisierung der Trainingsdaten stattgefunden hat, wird für die Testdaten ebenfalls eine Normalisierung der Zyklen durchgeführt."
   ]
  },
  {
   "cell_type": "code",
   "execution_count": 12,
   "metadata": {
    "colab": {
     "base_uri": "https://localhost:8080/",
     "height": 239
    },
    "executionInfo": {
     "elapsed": 8,
     "status": "ok",
     "timestamp": 1626031923306,
     "user": {
      "displayName": "Lucas Fritzsche",
      "photoUrl": "https://lh3.googleusercontent.com/a-/AOh14Gig9jWRBH9pEsZxAH2T8DAJghA-cFwhfbFplzkmOA=s64",
      "userId": "08959184792999143517"
     },
     "user_tz": -120
    },
    "id": "PLBydotOSNmf",
    "outputId": "b174bee7-a121-4463-cbad-815ec07a2638"
   },
   "outputs": [
    {
     "data": {
      "text/html": [
       "<div>\n",
       "<style scoped>\n",
       "    .dataframe tbody tr th:only-of-type {\n",
       "        vertical-align: middle;\n",
       "    }\n",
       "\n",
       "    .dataframe tbody tr th {\n",
       "        vertical-align: top;\n",
       "    }\n",
       "\n",
       "    .dataframe thead th {\n",
       "        text-align: right;\n",
       "    }\n",
       "</style>\n",
       "<table border=\"1\" class=\"dataframe\">\n",
       "  <thead>\n",
       "    <tr style=\"text-align: right;\">\n",
       "      <th></th>\n",
       "      <th>id</th>\n",
       "      <th>zyklus</th>\n",
       "      <th>setting1</th>\n",
       "      <th>setting2</th>\n",
       "      <th>setting3</th>\n",
       "      <th>s1</th>\n",
       "      <th>s2</th>\n",
       "      <th>s3</th>\n",
       "      <th>s4</th>\n",
       "      <th>s5</th>\n",
       "      <th>...</th>\n",
       "      <th>s13</th>\n",
       "      <th>s14</th>\n",
       "      <th>s15</th>\n",
       "      <th>s16</th>\n",
       "      <th>s17</th>\n",
       "      <th>s18</th>\n",
       "      <th>s19</th>\n",
       "      <th>s20</th>\n",
       "      <th>s21</th>\n",
       "      <th>Zyklus normalisiert</th>\n",
       "    </tr>\n",
       "  </thead>\n",
       "  <tbody>\n",
       "    <tr>\n",
       "      <th>0</th>\n",
       "      <td>1</td>\n",
       "      <td>1</td>\n",
       "      <td>0.632184</td>\n",
       "      <td>0.750000</td>\n",
       "      <td>0.0</td>\n",
       "      <td>0.0</td>\n",
       "      <td>0.545181</td>\n",
       "      <td>0.310661</td>\n",
       "      <td>0.269413</td>\n",
       "      <td>0.0</td>\n",
       "      <td>...</td>\n",
       "      <td>0.220588</td>\n",
       "      <td>0.132160</td>\n",
       "      <td>0.308965</td>\n",
       "      <td>0.0</td>\n",
       "      <td>0.333333</td>\n",
       "      <td>0.0</td>\n",
       "      <td>0.0</td>\n",
       "      <td>0.558140</td>\n",
       "      <td>0.661834</td>\n",
       "      <td>0.00000</td>\n",
       "    </tr>\n",
       "    <tr>\n",
       "      <th>1</th>\n",
       "      <td>1</td>\n",
       "      <td>2</td>\n",
       "      <td>0.344828</td>\n",
       "      <td>0.250000</td>\n",
       "      <td>0.0</td>\n",
       "      <td>0.0</td>\n",
       "      <td>0.150602</td>\n",
       "      <td>0.379551</td>\n",
       "      <td>0.222316</td>\n",
       "      <td>0.0</td>\n",
       "      <td>...</td>\n",
       "      <td>0.264706</td>\n",
       "      <td>0.204768</td>\n",
       "      <td>0.213159</td>\n",
       "      <td>0.0</td>\n",
       "      <td>0.416667</td>\n",
       "      <td>0.0</td>\n",
       "      <td>0.0</td>\n",
       "      <td>0.682171</td>\n",
       "      <td>0.686827</td>\n",
       "      <td>0.00277</td>\n",
       "    </tr>\n",
       "    <tr>\n",
       "      <th>2</th>\n",
       "      <td>1</td>\n",
       "      <td>3</td>\n",
       "      <td>0.517241</td>\n",
       "      <td>0.583333</td>\n",
       "      <td>0.0</td>\n",
       "      <td>0.0</td>\n",
       "      <td>0.376506</td>\n",
       "      <td>0.346632</td>\n",
       "      <td>0.322248</td>\n",
       "      <td>0.0</td>\n",
       "      <td>...</td>\n",
       "      <td>0.220588</td>\n",
       "      <td>0.155640</td>\n",
       "      <td>0.458638</td>\n",
       "      <td>0.0</td>\n",
       "      <td>0.416667</td>\n",
       "      <td>0.0</td>\n",
       "      <td>0.0</td>\n",
       "      <td>0.728682</td>\n",
       "      <td>0.721348</td>\n",
       "      <td>0.00554</td>\n",
       "    </tr>\n",
       "    <tr>\n",
       "      <th>3</th>\n",
       "      <td>1</td>\n",
       "      <td>4</td>\n",
       "      <td>0.741379</td>\n",
       "      <td>0.500000</td>\n",
       "      <td>0.0</td>\n",
       "      <td>0.0</td>\n",
       "      <td>0.370482</td>\n",
       "      <td>0.285154</td>\n",
       "      <td>0.408001</td>\n",
       "      <td>0.0</td>\n",
       "      <td>...</td>\n",
       "      <td>0.250000</td>\n",
       "      <td>0.170090</td>\n",
       "      <td>0.257022</td>\n",
       "      <td>0.0</td>\n",
       "      <td>0.250000</td>\n",
       "      <td>0.0</td>\n",
       "      <td>0.0</td>\n",
       "      <td>0.666667</td>\n",
       "      <td>0.662110</td>\n",
       "      <td>0.00831</td>\n",
       "    </tr>\n",
       "    <tr>\n",
       "      <th>4</th>\n",
       "      <td>1</td>\n",
       "      <td>5</td>\n",
       "      <td>0.580460</td>\n",
       "      <td>0.500000</td>\n",
       "      <td>0.0</td>\n",
       "      <td>0.0</td>\n",
       "      <td>0.391566</td>\n",
       "      <td>0.352082</td>\n",
       "      <td>0.332039</td>\n",
       "      <td>0.0</td>\n",
       "      <td>...</td>\n",
       "      <td>0.220588</td>\n",
       "      <td>0.152751</td>\n",
       "      <td>0.300885</td>\n",
       "      <td>0.0</td>\n",
       "      <td>0.166667</td>\n",
       "      <td>0.0</td>\n",
       "      <td>0.0</td>\n",
       "      <td>0.658915</td>\n",
       "      <td>0.716377</td>\n",
       "      <td>0.01108</td>\n",
       "    </tr>\n",
       "  </tbody>\n",
       "</table>\n",
       "<p>5 rows × 27 columns</p>\n",
       "</div>"
      ],
      "text/plain": [
       "   id  zyklus  setting1  setting2  setting3   s1        s2        s3  \\\n",
       "0   1       1  0.632184  0.750000       0.0  0.0  0.545181  0.310661   \n",
       "1   1       2  0.344828  0.250000       0.0  0.0  0.150602  0.379551   \n",
       "2   1       3  0.517241  0.583333       0.0  0.0  0.376506  0.346632   \n",
       "3   1       4  0.741379  0.500000       0.0  0.0  0.370482  0.285154   \n",
       "4   1       5  0.580460  0.500000       0.0  0.0  0.391566  0.352082   \n",
       "\n",
       "         s4   s5  ...       s13       s14       s15  s16       s17  s18  s19  \\\n",
       "0  0.269413  0.0  ...  0.220588  0.132160  0.308965  0.0  0.333333  0.0  0.0   \n",
       "1  0.222316  0.0  ...  0.264706  0.204768  0.213159  0.0  0.416667  0.0  0.0   \n",
       "2  0.322248  0.0  ...  0.220588  0.155640  0.458638  0.0  0.416667  0.0  0.0   \n",
       "3  0.408001  0.0  ...  0.250000  0.170090  0.257022  0.0  0.250000  0.0  0.0   \n",
       "4  0.332039  0.0  ...  0.220588  0.152751  0.300885  0.0  0.166667  0.0  0.0   \n",
       "\n",
       "        s20       s21  Zyklus normalisiert  \n",
       "0  0.558140  0.661834              0.00000  \n",
       "1  0.682171  0.686827              0.00277  \n",
       "2  0.728682  0.721348              0.00554  \n",
       "3  0.666667  0.662110              0.00831  \n",
       "4  0.658915  0.716377              0.01108  \n",
       "\n",
       "[5 rows x 27 columns]"
      ]
     },
     "execution_count": 12,
     "metadata": {},
     "output_type": "execute_result"
    }
   ],
   "source": [
    "test_df['Zyklus normalisiert'] = test_df['zyklus']\n",
    "norm_test_df = pd.DataFrame(minmax.transform(test_df[cols_normalize]), \n",
    "                            columns=cols_normalize, \n",
    "                            index=test_df.index)\n",
    "test_join_df = test_df[test_df.columns.difference(cols_normalize)].join(norm_test_df)\n",
    "test_df = test_join_df.reindex(columns = test_df.columns)\n",
    "test_df = test_df.reset_index(drop=True)\n",
    "test_df.head()\n"
   ]
  },
  {
   "cell_type": "markdown",
   "metadata": {
    "id": "2PSDbKL-SNmh"
   },
   "source": [
    "Next, we use the truth data to generate the labels for the test data."
   ]
  },
  {
   "cell_type": "code",
   "execution_count": 13,
   "metadata": {
    "executionInfo": {
     "elapsed": 7,
     "status": "ok",
     "timestamp": 1626031923306,
     "user": {
      "displayName": "Lucas Fritzsche",
      "photoUrl": "https://lh3.googleusercontent.com/a-/AOh14Gig9jWRBH9pEsZxAH2T8DAJghA-cFwhfbFplzkmOA=s64",
      "userId": "08959184792999143517"
     },
     "user_tz": -120
    },
    "id": "AUoJYcu5SNmh"
   },
   "outputs": [],
   "source": [
    "verbleibende_zyklen = pd.DataFrame(test_df.groupby('id')['zyklus'].max()).reset_index()\n",
    "verbleibende_zyklen.columns = ['id', 'max']\n",
    "truth_df.columns = ['more']\n",
    "truth_df['id'] = truth_df.index + 1\n",
    "truth_df['max'] = verbleibende_zyklen['max'] + truth_df['more']\n",
    "truth_df.drop('more', axis=1, inplace=True)\n"
   ]
  },
  {
   "cell_type": "code",
   "execution_count": 14,
   "metadata": {
    "colab": {
     "base_uri": "https://localhost:8080/",
     "height": 239
    },
    "executionInfo": {
     "elapsed": 372,
     "status": "ok",
     "timestamp": 1626031923671,
     "user": {
      "displayName": "Lucas Fritzsche",
      "photoUrl": "https://lh3.googleusercontent.com/a-/AOh14Gig9jWRBH9pEsZxAH2T8DAJghA-cFwhfbFplzkmOA=s64",
      "userId": "08959184792999143517"
     },
     "user_tz": -120
    },
    "id": "WQUPPycKSNmi",
    "outputId": "aa49ed79-c81d-4e65-d65f-d5fc10abe36a"
   },
   "outputs": [
    {
     "data": {
      "text/html": [
       "<div>\n",
       "<style scoped>\n",
       "    .dataframe tbody tr th:only-of-type {\n",
       "        vertical-align: middle;\n",
       "    }\n",
       "\n",
       "    .dataframe tbody tr th {\n",
       "        vertical-align: top;\n",
       "    }\n",
       "\n",
       "    .dataframe thead th {\n",
       "        text-align: right;\n",
       "    }\n",
       "</style>\n",
       "<table border=\"1\" class=\"dataframe\">\n",
       "  <thead>\n",
       "    <tr style=\"text-align: right;\">\n",
       "      <th></th>\n",
       "      <th>id</th>\n",
       "      <th>zyklus</th>\n",
       "      <th>setting1</th>\n",
       "      <th>setting2</th>\n",
       "      <th>setting3</th>\n",
       "      <th>s1</th>\n",
       "      <th>s2</th>\n",
       "      <th>s3</th>\n",
       "      <th>s4</th>\n",
       "      <th>s5</th>\n",
       "      <th>...</th>\n",
       "      <th>s14</th>\n",
       "      <th>s15</th>\n",
       "      <th>s16</th>\n",
       "      <th>s17</th>\n",
       "      <th>s18</th>\n",
       "      <th>s19</th>\n",
       "      <th>s20</th>\n",
       "      <th>s21</th>\n",
       "      <th>Zyklus normalisiert</th>\n",
       "      <th>remaining_days_until_Failure</th>\n",
       "    </tr>\n",
       "  </thead>\n",
       "  <tbody>\n",
       "    <tr>\n",
       "      <th>0</th>\n",
       "      <td>1</td>\n",
       "      <td>1</td>\n",
       "      <td>0.632184</td>\n",
       "      <td>0.750000</td>\n",
       "      <td>0.0</td>\n",
       "      <td>0.0</td>\n",
       "      <td>0.545181</td>\n",
       "      <td>0.310661</td>\n",
       "      <td>0.269413</td>\n",
       "      <td>0.0</td>\n",
       "      <td>...</td>\n",
       "      <td>0.132160</td>\n",
       "      <td>0.308965</td>\n",
       "      <td>0.0</td>\n",
       "      <td>0.333333</td>\n",
       "      <td>0.0</td>\n",
       "      <td>0.0</td>\n",
       "      <td>0.558140</td>\n",
       "      <td>0.661834</td>\n",
       "      <td>0.00000</td>\n",
       "      <td>142</td>\n",
       "    </tr>\n",
       "    <tr>\n",
       "      <th>1</th>\n",
       "      <td>1</td>\n",
       "      <td>2</td>\n",
       "      <td>0.344828</td>\n",
       "      <td>0.250000</td>\n",
       "      <td>0.0</td>\n",
       "      <td>0.0</td>\n",
       "      <td>0.150602</td>\n",
       "      <td>0.379551</td>\n",
       "      <td>0.222316</td>\n",
       "      <td>0.0</td>\n",
       "      <td>...</td>\n",
       "      <td>0.204768</td>\n",
       "      <td>0.213159</td>\n",
       "      <td>0.0</td>\n",
       "      <td>0.416667</td>\n",
       "      <td>0.0</td>\n",
       "      <td>0.0</td>\n",
       "      <td>0.682171</td>\n",
       "      <td>0.686827</td>\n",
       "      <td>0.00277</td>\n",
       "      <td>141</td>\n",
       "    </tr>\n",
       "    <tr>\n",
       "      <th>2</th>\n",
       "      <td>1</td>\n",
       "      <td>3</td>\n",
       "      <td>0.517241</td>\n",
       "      <td>0.583333</td>\n",
       "      <td>0.0</td>\n",
       "      <td>0.0</td>\n",
       "      <td>0.376506</td>\n",
       "      <td>0.346632</td>\n",
       "      <td>0.322248</td>\n",
       "      <td>0.0</td>\n",
       "      <td>...</td>\n",
       "      <td>0.155640</td>\n",
       "      <td>0.458638</td>\n",
       "      <td>0.0</td>\n",
       "      <td>0.416667</td>\n",
       "      <td>0.0</td>\n",
       "      <td>0.0</td>\n",
       "      <td>0.728682</td>\n",
       "      <td>0.721348</td>\n",
       "      <td>0.00554</td>\n",
       "      <td>140</td>\n",
       "    </tr>\n",
       "    <tr>\n",
       "      <th>3</th>\n",
       "      <td>1</td>\n",
       "      <td>4</td>\n",
       "      <td>0.741379</td>\n",
       "      <td>0.500000</td>\n",
       "      <td>0.0</td>\n",
       "      <td>0.0</td>\n",
       "      <td>0.370482</td>\n",
       "      <td>0.285154</td>\n",
       "      <td>0.408001</td>\n",
       "      <td>0.0</td>\n",
       "      <td>...</td>\n",
       "      <td>0.170090</td>\n",
       "      <td>0.257022</td>\n",
       "      <td>0.0</td>\n",
       "      <td>0.250000</td>\n",
       "      <td>0.0</td>\n",
       "      <td>0.0</td>\n",
       "      <td>0.666667</td>\n",
       "      <td>0.662110</td>\n",
       "      <td>0.00831</td>\n",
       "      <td>139</td>\n",
       "    </tr>\n",
       "    <tr>\n",
       "      <th>4</th>\n",
       "      <td>1</td>\n",
       "      <td>5</td>\n",
       "      <td>0.580460</td>\n",
       "      <td>0.500000</td>\n",
       "      <td>0.0</td>\n",
       "      <td>0.0</td>\n",
       "      <td>0.391566</td>\n",
       "      <td>0.352082</td>\n",
       "      <td>0.332039</td>\n",
       "      <td>0.0</td>\n",
       "      <td>...</td>\n",
       "      <td>0.152751</td>\n",
       "      <td>0.300885</td>\n",
       "      <td>0.0</td>\n",
       "      <td>0.166667</td>\n",
       "      <td>0.0</td>\n",
       "      <td>0.0</td>\n",
       "      <td>0.658915</td>\n",
       "      <td>0.716377</td>\n",
       "      <td>0.01108</td>\n",
       "      <td>138</td>\n",
       "    </tr>\n",
       "  </tbody>\n",
       "</table>\n",
       "<p>5 rows × 28 columns</p>\n",
       "</div>"
      ],
      "text/plain": [
       "   id  zyklus  setting1  setting2  setting3   s1        s2        s3  \\\n",
       "0   1       1  0.632184  0.750000       0.0  0.0  0.545181  0.310661   \n",
       "1   1       2  0.344828  0.250000       0.0  0.0  0.150602  0.379551   \n",
       "2   1       3  0.517241  0.583333       0.0  0.0  0.376506  0.346632   \n",
       "3   1       4  0.741379  0.500000       0.0  0.0  0.370482  0.285154   \n",
       "4   1       5  0.580460  0.500000       0.0  0.0  0.391566  0.352082   \n",
       "\n",
       "         s4   s5  ...       s14       s15  s16       s17  s18  s19       s20  \\\n",
       "0  0.269413  0.0  ...  0.132160  0.308965  0.0  0.333333  0.0  0.0  0.558140   \n",
       "1  0.222316  0.0  ...  0.204768  0.213159  0.0  0.416667  0.0  0.0  0.682171   \n",
       "2  0.322248  0.0  ...  0.155640  0.458638  0.0  0.416667  0.0  0.0  0.728682   \n",
       "3  0.408001  0.0  ...  0.170090  0.257022  0.0  0.250000  0.0  0.0  0.666667   \n",
       "4  0.332039  0.0  ...  0.152751  0.300885  0.0  0.166667  0.0  0.0  0.658915   \n",
       "\n",
       "        s21  Zyklus normalisiert  remaining_days_until_Failure  \n",
       "0  0.661834              0.00000                           142  \n",
       "1  0.686827              0.00277                           141  \n",
       "2  0.721348              0.00554                           140  \n",
       "3  0.662110              0.00831                           139  \n",
       "4  0.716377              0.01108                           138  \n",
       "\n",
       "[5 rows x 28 columns]"
      ]
     },
     "execution_count": 14,
     "metadata": {},
     "output_type": "execute_result"
    }
   ],
   "source": [
    "test_df = test_df.merge(truth_df, on=['id'], how='left')\n",
    "test_df['remaining_days_until_Failure'] = test_df['max'] - test_df['zyklus']\n",
    "test_df.drop('max', axis=1, inplace=True)\n",
    "test_df.head()\n"
   ]
  },
  {
   "cell_type": "markdown",
   "metadata": {
    "id": "nsb5R-hLSNmk"
   },
   "source": [
    "Next, we use the truth data to generate the labels for the test data."
   ]
  },
  {
   "cell_type": "code",
   "execution_count": 15,
   "metadata": {
    "colab": {
     "base_uri": "https://localhost:8080/",
     "height": 239
    },
    "executionInfo": {
     "elapsed": 12,
     "status": "ok",
     "timestamp": 1626031923672,
     "user": {
      "displayName": "Lucas Fritzsche",
      "photoUrl": "https://lh3.googleusercontent.com/a-/AOh14Gig9jWRBH9pEsZxAH2T8DAJghA-cFwhfbFplzkmOA=s64",
      "userId": "08959184792999143517"
     },
     "user_tz": -120
    },
    "id": "PafEvSHcSNmm",
    "outputId": "c07718d2-a418-4b48-886e-5f3ef8900c6b"
   },
   "outputs": [
    {
     "data": {
      "text/html": [
       "<div>\n",
       "<style scoped>\n",
       "    .dataframe tbody tr th:only-of-type {\n",
       "        vertical-align: middle;\n",
       "    }\n",
       "\n",
       "    .dataframe tbody tr th {\n",
       "        vertical-align: top;\n",
       "    }\n",
       "\n",
       "    .dataframe thead th {\n",
       "        text-align: right;\n",
       "    }\n",
       "</style>\n",
       "<table border=\"1\" class=\"dataframe\">\n",
       "  <thead>\n",
       "    <tr style=\"text-align: right;\">\n",
       "      <th></th>\n",
       "      <th>id</th>\n",
       "      <th>zyklus</th>\n",
       "      <th>setting1</th>\n",
       "      <th>setting2</th>\n",
       "      <th>setting3</th>\n",
       "      <th>s1</th>\n",
       "      <th>s2</th>\n",
       "      <th>s3</th>\n",
       "      <th>s4</th>\n",
       "      <th>s5</th>\n",
       "      <th>...</th>\n",
       "      <th>s16</th>\n",
       "      <th>s17</th>\n",
       "      <th>s18</th>\n",
       "      <th>s19</th>\n",
       "      <th>s20</th>\n",
       "      <th>s21</th>\n",
       "      <th>Zyklus normalisiert</th>\n",
       "      <th>remaining_days_until_Failure</th>\n",
       "      <th>label1</th>\n",
       "      <th>label2</th>\n",
       "    </tr>\n",
       "  </thead>\n",
       "  <tbody>\n",
       "    <tr>\n",
       "      <th>0</th>\n",
       "      <td>1</td>\n",
       "      <td>1</td>\n",
       "      <td>0.632184</td>\n",
       "      <td>0.750000</td>\n",
       "      <td>0.0</td>\n",
       "      <td>0.0</td>\n",
       "      <td>0.545181</td>\n",
       "      <td>0.310661</td>\n",
       "      <td>0.269413</td>\n",
       "      <td>0.0</td>\n",
       "      <td>...</td>\n",
       "      <td>0.0</td>\n",
       "      <td>0.333333</td>\n",
       "      <td>0.0</td>\n",
       "      <td>0.0</td>\n",
       "      <td>0.558140</td>\n",
       "      <td>0.661834</td>\n",
       "      <td>0.00000</td>\n",
       "      <td>142</td>\n",
       "      <td>0</td>\n",
       "      <td>0</td>\n",
       "    </tr>\n",
       "    <tr>\n",
       "      <th>1</th>\n",
       "      <td>1</td>\n",
       "      <td>2</td>\n",
       "      <td>0.344828</td>\n",
       "      <td>0.250000</td>\n",
       "      <td>0.0</td>\n",
       "      <td>0.0</td>\n",
       "      <td>0.150602</td>\n",
       "      <td>0.379551</td>\n",
       "      <td>0.222316</td>\n",
       "      <td>0.0</td>\n",
       "      <td>...</td>\n",
       "      <td>0.0</td>\n",
       "      <td>0.416667</td>\n",
       "      <td>0.0</td>\n",
       "      <td>0.0</td>\n",
       "      <td>0.682171</td>\n",
       "      <td>0.686827</td>\n",
       "      <td>0.00277</td>\n",
       "      <td>141</td>\n",
       "      <td>0</td>\n",
       "      <td>0</td>\n",
       "    </tr>\n",
       "    <tr>\n",
       "      <th>2</th>\n",
       "      <td>1</td>\n",
       "      <td>3</td>\n",
       "      <td>0.517241</td>\n",
       "      <td>0.583333</td>\n",
       "      <td>0.0</td>\n",
       "      <td>0.0</td>\n",
       "      <td>0.376506</td>\n",
       "      <td>0.346632</td>\n",
       "      <td>0.322248</td>\n",
       "      <td>0.0</td>\n",
       "      <td>...</td>\n",
       "      <td>0.0</td>\n",
       "      <td>0.416667</td>\n",
       "      <td>0.0</td>\n",
       "      <td>0.0</td>\n",
       "      <td>0.728682</td>\n",
       "      <td>0.721348</td>\n",
       "      <td>0.00554</td>\n",
       "      <td>140</td>\n",
       "      <td>0</td>\n",
       "      <td>0</td>\n",
       "    </tr>\n",
       "    <tr>\n",
       "      <th>3</th>\n",
       "      <td>1</td>\n",
       "      <td>4</td>\n",
       "      <td>0.741379</td>\n",
       "      <td>0.500000</td>\n",
       "      <td>0.0</td>\n",
       "      <td>0.0</td>\n",
       "      <td>0.370482</td>\n",
       "      <td>0.285154</td>\n",
       "      <td>0.408001</td>\n",
       "      <td>0.0</td>\n",
       "      <td>...</td>\n",
       "      <td>0.0</td>\n",
       "      <td>0.250000</td>\n",
       "      <td>0.0</td>\n",
       "      <td>0.0</td>\n",
       "      <td>0.666667</td>\n",
       "      <td>0.662110</td>\n",
       "      <td>0.00831</td>\n",
       "      <td>139</td>\n",
       "      <td>0</td>\n",
       "      <td>0</td>\n",
       "    </tr>\n",
       "    <tr>\n",
       "      <th>4</th>\n",
       "      <td>1</td>\n",
       "      <td>5</td>\n",
       "      <td>0.580460</td>\n",
       "      <td>0.500000</td>\n",
       "      <td>0.0</td>\n",
       "      <td>0.0</td>\n",
       "      <td>0.391566</td>\n",
       "      <td>0.352082</td>\n",
       "      <td>0.332039</td>\n",
       "      <td>0.0</td>\n",
       "      <td>...</td>\n",
       "      <td>0.0</td>\n",
       "      <td>0.166667</td>\n",
       "      <td>0.0</td>\n",
       "      <td>0.0</td>\n",
       "      <td>0.658915</td>\n",
       "      <td>0.716377</td>\n",
       "      <td>0.01108</td>\n",
       "      <td>138</td>\n",
       "      <td>0</td>\n",
       "      <td>0</td>\n",
       "    </tr>\n",
       "  </tbody>\n",
       "</table>\n",
       "<p>5 rows × 30 columns</p>\n",
       "</div>"
      ],
      "text/plain": [
       "   id  zyklus  setting1  setting2  setting3   s1        s2        s3  \\\n",
       "0   1       1  0.632184  0.750000       0.0  0.0  0.545181  0.310661   \n",
       "1   1       2  0.344828  0.250000       0.0  0.0  0.150602  0.379551   \n",
       "2   1       3  0.517241  0.583333       0.0  0.0  0.376506  0.346632   \n",
       "3   1       4  0.741379  0.500000       0.0  0.0  0.370482  0.285154   \n",
       "4   1       5  0.580460  0.500000       0.0  0.0  0.391566  0.352082   \n",
       "\n",
       "         s4   s5  ...  s16       s17  s18  s19       s20       s21  \\\n",
       "0  0.269413  0.0  ...  0.0  0.333333  0.0  0.0  0.558140  0.661834   \n",
       "1  0.222316  0.0  ...  0.0  0.416667  0.0  0.0  0.682171  0.686827   \n",
       "2  0.322248  0.0  ...  0.0  0.416667  0.0  0.0  0.728682  0.721348   \n",
       "3  0.408001  0.0  ...  0.0  0.250000  0.0  0.0  0.666667  0.662110   \n",
       "4  0.332039  0.0  ...  0.0  0.166667  0.0  0.0  0.658915  0.716377   \n",
       "\n",
       "   Zyklus normalisiert  remaining_days_until_Failure  label1  label2  \n",
       "0              0.00000                           142       0       0  \n",
       "1              0.00277                           141       0       0  \n",
       "2              0.00554                           140       0       0  \n",
       "3              0.00831                           139       0       0  \n",
       "4              0.01108                           138       0       0  \n",
       "\n",
       "[5 rows x 30 columns]"
      ]
     },
     "execution_count": 15,
     "metadata": {},
     "output_type": "execute_result"
    }
   ],
   "source": [
    "test_df['label1'] = np.where(test_df['remaining_days_until_Failure'] <= w1, 1, 0 )\n",
    "test_df['label2'] = test_df['label1']\n",
    "test_df.loc[test_df['remaining_days_until_Failure'] <= w0, 'label2'] = 2\n",
    "test_df.head()\n"
   ]
  },
  {
   "cell_type": "markdown",
   "metadata": {
    "id": "L-rzfojpSNmn"
   },
   "source": [
    "Now we look at the data structure"
   ]
  },
  {
   "cell_type": "code",
   "execution_count": 16,
   "metadata": {
    "colab": {
     "base_uri": "https://localhost:8080/"
    },
    "executionInfo": {
     "elapsed": 11,
     "status": "ok",
     "timestamp": 1626031923672,
     "user": {
      "displayName": "Lucas Fritzsche",
      "photoUrl": "https://lh3.googleusercontent.com/a-/AOh14Gig9jWRBH9pEsZxAH2T8DAJghA-cFwhfbFplzkmOA=s64",
      "userId": "08959184792999143517"
     },
     "user_tz": -120
    },
    "id": "QscBMGxUSNmn",
    "outputId": "9148bcc9-5ec1-4127-81c9-c98f52659838"
   },
   "outputs": [
    {
     "name": "stdout",
     "output_type": "stream",
     "text": [
      "<class 'pandas.core.frame.DataFrame'>\n",
      "Int64Index: 20631 entries, 0 to 20630\n",
      "Data columns (total 30 columns):\n",
      " #   Column                        Non-Null Count  Dtype  \n",
      "---  ------                        --------------  -----  \n",
      " 0   id                            20631 non-null  int64  \n",
      " 1   zyklus                        20631 non-null  int64  \n",
      " 2   setting1                      20631 non-null  float64\n",
      " 3   setting2                      20631 non-null  float64\n",
      " 4   setting3                      20631 non-null  float64\n",
      " 5   s1                            20631 non-null  float64\n",
      " 6   s2                            20631 non-null  float64\n",
      " 7   s3                            20631 non-null  float64\n",
      " 8   s4                            20631 non-null  float64\n",
      " 9   s5                            20631 non-null  float64\n",
      " 10  s6                            20631 non-null  float64\n",
      " 11  s7                            20631 non-null  float64\n",
      " 12  s8                            20631 non-null  float64\n",
      " 13  s9                            20631 non-null  float64\n",
      " 14  s10                           20631 non-null  float64\n",
      " 15  s11                           20631 non-null  float64\n",
      " 16  s12                           20631 non-null  float64\n",
      " 17  s13                           20631 non-null  float64\n",
      " 18  s14                           20631 non-null  float64\n",
      " 19  s15                           20631 non-null  float64\n",
      " 20  s16                           20631 non-null  float64\n",
      " 21  s17                           20631 non-null  float64\n",
      " 22  s18                           20631 non-null  float64\n",
      " 23  s19                           20631 non-null  float64\n",
      " 24  s20                           20631 non-null  float64\n",
      " 25  s21                           20631 non-null  float64\n",
      " 26  remaining_days_until_Failure  20631 non-null  int64  \n",
      " 27  label1                        20631 non-null  int32  \n",
      " 28  label2                        20631 non-null  int32  \n",
      " 29  Zyklus normalisiert           20631 non-null  float64\n",
      "dtypes: float64(25), int32(2), int64(3)\n",
      "memory usage: 5.2 MB\n"
     ]
    }
   ],
   "source": [
    "train_df.info()"
   ]
  },
  {
   "cell_type": "markdown",
   "metadata": {
    "id": "M7ORedeJSNmo"
   },
   "source": [
    "It can be seen that all data have either the float or int data type, there are no categorical variables in the data set. Now we display the individual variables in a histogram in order to determine whether all variables can be used meaningfully for the model. The just created columns, as well as \"id\" are not considered, since these are used for the evaluation and it does not make sense to check here.\n"
   ]
  },
  {
   "cell_type": "markdown",
   "metadata": {},
   "source": [
    "## 3.3 analyse the histogram's of all features"
   ]
  },
  {
   "cell_type": "code",
   "execution_count": 17,
   "metadata": {
    "executionInfo": {
     "elapsed": 10,
     "status": "ok",
     "timestamp": 1626031923673,
     "user": {
      "displayName": "Lucas Fritzsche",
      "photoUrl": "https://lh3.googleusercontent.com/a-/AOh14Gig9jWRBH9pEsZxAH2T8DAJghA-cFwhfbFplzkmOA=s64",
      "userId": "08959184792999143517"
     },
     "user_tz": -120
    },
    "id": "f6YgeMToSNmo"
   },
   "outputs": [],
   "source": [
    "def plot_hist(variable):\n",
    "    print(\"min {} : {} \".format(variable, min(train_df[variable])))\n",
    "    print(\"max {} : {}\".format(variable, max(train_df[variable])))\n",
    "    \n",
    "    plt.figure(figsize=(9,3))\n",
    "    plt.hist(train_df[variable], color=\"orange\", ec=\"orange\", edgecolor='green')\n",
    "    plt.xlabel(variable)\n",
    "    plt.ylabel(\"Frequenz\")\n",
    "    plt.title(\"distribution of the {} variable \".format(variable))\n",
    "    plt.show()"
   ]
  },
  {
   "cell_type": "code",
   "execution_count": 18,
   "metadata": {
    "colab": {
     "base_uri": "https://localhost:8080/",
     "height": 1000
    },
    "executionInfo": {
     "elapsed": 4784,
     "status": "ok",
     "timestamp": 1626031928447,
     "user": {
      "displayName": "Lucas Fritzsche",
      "photoUrl": "https://lh3.googleusercontent.com/a-/AOh14Gig9jWRBH9pEsZxAH2T8DAJghA-cFwhfbFplzkmOA=s64",
      "userId": "08959184792999143517"
     },
     "user_tz": -120
    },
    "id": "N8U9l2IsSNmp",
    "outputId": "188b7159-4194-442b-d153-680640e27ed0"
   },
   "outputs": [
    {
     "name": "stdout",
     "output_type": "stream",
     "text": [
      "min zyklus : 1 \n",
      "max zyklus : 362\n"
     ]
    },
    {
     "data": {
      "image/png": "[encoded data removed]",
      "text/plain": [
       "<Figure size 648x216 with 1 Axes>"
      ]
     },
     "metadata": {
      "needs_background": "light"
     },
     "output_type": "display_data"
    },
    {
     "name": "stdout",
     "output_type": "stream",
     "text": [
      "min setting1 : 0.0 \n",
      "max setting1 : 1.0\n"
     ]
    },
    {
     "data": {
      "image/png": "[encoded data removed]",
      "text/plain": [
       "<Figure size 648x216 with 1 Axes>"
      ]
     },
     "metadata": {
      "needs_background": "light"
     },
     "output_type": "display_data"
    },
    {
     "name": "stdout",
     "output_type": "stream",
     "text": [
      "min setting2 : 0.0 \n",
      "max setting2 : 1.0\n"
     ]
    },
    {
     "data": {
      "image/png": "[encoded data removed]",
      "text/plain": [
       "<Figure size 648x216 with 1 Axes>"
      ]
     },
     "metadata": {
      "needs_background": "light"
     },
     "output_type": "display_data"
    },
    {
     "name": "stdout",
     "output_type": "stream",
     "text": [
      "min setting3 : 0.0 \n",
      "max setting3 : 0.0\n"
     ]
    },
    {
     "data": {
      "image/png": "[encoded data removed]",
      "text/plain": [
       "<Figure size 648x216 with 1 Axes>"
      ]
     },
     "metadata": {
      "needs_background": "light"
     },
     "output_type": "display_data"
    },
    {
     "name": "stdout",
     "output_type": "stream",
     "text": [
      "min s1 : 0.0 \n",
      "max s1 : 0.0\n"
     ]
    },
    {
     "data": {
      "image/png": "[encoded data removed]",
      "text/plain": [
       "<Figure size 648x216 with 1 Axes>"
      ]
     },
     "metadata": {
      "needs_background": "light"
     },
     "output_type": "display_data"
    },
    {
     "name": "stdout",
     "output_type": "stream",
     "text": [
      "min s2 : 0.0 \n",
      "max s2 : 1.0\n"
     ]
    },
    {
     "data": {
      "image/png": "[encoded data removed]",
      "text/plain": [
       "<Figure size 648x216 with 1 Axes>"
      ]
     },
     "metadata": {
      "needs_background": "light"
     },
     "output_type": "display_data"
    },
    {
     "name": "stdout",
     "output_type": "stream",
     "text": [
      "min s3 : 0.0 \n",
      "max s3 : 1.0\n"
     ]
    },
    {
     "data": {
      "image/png": "[encoded data removed]",
      "text/plain": [
       "<Figure size 648x216 with 1 Axes>"
      ]
     },
     "metadata": {
      "needs_background": "light"
     },
     "output_type": "display_data"
    },
    {
     "name": "stdout",
     "output_type": "stream",
     "text": [
      "min s4 : 0.0 \n",
      "max s4 : 1.0\n"
     ]
    },
    {
     "data": {
      "image/png": "[encoded data removed]",
      "text/plain": [
       "<Figure size 648x216 with 1 Axes>"
      ]
     },
     "metadata": {
      "needs_background": "light"
     },
     "output_type": "display_data"
    },
    {
     "name": "stdout",
     "output_type": "stream",
     "text": [
      "min s5 : 0.0 \n",
      "max s5 : 0.0\n"
     ]
    },
    {
     "data": {
      "image/png": "[encoded data removed]",
      "text/plain": [
       "<Figure size 648x216 with 1 Axes>"
      ]
     },
     "metadata": {
      "needs_background": "light"
     },
     "output_type": "display_data"
    },
    {
     "name": "stdout",
     "output_type": "stream",
     "text": [
      "min s6 : 0.0 \n",
      "max s6 : 1.0\n"
     ]
    },
    {
     "data": {
      "image/png": "[encoded data removed]",
      "text/plain": [
       "<Figure size 648x216 with 1 Axes>"
      ]
     },
     "metadata": {
      "needs_background": "light"
     },
     "output_type": "display_data"
    },
    {
     "name": "stdout",
     "output_type": "stream",
     "text": [
      "min s7 : 0.0 \n",
      "max s7 : 1.0\n"
     ]
    },
    {
     "data": {
      "image/png": "[encoded data removed]",
      "text/plain": [
       "<Figure size 648x216 with 1 Axes>"
      ]
     },
     "metadata": {
      "needs_background": "light"
     },
     "output_type": "display_data"
    },
    {
     "name": "stdout",
     "output_type": "stream",
     "text": [
      "min s8 : 0.0 \n",
      "max s8 : 1.0\n"
     ]
    },
    {
     "data": {
      "image/png": "[encoded data removed]",
      "text/plain": [
       "<Figure size 648x216 with 1 Axes>"
      ]
     },
     "metadata": {
      "needs_background": "light"
     },
     "output_type": "display_data"
    },
    {
     "name": "stdout",
     "output_type": "stream",
     "text": [
      "min s9 : 0.0 \n",
      "max s9 : 1.0\n"
     ]
    },
    {
     "data": {
      "image/png": "[encoded data removed]",
      "text/plain": [
       "<Figure size 648x216 with 1 Axes>"
      ]
     },
     "metadata": {
      "needs_background": "light"
     },
     "output_type": "display_data"
    },
    {
     "name": "stdout",
     "output_type": "stream",
     "text": [
      "min s10 : 0.0 \n",
      "max s10 : 0.0\n"
     ]
    },
    {
     "data": {
      "image/png": "[encoded data removed]",
      "text/plain": [
       "<Figure size 648x216 with 1 Axes>"
      ]
     },
     "metadata": {
      "needs_background": "light"
     },
     "output_type": "display_data"
    },
    {
     "name": "stdout",
     "output_type": "stream",
     "text": [
      "min s11 : 0.0 \n",
      "max s11 : 1.0\n"
     ]
    },
    {
     "data": {
      "image/png": "[encoded data removed]",
      "text/plain": [
       "<Figure size 648x216 with 1 Axes>"
      ]
     },
     "metadata": {
      "needs_background": "light"
     },
     "output_type": "display_data"
    },
    {
     "name": "stdout",
     "output_type": "stream",
     "text": [
      "min s12 : 0.0 \n",
      "max s12 : 1.0\n"
     ]
    },
    {
     "data": {
      "image/png": "[encoded data removed]",
      "text/plain": [
       "<Figure size 648x216 with 1 Axes>"
      ]
     },
     "metadata": {
      "needs_background": "light"
     },
     "output_type": "display_data"
    },
    {
     "name": "stdout",
     "output_type": "stream",
     "text": [
      "min s13 : 0.0 \n",
      "max s13 : 1.0\n"
     ]
    },
    {
     "data": {
      "image/png": "[encoded data removed]",
      "text/plain": [
       "<Figure size 648x216 with 1 Axes>"
      ]
     },
     "metadata": {
      "needs_background": "light"
     },
     "output_type": "display_data"
    },
    {
     "name": "stdout",
     "output_type": "stream",
     "text": [
      "min s14 : 0.0 \n",
      "max s14 : 1.0\n"
     ]
    },
    {
     "data": {
      "image/png": "[encoded data removed]",
      "text/plain": [
       "<Figure size 648x216 with 1 Axes>"
      ]
     },
     "metadata": {
      "needs_background": "light"
     },
     "output_type": "display_data"
    },
    {
     "name": "stdout",
     "output_type": "stream",
     "text": [
      "min s15 : 0.0 \n",
      "max s15 : 1.0\n"
     ]
    },
    {
     "data": {
      "image/png": "[encoded data removed]",
      "text/plain": [
       "<Figure size 648x216 with 1 Axes>"
      ]
     },
     "metadata": {
      "needs_background": "light"
     },
     "output_type": "display_data"
    },
    {
     "name": "stdout",
     "output_type": "stream",
     "text": [
      "min s16 : 0.0 \n",
      "max s16 : 0.0\n"
     ]
    },
    {
     "data": {
      "image/png": "[encoded data removed]",
      "text/plain": [
       "<Figure size 648x216 with 1 Axes>"
      ]
     },
     "metadata": {
      "needs_background": "light"
     },
     "output_type": "display_data"
    },
    {
     "name": "stdout",
     "output_type": "stream",
     "text": [
      "min s17 : 0.0 \n",
      "max s17 : 1.0\n"
     ]
    },
    {
     "data": {
      "image/png": "[encoded data removed]",
      "text/plain": [
       "<Figure size 648x216 with 1 Axes>"
      ]
     },
     "metadata": {
      "needs_background": "light"
     },
     "output_type": "display_data"
    },
    {
     "name": "stdout",
     "output_type": "stream",
     "text": [
      "min s18 : 0.0 \n",
      "max s18 : 0.0\n"
     ]
    },
    {
     "data": {
      "image/png": "[encoded data removed]",
      "text/plain": [
       "<Figure size 648x216 with 1 Axes>"
      ]
     },
     "metadata": {
      "needs_background": "light"
     },
     "output_type": "display_data"
    },
    {
     "name": "stdout",
     "output_type": "stream",
     "text": [
      "min s19 : 0.0 \n",
      "max s19 : 0.0\n"
     ]
    },
    {
     "data": {
      "image/png": "[encoded data removed]",
      "text/plain": [
       "<Figure size 648x216 with 1 Axes>"
      ]
     },
     "metadata": {
      "needs_background": "light"
     },
     "output_type": "display_data"
    },
    {
     "name": "stdout",
     "output_type": "stream",
     "text": [
      "min s20 : 0.0 \n",
      "max s20 : 1.0\n"
     ]
    },
    {
     "data": {
      "image/png": "[encoded data removed]",
      "text/plain": [
       "<Figure size 648x216 with 1 Axes>"
      ]
     },
     "metadata": {
      "needs_background": "light"
     },
     "output_type": "display_data"
    },
    {
     "name": "stdout",
     "output_type": "stream",
     "text": [
      "min s21 : 0.0 \n",
      "max s21 : 1.0\n"
     ]
    },
    {
     "data": {
      "image/png": "[encoded data removed]",
      "text/plain": [
       "<Figure size 648x216 with 1 Axes>"
      ]
     },
     "metadata": {
      "needs_background": "light"
     },
     "output_type": "display_data"
    }
   ],
   "source": [
    "numericVar = [\"zyklus\", \"setting1\", \"setting2\",\"setting3\", \"s1\", \"s2\", \"s3\", \n",
    "                    \"s4\", \"s5\", \"s6\", \"s7\", \"s8\", \"s9\", \"s10\", \"s11\", \"s12\",\n",
    "                    \"s13\", \"s14\", \"s15\", \"s16\", \"s17\", \"s18\", \"s19\", \"s20\", \"s21\"]\n",
    "for n in numericVar:\n",
    "    plot_hist(n)"
   ]
  },
  {
   "cell_type": "markdown",
   "metadata": {
    "id": "pEspX6TrSNmq"
   },
   "source": [
    "We see that some variables are just constants. These can be deleted as they do not contain any useful information about the state of the plant. The following columns are deleted: 'setting3', 's1', 's5', 's10', 's16 ', 's18', 's19'."
   ]
  },
  {
   "cell_type": "code",
   "execution_count": 19,
   "metadata": {
    "executionInfo": {
     "elapsed": 14,
     "status": "ok",
     "timestamp": 1626031928448,
     "user": {
      "displayName": "Lucas Fritzsche",
      "photoUrl": "https://lh3.googleusercontent.com/a-/AOh14Gig9jWRBH9pEsZxAH2T8DAJghA-cFwhfbFplzkmOA=s64",
      "userId": "08959184792999143517"
     },
     "user_tz": -120
    },
    "id": "P3mnyyIHSNmq"
   },
   "outputs": [],
   "source": [
    "train_df.drop(columns=['setting3', 's1', 's5', 's10', 's16', 's18', 's19'],inplace=True)\n",
    "test_df.drop(columns=['setting3', 's1', 's5', 's10', 's16', 's18', 's19'],inplace=True)\n",
    "train_df2 = train_df\n",
    "test_df2 = test_df\n",
    "\n"
   ]
  },
  {
   "cell_type": "markdown",
   "metadata": {
    "id": "lyYcIBzMSNmr"
   },
   "source": [
    "# 4. Modelling and Evaluation  "
   ]
  },
  {
   "cell_type": "markdown",
   "metadata": {
    "id": "ihvhDN4eSNmr"
   },
   "source": [
    "After the data has been prepared, the modeling can begin. We will build a Long Short-Term Memory Layer Recurrent Neural Network using the KERAS library. Keras requires a three-dimensional numpy array (inputs: A 3D tensor with shape [batch, timesteps, feature]), see also: https://keras.io/api/layers/recurrent_layers/lstm/ ). Therefore, in the next step, our features or variables are put into this three-dimensional shape.\n",
    "\n",
    "At the same time the window size is defined, because LSTMs have the advantage to remember things from long sequences without a direct abstraction. \n",
    "\n",
    "Translated with www.DeepL.com/Translator (free version)"
   ]
  },
  {
   "cell_type": "code",
   "execution_count": 20,
   "metadata": {
    "executionInfo": {
     "elapsed": 13,
     "status": "ok",
     "timestamp": 1626031928448,
     "user": {
      "displayName": "Lucas Fritzsche",
      "photoUrl": "https://lh3.googleusercontent.com/a-/AOh14Gig9jWRBH9pEsZxAH2T8DAJghA-cFwhfbFplzkmOA=s64",
      "userId": "08959184792999143517"
     },
     "user_tz": -120
    },
    "id": "YllR3H0LSNms"
   },
   "outputs": [],
   "source": [
    "window_size = 25\n",
    "\n",
    "def generate_sequenze(dataframe_id, laenge_sequenz, spalten_sequenz):\n",
    "\n",
    "    array = dataframe_id[spalten_sequenz].values\n",
    "    anzahl_elemente = array.shape[0]\n",
    "    for start, stop in zip(range(0, anzahl_elemente-laenge_sequenz), range(laenge_sequenz, anzahl_elemente)):\n",
    "        yield array[start:stop, :]"
   ]
  },
  {
   "cell_type": "code",
   "execution_count": 21,
   "metadata": {
    "executionInfo": {
     "elapsed": 14,
     "status": "ok",
     "timestamp": 1626031928449,
     "user": {
      "displayName": "Lucas Fritzsche",
      "photoUrl": "https://lh3.googleusercontent.com/a-/AOh14Gig9jWRBH9pEsZxAH2T8DAJghA-cFwhfbFplzkmOA=s64",
      "userId": "08959184792999143517"
     },
     "user_tz": -120
    },
    "id": "wj9t4aZmSNms"
   },
   "outputs": [],
   "source": [
    "spalten_sensoren = ['s2', 's3','s4', 's6', 's7', 's8', 's9', 's11', 's12', 's13', 's14', 's15', 's17', 's20', 's21',]\n",
    "spalten_sequenz = ['setting1', 'setting2', 'Zyklus normalisiert']\n",
    "spalten_sequenz.extend(spalten_sensoren)\n"
   ]
  },
  {
   "cell_type": "code",
   "execution_count": 22,
   "metadata": {
    "executionInfo": {
     "elapsed": 13,
     "status": "ok",
     "timestamp": 1626031928449,
     "user": {
      "displayName": "Lucas Fritzsche",
      "photoUrl": "https://lh3.googleusercontent.com/a-/AOh14Gig9jWRBH9pEsZxAH2T8DAJghA-cFwhfbFplzkmOA=s64",
      "userId": "08959184792999143517"
     },
     "user_tz": -120
    },
    "id": "0yrwOkZASNmt"
   },
   "outputs": [],
   "source": [
    "generierung_sequenz = (list(generate_sequenze(train_df2[train_df2['id']==id], window_size, spalten_sequenz)) \n",
    "           for id in train_df2['id'].unique())\n"
   ]
  },
  {
   "cell_type": "code",
   "execution_count": 23,
   "metadata": {
    "colab": {
     "base_uri": "https://localhost:8080/"
    },
    "executionInfo": {
     "elapsed": 330,
     "status": "ok",
     "timestamp": 1626031928766,
     "user": {
      "displayName": "Lucas Fritzsche",
      "photoUrl": "https://lh3.googleusercontent.com/a-/AOh14Gig9jWRBH9pEsZxAH2T8DAJghA-cFwhfbFplzkmOA=s64",
      "userId": "08959184792999143517"
     },
     "user_tz": -120
    },
    "id": "Lydttyg9SNmt",
    "outputId": "1cd30bf0-22c3-40da-f03a-4222e8e61663"
   },
   "outputs": [
    {
     "data": {
      "text/plain": [
       "(18131, 25, 18)"
      ]
     },
     "execution_count": 23,
     "metadata": {},
     "output_type": "execute_result"
    }
   ],
   "source": [
    "array_sequenz = np.concatenate(list(generierung_sequenz)).astype(np.float32)\n",
    "array_sequenz.shape"
   ]
  },
  {
   "cell_type": "code",
   "execution_count": 24,
   "metadata": {
    "executionInfo": {
     "elapsed": 4,
     "status": "ok",
     "timestamp": 1626031928767,
     "user": {
      "displayName": "Lucas Fritzsche",
      "photoUrl": "https://lh3.googleusercontent.com/a-/AOh14Gig9jWRBH9pEsZxAH2T8DAJghA-cFwhfbFplzkmOA=s64",
      "userId": "08959184792999143517"
     },
     "user_tz": -120
    },
    "id": "CCqIDZDVSNmu"
   },
   "outputs": [],
   "source": [
    "def ueberschrift_generieren(dataframe_id, laenge_sequenz, ueberschrift):\n",
    "    array_daten = dataframe_id[ueberschrift].values\n",
    "    elemente_numerisch = array_daten.shape[0]\n",
    "    return array_daten[laenge_sequenz:elemente_numerisch, :]"
   ]
  },
  {
   "cell_type": "code",
   "execution_count": 25,
   "metadata": {
    "colab": {
     "base_uri": "https://localhost:8080/"
    },
    "executionInfo": {
     "elapsed": 4,
     "status": "ok",
     "timestamp": 1626031928767,
     "user": {
      "displayName": "Lucas Fritzsche",
      "photoUrl": "https://lh3.googleusercontent.com/a-/AOh14Gig9jWRBH9pEsZxAH2T8DAJghA-cFwhfbFplzkmOA=s64",
      "userId": "08959184792999143517"
     },
     "user_tz": -120
    },
    "id": "i_6T2O0ESNmu",
    "outputId": "bd07de25-a04a-4e0e-fe4b-5f3b51a2fe30"
   },
   "outputs": [
    {
     "data": {
      "text/plain": [
       "(18131, 1)"
      ]
     },
     "execution_count": 25,
     "metadata": {},
     "output_type": "execute_result"
    }
   ],
   "source": [
    "ueberschriften_generieren = [ueberschrift_generieren(train_df[train_df['id']==id], window_size, ['label1']) \n",
    "             for id in train_df2['id'].unique()]\n",
    "ueb_array = np.concatenate(ueberschriften_generieren).astype(np.float32)\n",
    "ueb_array.shape"
   ]
  },
  {
   "cell_type": "markdown",
   "metadata": {
    "id": "qlx44e41SNmv"
   },
   "source": [
    "In the next step, an LSTM network is created, since the data is now available in three-dimensional form. For this, the network is created with 100 units in the first step and a second one with 50 units. Dropout is used to avoid overfitting. Finally, a single layer, our output layer with a single unit and sigma activation, is generated, since there is a binary classification problem here."
   ]
  },
  {
   "cell_type": "code",
   "execution_count": 26,
   "metadata": {
    "executionInfo": {
     "elapsed": 763,
     "status": "ok",
     "timestamp": 1626031929527,
     "user": {
      "displayName": "Lucas Fritzsche",
      "photoUrl": "https://lh3.googleusercontent.com/a-/AOh14Gig9jWRBH9pEsZxAH2T8DAJghA-cFwhfbFplzkmOA=s64",
      "userId": "08959184792999143517"
     },
     "user_tz": -120
    },
    "id": "SlJGdiMESNmv"
   },
   "outputs": [],
   "source": [
    "spalten = array_sequenz.shape[2]\n",
    "ausgabe = ueb_array.shape[1]\n",
    "\n",
    "model = Sequential()\n",
    "\n",
    "model.add(LSTM(\n",
    "         input_shape=(window_size, spalten),\n",
    "         units=200,\n",
    "         return_sequences=True))\n",
    "model.add(Dropout(0.2))\n",
    "\n",
    "model.add(LSTM(\n",
    "          units=100,\n",
    "          return_sequences=False))\n",
    "model.add(Dropout(0.2))\n",
    "\n",
    "model.add(Dense(units=ausgabe, activation='sigmoid'))\n",
    "model.compile(loss='binary_crossentropy', optimizer='adam', metrics=['accuracy'])\n"
   ]
  },
  {
   "cell_type": "code",
   "execution_count": 27,
   "metadata": {
    "colab": {
     "base_uri": "https://localhost:8080/"
    },
    "executionInfo": {
     "elapsed": 10,
     "status": "ok",
     "timestamp": 1626031929528,
     "user": {
      "displayName": "Lucas Fritzsche",
      "photoUrl": "https://lh3.googleusercontent.com/a-/AOh14Gig9jWRBH9pEsZxAH2T8DAJghA-cFwhfbFplzkmOA=s64",
      "userId": "08959184792999143517"
     },
     "user_tz": -120
    },
    "id": "wr63bk1QSNmw",
    "outputId": "e045e53a-d4e5-4704-8a98-cf4aae8a79aa"
   },
   "outputs": [
    {
     "name": "stdout",
     "output_type": "stream",
     "text": [
      "Model: \"sequential\"\n",
      "_________________________________________________________________\n",
      "Layer (type)                 Output Shape              Param #   \n",
      "=================================================================\n",
      "lstm (LSTM)                  (None, 25, 200)           175200    \n",
      "_________________________________________________________________\n",
      "dropout (Dropout)            (None, 25, 200)           0         \n",
      "_________________________________________________________________\n",
      "lstm_1 (LSTM)                (None, 100)               120400    \n",
      "_________________________________________________________________\n",
      "dropout_1 (Dropout)          (None, 100)               0         \n",
      "_________________________________________________________________\n",
      "dense (Dense)                (None, 1)                 101       \n",
      "=================================================================\n",
      "Total params: 295,701\n",
      "Trainable params: 295,701\n",
      "Non-trainable params: 0\n",
      "_________________________________________________________________\n",
      "None\n"
     ]
    }
   ],
   "source": [
    "print(model.summary())\n"
   ]
  },
  {
   "cell_type": "code",
   "execution_count": 28,
   "metadata": {
    "colab": {
     "base_uri": "https://localhost:8080/"
    },
    "executionInfo": {
     "elapsed": 280664,
     "status": "ok",
     "timestamp": 1626032210186,
     "user": {
      "displayName": "Lucas Fritzsche",
      "photoUrl": "https://lh3.googleusercontent.com/a-/AOh14Gig9jWRBH9pEsZxAH2T8DAJghA-cFwhfbFplzkmOA=s64",
      "userId": "08959184792999143517"
     },
     "user_tz": -120
    },
    "id": "SdsoBr3ASNmw",
    "outputId": "6c22d11d-5a67-47dc-ad5b-82eec4079a0c"
   },
   "outputs": [
    {
     "name": "stdout",
     "output_type": "stream",
     "text": [
      "Epoch 1/10\n",
      "87/87 [==============================] - 17s 151ms/step - loss: 0.2726 - accuracy: 0.8735 - val_loss: 0.1108 - val_accuracy: 0.9592\n",
      "Epoch 2/10\n",
      "87/87 [==============================] - 12s 136ms/step - loss: 0.0972 - accuracy: 0.9615 - val_loss: 0.0681 - val_accuracy: 0.9625\n",
      "Epoch 3/10\n",
      "87/87 [==============================] - 12s 144ms/step - loss: 0.0629 - accuracy: 0.9746 - val_loss: 0.1099 - val_accuracy: 0.9570\n",
      "Epoch 4/10\n",
      "87/87 [==============================] - 12s 132ms/step - loss: 0.0610 - accuracy: 0.9746 - val_loss: 0.0787 - val_accuracy: 0.9647\n",
      "Epoch 5/10\n",
      "87/87 [==============================] - 11s 130ms/step - loss: 0.0585 - accuracy: 0.9763 - val_loss: 0.0731 - val_accuracy: 0.9614\n",
      "Epoch 6/10\n",
      "87/87 [==============================] - 11s 130ms/step - loss: 0.0539 - accuracy: 0.9774 - val_loss: 0.0571 - val_accuracy: 0.9757\n",
      "Epoch 7/10\n",
      "87/87 [==============================] - 11s 126ms/step - loss: 0.0547 - accuracy: 0.9774 - val_loss: 0.0520 - val_accuracy: 0.9757\n",
      "Epoch 8/10\n",
      "87/87 [==============================] - 11s 122ms/step - loss: 0.0498 - accuracy: 0.9791 - val_loss: 0.0562 - val_accuracy: 0.9735\n",
      "Epoch 9/10\n",
      "87/87 [==============================] - 10s 118ms/step - loss: 0.0462 - accuracy: 0.9813 - val_loss: 0.0450 - val_accuracy: 0.9802\n",
      "Epoch 10/10\n",
      "87/87 [==============================] - 10s 114ms/step - loss: 0.0452 - accuracy: 0.9811 - val_loss: 0.0322 - val_accuracy: 0.9879\n"
     ]
    },
    {
     "data": {
      "text/plain": [
       "<tensorflow.python.keras.callbacks.History at 0x24033da29d0>"
      ]
     },
     "execution_count": 28,
     "metadata": {},
     "output_type": "execute_result"
    }
   ],
   "source": [
    "model.fit(array_sequenz, ueb_array, epochs=10, batch_size=200, validation_split=0.05, verbose=1)"
   ]
  },
  {
   "cell_type": "markdown",
   "metadata": {},
   "source": [
    "## 4.2. Evaluation"
   ]
  },
  {
   "cell_type": "code",
   "execution_count": 29,
   "metadata": {
    "colab": {
     "base_uri": "https://localhost:8080/"
    },
    "executionInfo": {
     "elapsed": 7617,
     "status": "ok",
     "timestamp": 1626032217797,
     "user": {
      "displayName": "Lucas Fritzsche",
      "photoUrl": "https://lh3.googleusercontent.com/a-/AOh14Gig9jWRBH9pEsZxAH2T8DAJghA-cFwhfbFplzkmOA=s64",
      "userId": "08959184792999143517"
     },
     "user_tz": -120
    },
    "id": "zMnGOD-jSNmx",
    "outputId": "c43ddb7c-e03f-4310-ef19-80aff990f464"
   },
   "outputs": [
    {
     "name": "stdout",
     "output_type": "stream",
     "text": [
      "91/91 [==============================] - 3s 35ms/step - loss: 0.0519 - accuracy: 0.9782\n",
      "accuracy: 0.9782140851020813\n"
     ]
    }
   ],
   "source": [
    "scores = model.evaluate(array_sequenz, ueb_array, verbose=1, batch_size=200)\n",
    "print('accuracy: {}'.format(scores[1]))\n"
   ]
  },
  {
   "cell_type": "code",
   "execution_count": 30,
   "metadata": {
    "colab": {
     "base_uri": "https://localhost:8080/"
    },
    "executionInfo": {
     "elapsed": 8443,
     "status": "ok",
     "timestamp": 1626032226233,
     "user": {
      "displayName": "Lucas Fritzsche",
      "photoUrl": "https://lh3.googleusercontent.com/a-/AOh14Gig9jWRBH9pEsZxAH2T8DAJghA-cFwhfbFplzkmOA=s64",
      "userId": "08959184792999143517"
     },
     "user_tz": -120
    },
    "id": "tmuo488dSNmx",
    "outputId": "38bec71f-7661-471c-9b53-b9988ab01264"
   },
   "outputs": [
    {
     "name": "stdout",
     "output_type": "stream",
     "text": [
      "91/91 [==============================] - 3s 30ms/step\n",
      "confusion Matrix\n"
     ]
    },
    {
     "data": {
      "text/plain": [
       "array([[15698,   333],\n",
       "       [   62,  2038]], dtype=int64)"
      ]
     },
     "execution_count": 30,
     "metadata": {},
     "output_type": "execute_result"
    }
   ],
   "source": [
    "y_pred = model.predict(array_sequenz,verbose=1, batch_size=200)\n",
    "y_pred = np.round(y_pred).astype(int)\n",
    "y_true = ueb_array\n",
    "print('confusion Matrix')\n",
    "konfusionsmatrix = confusion_matrix(y_true, y_pred)\n",
    "konfusionsmatrix\n"
   ]
  },
  {
   "cell_type": "code",
   "execution_count": 31,
   "metadata": {
    "colab": {
     "base_uri": "https://localhost:8080/"
    },
    "executionInfo": {
     "elapsed": 14,
     "status": "ok",
     "timestamp": 1626032226234,
     "user": {
      "displayName": "Lucas Fritzsche",
      "photoUrl": "https://lh3.googleusercontent.com/a-/AOh14Gig9jWRBH9pEsZxAH2T8DAJghA-cFwhfbFplzkmOA=s64",
      "userId": "08959184792999143517"
     },
     "user_tz": -120
    },
    "id": "ljnGoOrJSNmy",
    "outputId": "f8862f3f-80dc-42ab-ee18-ddcc13525214"
   },
   "outputs": [
    {
     "name": "stdout",
     "output_type": "stream",
     "text": [
      "accuracy =  0.859552931252636 \n",
      " recall =  0.9704761904761905\n"
     ]
    }
   ],
   "source": [
    "accuracy = precision_score(y_true, y_pred)\n",
    "recall = recall_score(y_true, y_pred)\n",
    "print( 'accuracy = ', accuracy, '\\n', 'recall = ', recall)\n"
   ]
  },
  {
   "cell_type": "markdown",
   "metadata": {
    "id": "uQFaIgMfSNmy"
   },
   "source": [
    "In the next step we will compare the test data, for this we have saved the last working state of the cycle for each fire detector in the test data. To be able to compare the results, we use the last sequence for each fire detector in the test data."
   ]
  },
  {
   "cell_type": "code",
   "execution_count": 32,
   "metadata": {
    "colab": {
     "base_uri": "https://localhost:8080/"
    },
    "executionInfo": {
     "elapsed": 328,
     "status": "ok",
     "timestamp": 1626032226552,
     "user": {
      "displayName": "Lucas Fritzsche",
      "photoUrl": "https://lh3.googleusercontent.com/a-/AOh14Gig9jWRBH9pEsZxAH2T8DAJghA-cFwhfbFplzkmOA=s64",
      "userId": "08959184792999143517"
     },
     "user_tz": -120
    },
    "id": "s1Wgt6GLVANH",
    "outputId": "bc6c3860-0c0d-422a-ecb2-929a829c9228"
   },
   "outputs": [
    {
     "data": {
      "text/plain": [
       "(100, 25, 18)"
      ]
     },
     "execution_count": 32,
     "metadata": {},
     "output_type": "execute_result"
    }
   ],
   "source": [
    "testdaten_vergleich = [test_df[test_df['id']==id][spalten_sequenz].values[ - window_size:] \n",
    "                       for id in test_df['id'].unique() if len(test_df[test_df['id']==id]) >= window_size]\n",
    "\n",
    "testdaten_vergleich = np.asarray(testdaten_vergleich).astype(np.float32)\n",
    "testdaten_vergleich.shape"
   ]
  },
  {
   "cell_type": "code",
   "execution_count": 33,
   "metadata": {
    "executionInfo": {
     "elapsed": 10,
     "status": "ok",
     "timestamp": 1626032226553,
     "user": {
      "displayName": "Lucas Fritzsche",
      "photoUrl": "https://lh3.googleusercontent.com/a-/AOh14Gig9jWRBH9pEsZxAH2T8DAJghA-cFwhfbFplzkmOA=s64",
      "userId": "08959184792999143517"
     },
     "user_tz": -120
    },
    "id": "cS4UnfLYVCpI"
   },
   "outputs": [],
   "source": [
    "y2 = [len(test_df[test_df['id']==id]) >= window_size for id in test_df['id'].unique()]\n"
   ]
  },
  {
   "cell_type": "code",
   "execution_count": 34,
   "metadata": {
    "colab": {
     "base_uri": "https://localhost:8080/"
    },
    "executionInfo": {
     "elapsed": 10,
     "status": "ok",
     "timestamp": 1626032226553,
     "user": {
      "displayName": "Lucas Fritzsche",
      "photoUrl": "https://lh3.googleusercontent.com/a-/AOh14Gig9jWRBH9pEsZxAH2T8DAJghA-cFwhfbFplzkmOA=s64",
      "userId": "08959184792999143517"
     },
     "user_tz": -120
    },
    "id": "-THI3wO9VX8p",
    "outputId": "762d57e3-3a38-4275-861f-c6650bab002f"
   },
   "outputs": [
    {
     "data": {
      "text/plain": [
       "(100, 1)"
      ]
     },
     "execution_count": 34,
     "metadata": {},
     "output_type": "execute_result"
    }
   ],
   "source": [
    "ueb_array_test_last = test_df.groupby('id')['label1'].nth(-1)[y2].values\n",
    "ueb_array_test_last = ueb_array_test_last.reshape(ueb_array_test_last.shape[0],1).astype(np.float32)\n",
    "ueb_array_test_last.shape\n"
   ]
  },
  {
   "cell_type": "code",
   "execution_count": 35,
   "metadata": {
    "colab": {
     "base_uri": "https://localhost:8080/"
    },
    "executionInfo": {
     "elapsed": 6,
     "status": "ok",
     "timestamp": 1626032226553,
     "user": {
      "displayName": "Lucas Fritzsche",
      "photoUrl": "https://lh3.googleusercontent.com/a-/AOh14Gig9jWRBH9pEsZxAH2T8DAJghA-cFwhfbFplzkmOA=s64",
      "userId": "08959184792999143517"
     },
     "user_tz": -120
    },
    "id": "vGroQGgzVbbg",
    "outputId": "3998c6dc-0bb3-4e30-d8dd-7ce639248acd"
   },
   "outputs": [
    {
     "name": "stdout",
     "output_type": "stream",
     "text": [
      "(100, 25, 18)\n",
      "(100, 1)\n"
     ]
    }
   ],
   "source": [
    "print(testdaten_vergleich.shape)\n",
    "print(ueb_array_test_last.shape)\n"
   ]
  },
  {
   "cell_type": "code",
   "execution_count": 36,
   "metadata": {
    "colab": {
     "base_uri": "https://localhost:8080/"
    },
    "executionInfo": {
     "elapsed": 212,
     "status": "ok",
     "timestamp": 1626032226762,
     "user": {
      "displayName": "Lucas Fritzsche",
      "photoUrl": "https://lh3.googleusercontent.com/a-/AOh14Gig9jWRBH9pEsZxAH2T8DAJghA-cFwhfbFplzkmOA=s64",
      "userId": "08959184792999143517"
     },
     "user_tz": -120
    },
    "id": "Q1T0EqGyVedH",
    "outputId": "fde77a33-3f58-4db4-8316-e51d7a8dc0c4"
   },
   "outputs": [
    {
     "name": "stdout",
     "output_type": "stream",
     "text": [
      "4/4 - 0s - loss: 0.1298 - accuracy: 0.9400\n",
      "accuracy: 0.9399999976158142\n"
     ]
    }
   ],
   "source": [
    "werte_testdaten = model.evaluate(testdaten_vergleich, ueb_array_test_last, verbose=2)\n",
    "print('accuracy: {}'.format(werte_testdaten[1]))\n"
   ]
  },
  {
   "cell_type": "code",
   "execution_count": 37,
   "metadata": {
    "colab": {
     "base_uri": "https://localhost:8080/"
    },
    "executionInfo": {
     "elapsed": 230,
     "status": "ok",
     "timestamp": 1626032226989,
     "user": {
      "displayName": "Lucas Fritzsche",
      "photoUrl": "https://lh3.googleusercontent.com/a-/AOh14Gig9jWRBH9pEsZxAH2T8DAJghA-cFwhfbFplzkmOA=s64",
      "userId": "08959184792999143517"
     },
     "user_tz": -120
    },
    "id": "bUa6UCo5VhbJ",
    "outputId": "99be2a57-b735-484b-9c99-0442e9ae59eb"
   },
   "outputs": [
    {
     "name": "stdout",
     "output_type": "stream",
     "text": [
      "confusion Matrix\n"
     ]
    },
    {
     "data": {
      "text/plain": [
       "array([[80,  4],\n",
       "       [ 2, 14]], dtype=int64)"
      ]
     },
     "execution_count": 37,
     "metadata": {},
     "output_type": "execute_result"
    }
   ],
   "source": [
    "testdaten_y = model.predict(testdaten_vergleich)\n",
    "testdaten_y = np.round(testdaten_y).astype(int)\n",
    "wahrheit_y = ueb_array_test_last\n",
    "print('confusion Matrix')\n",
    "konfusionsmatrix2 = confusion_matrix(wahrheit_y, testdaten_y)\n",
    "konfusionsmatrix2\n"
   ]
  },
  {
   "cell_type": "code",
   "execution_count": 42,
   "metadata": {
    "colab": {
     "base_uri": "https://localhost:8080/"
    },
    "executionInfo": {
     "elapsed": 14,
     "status": "ok",
     "timestamp": 1626032227432,
     "user": {
      "displayName": "Lucas Fritzsche",
      "photoUrl": "https://lh3.googleusercontent.com/a-/AOh14Gig9jWRBH9pEsZxAH2T8DAJghA-cFwhfbFplzkmOA=s64",
      "userId": "08959184792999143517"
     },
     "user_tz": -120
    },
    "id": "rlESi90_VjxP",
    "outputId": "4a40fa01-38ca-424a-d7c4-b0cd8f4e38df"
   },
   "outputs": [
    {
     "name": "stdout",
     "output_type": "stream",
     "text": [
      "Precision:  0.7777777777777778 \n",
      " recall:  0.875 \n",
      " F1-score: 0.823529411764706\n"
     ]
    }
   ],
   "source": [
    "testdaten_genauigkeit = precision_score(wahrheit_y, testdaten_y)\n",
    "recall_test = recall_score(wahrheit_y, testdaten_y)\n",
    "f1_test = 2 * (testdaten_genauigkeit * recall_test) / (testdaten_genauigkeit + recall_test)\n",
    "print( 'Precision: ', testdaten_genauigkeit, '\\n', 'recall: ', recall_test,'\\n', 'F1-score:', f1_test )\n"
   ]
  },
  {
   "cell_type": "code",
   "execution_count": 43,
   "metadata": {
    "colab": {
     "base_uri": "https://localhost:8080/",
     "height": 79
    },
    "executionInfo": {
     "elapsed": 11,
     "status": "ok",
     "timestamp": 1626032227433,
     "user": {
      "displayName": "Lucas Fritzsche",
      "photoUrl": "https://lh3.googleusercontent.com/a-/AOh14Gig9jWRBH9pEsZxAH2T8DAJghA-cFwhfbFplzkmOA=s64",
      "userId": "08959184792999143517"
     },
     "user_tz": -120
    },
    "id": "2Zm9OC3IVpI_",
    "outputId": "5c05c937-e2da-427c-afd6-7710b826c64f"
   },
   "outputs": [
    {
     "data": {
      "text/html": [
       "<div>\n",
       "<style scoped>\n",
       "    .dataframe tbody tr th:only-of-type {\n",
       "        vertical-align: middle;\n",
       "    }\n",
       "\n",
       "    .dataframe tbody tr th {\n",
       "        vertical-align: top;\n",
       "    }\n",
       "\n",
       "    .dataframe thead th {\n",
       "        text-align: right;\n",
       "    }\n",
       "</style>\n",
       "<table border=\"1\" class=\"dataframe\">\n",
       "  <thead>\n",
       "    <tr style=\"text-align: right;\">\n",
       "      <th></th>\n",
       "      <th>Accuracy</th>\n",
       "      <th>Precision</th>\n",
       "      <th>Recall</th>\n",
       "      <th>F1-score</th>\n",
       "    </tr>\n",
       "  </thead>\n",
       "  <tbody>\n",
       "    <tr>\n",
       "      <th>LSTM</th>\n",
       "      <td>0.94</td>\n",
       "      <td>0.777778</td>\n",
       "      <td>0.875</td>\n",
       "      <td>0.823529</td>\n",
       "    </tr>\n",
       "  </tbody>\n",
       "</table>\n",
       "</div>"
      ],
      "text/plain": [
       "      Accuracy  Precision  Recall  F1-score\n",
       "LSTM      0.94   0.777778   0.875  0.823529"
      ]
     },
     "execution_count": 43,
     "metadata": {},
     "output_type": "execute_result"
    }
   ],
   "source": [
    "results_df = pd.DataFrame([[werte_testdaten[1],testdaten_genauigkeit,recall_test,f1_test]],\n",
    "                         columns = ['Accuracy', 'Precision', 'Recall', 'F1-score'],\n",
    "                         index = ['LSTM'])\n",
    "results_df\n"
   ]
  },
  {
   "cell_type": "code",
   "execution_count": null,
   "metadata": {},
   "outputs": [],
   "source": []
  }
 ],
 "metadata": {
  "colab": {
   "name": "Minimax.ipynb",
   "provenance": []
  },
  "interpreter": {
   "hash": "aab7ff84f4433dd8b68de441cd3c658d57659112bcb62d3bd6aa325045009f13"
  },
  "kernelspec": {
   "display_name": "Python 3.8.9 64-bit",
   "name": "python3"
  },
  "language_info": {
   "codemirror_mode": {
    "name": "ipython",
    "version": 3
   },
   "file_extension": ".py",
   "mimetype": "text/x-python",
   "name": "python",
   "nbconvert_exporter": "python",
   "pygments_lexer": "ipython3",
   "version": "3.8.9"
  }
 },
 "nbformat": 4,
 "nbformat_minor": 2
}
