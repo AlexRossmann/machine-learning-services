{
 "cells": [
  {
   "cell_type": "markdown",
   "metadata": {},
   "source": [
    "# 1. Business Understanding\n",
    "\n",
    "Uber Technologies Inc. is a San Francisco-based company founded in 2009. It has 91 million active users and 3.9 million drivers worldwide. The company is represented with its app in a total of 63 countries.\n",
    "There must be a basic understanding of the objectives from the business perspective. This can then be applied to define appropriate data mining project requirements so that they can be realized. Uber tries to optimize forecasts based on supply and demand in such a way that an availability of vehicles is always guaranteed in order to maintain the service for its users. This dataset is intended to demonstrate the feasibility of this goal."
   ]
  },
  {
   "cell_type": "markdown",
   "metadata": {},
   "source": [
    "# 2. Data and Data Preparation\n",
    "\n",
    "The dataset consists of four basic variables: dispatching base number, date, active_vehicles, and trips.\n",
    "The dispatching base number variable is a code assigned by the TLC that indicates an Uber base in New York City. Accordingly, the codes can be assigned to the following bases: B02512: Under, B02598: Behind, B02617: Next, B02682: Taste, B02764: After-NY, B02765: Grun, B02835: Brazen, B02836: Inside.\n",
    "By a first overview of the available data, one can already speculate about possible dependencies between the number of active vehicles, number of trips as well as the date."
   ]
  },
  {
   "cell_type": "markdown",
   "metadata": {},
   "source": [
    "## 2.1 Import of Relevant Modules"
   ]
  },
  {
   "cell_type": "code",
   "execution_count": null,
   "metadata": {},
   "outputs": [],
   "source": [
    "import numpy as np\n",
    "import pandas as pd\n",
    "import statsmodels.api as sm\n",
    "import matplotlib.pyplot as plt\n",
    "import seaborn as sns\n",
    "import datetime\n",
    "import math\n",
    "import matplotlib.dates as mdates\n",
    "from matplotlib.dates import DateFormatter\n",
    "sns.set()\n",
    "from sklearn.linear_model import LinearRegression"
   ]
  },
  {
   "cell_type": "markdown",
   "metadata": {},
   "source": [
    "## 2.2 Read Data"
   ]
  },
  {
   "cell_type": "code",
   "execution_count": 2,
   "metadata": {},
   "outputs": [],
   "source": [
    "from pandas.plotting import register_matplotlib_converters\n",
    "register_matplotlib_converters()"
   ]
  },
  {
   "cell_type": "code",
   "execution_count": 3,
   "metadata": {},
   "outputs": [],
   "source": [
    "raw_data =pd.read_csv('https://storage.googleapis.com/ml-service-repository-datastorage/Forecast_of_required_vehicles_in_the_city_center_data.csv')"
   ]
  },
  {
   "cell_type": "code",
   "execution_count": 4,
   "metadata": {},
   "outputs": [
    {
     "data": {
      "text/html": [
       "<div>\n",
       "<style scoped>\n",
       "    .dataframe tbody tr th:only-of-type {\n",
       "        vertical-align: middle;\n",
       "    }\n",
       "\n",
       "    .dataframe tbody tr th {\n",
       "        vertical-align: top;\n",
       "    }\n",
       "\n",
       "    .dataframe thead th {\n",
       "        text-align: right;\n",
       "    }\n",
       "</style>\n",
       "<table border=\"1\" class=\"dataframe\">\n",
       "  <thead>\n",
       "    <tr style=\"text-align: right;\">\n",
       "      <th></th>\n",
       "      <th>dispatching_base_number</th>\n",
       "      <th>date</th>\n",
       "      <th>active_vehicles</th>\n",
       "      <th>trips</th>\n",
       "    </tr>\n",
       "  </thead>\n",
       "  <tbody>\n",
       "    <tr>\n",
       "      <th>0</th>\n",
       "      <td>B02512</td>\n",
       "      <td>1/1/2015</td>\n",
       "      <td>190</td>\n",
       "      <td>1132</td>\n",
       "    </tr>\n",
       "    <tr>\n",
       "      <th>1</th>\n",
       "      <td>B02765</td>\n",
       "      <td>1/1/2015</td>\n",
       "      <td>225</td>\n",
       "      <td>1765</td>\n",
       "    </tr>\n",
       "    <tr>\n",
       "      <th>2</th>\n",
       "      <td>B02764</td>\n",
       "      <td>1/1/2015</td>\n",
       "      <td>3427</td>\n",
       "      <td>29421</td>\n",
       "    </tr>\n",
       "    <tr>\n",
       "      <th>3</th>\n",
       "      <td>B02682</td>\n",
       "      <td>1/1/2015</td>\n",
       "      <td>945</td>\n",
       "      <td>7679</td>\n",
       "    </tr>\n",
       "    <tr>\n",
       "      <th>4</th>\n",
       "      <td>B02617</td>\n",
       "      <td>1/1/2015</td>\n",
       "      <td>1228</td>\n",
       "      <td>9537</td>\n",
       "    </tr>\n",
       "  </tbody>\n",
       "</table>\n",
       "</div>"
      ],
      "text/plain": [
       "  dispatching_base_number      date  active_vehicles  trips\n",
       "0                  B02512  1/1/2015              190   1132\n",
       "1                  B02765  1/1/2015              225   1765\n",
       "2                  B02764  1/1/2015             3427  29421\n",
       "3                  B02682  1/1/2015              945   7679\n",
       "4                  B02617  1/1/2015             1228   9537"
      ]
     },
     "execution_count": 4,
     "metadata": {},
     "output_type": "execute_result"
    }
   ],
   "source": [
    "#Output record head\n",
    "raw_data.head()"
   ]
  },
  {
   "cell_type": "code",
   "execution_count": 5,
   "metadata": {},
   "outputs": [
    {
     "data": {
      "text/html": [
       "<div>\n",
       "<style scoped>\n",
       "    .dataframe tbody tr th:only-of-type {\n",
       "        vertical-align: middle;\n",
       "    }\n",
       "\n",
       "    .dataframe tbody tr th {\n",
       "        vertical-align: top;\n",
       "    }\n",
       "\n",
       "    .dataframe thead th {\n",
       "        text-align: right;\n",
       "    }\n",
       "</style>\n",
       "<table border=\"1\" class=\"dataframe\">\n",
       "  <thead>\n",
       "    <tr style=\"text-align: right;\">\n",
       "      <th></th>\n",
       "      <th>dispatching_base_number</th>\n",
       "      <th>date</th>\n",
       "      <th>active_vehicles</th>\n",
       "      <th>trips</th>\n",
       "    </tr>\n",
       "  </thead>\n",
       "  <tbody>\n",
       "    <tr>\n",
       "      <th>count</th>\n",
       "      <td>354</td>\n",
       "      <td>354</td>\n",
       "      <td>354.000000</td>\n",
       "      <td>354.000000</td>\n",
       "    </tr>\n",
       "    <tr>\n",
       "      <th>unique</th>\n",
       "      <td>6</td>\n",
       "      <td>59</td>\n",
       "      <td>NaN</td>\n",
       "      <td>NaN</td>\n",
       "    </tr>\n",
       "    <tr>\n",
       "      <th>top</th>\n",
       "      <td>B02598</td>\n",
       "      <td>1/27/2015</td>\n",
       "      <td>NaN</td>\n",
       "      <td>NaN</td>\n",
       "    </tr>\n",
       "    <tr>\n",
       "      <th>freq</th>\n",
       "      <td>59</td>\n",
       "      <td>6</td>\n",
       "      <td>NaN</td>\n",
       "      <td>NaN</td>\n",
       "    </tr>\n",
       "    <tr>\n",
       "      <th>mean</th>\n",
       "      <td>NaN</td>\n",
       "      <td>NaN</td>\n",
       "      <td>1307.435028</td>\n",
       "      <td>11667.316384</td>\n",
       "    </tr>\n",
       "    <tr>\n",
       "      <th>std</th>\n",
       "      <td>NaN</td>\n",
       "      <td>NaN</td>\n",
       "      <td>1162.510626</td>\n",
       "      <td>10648.284865</td>\n",
       "    </tr>\n",
       "    <tr>\n",
       "      <th>min</th>\n",
       "      <td>NaN</td>\n",
       "      <td>NaN</td>\n",
       "      <td>112.000000</td>\n",
       "      <td>629.000000</td>\n",
       "    </tr>\n",
       "    <tr>\n",
       "      <th>25%</th>\n",
       "      <td>NaN</td>\n",
       "      <td>NaN</td>\n",
       "      <td>296.750000</td>\n",
       "      <td>2408.500000</td>\n",
       "    </tr>\n",
       "    <tr>\n",
       "      <th>50%</th>\n",
       "      <td>NaN</td>\n",
       "      <td>NaN</td>\n",
       "      <td>1077.000000</td>\n",
       "      <td>9601.000000</td>\n",
       "    </tr>\n",
       "    <tr>\n",
       "      <th>75%</th>\n",
       "      <td>NaN</td>\n",
       "      <td>NaN</td>\n",
       "      <td>1417.000000</td>\n",
       "      <td>13711.250000</td>\n",
       "    </tr>\n",
       "    <tr>\n",
       "      <th>max</th>\n",
       "      <td>NaN</td>\n",
       "      <td>NaN</td>\n",
       "      <td>4395.000000</td>\n",
       "      <td>45858.000000</td>\n",
       "    </tr>\n",
       "  </tbody>\n",
       "</table>\n",
       "</div>"
      ],
      "text/plain": [
       "       dispatching_base_number       date  active_vehicles         trips\n",
       "count                      354        354       354.000000    354.000000\n",
       "unique                       6         59              NaN           NaN\n",
       "top                     B02598  1/27/2015              NaN           NaN\n",
       "freq                        59          6              NaN           NaN\n",
       "mean                       NaN        NaN      1307.435028  11667.316384\n",
       "std                        NaN        NaN      1162.510626  10648.284865\n",
       "min                        NaN        NaN       112.000000    629.000000\n",
       "25%                        NaN        NaN       296.750000   2408.500000\n",
       "50%                        NaN        NaN      1077.000000   9601.000000\n",
       "75%                        NaN        NaN      1417.000000  13711.250000\n",
       "max                        NaN        NaN      4395.000000  45858.000000"
      ]
     },
     "execution_count": 5,
     "metadata": {},
     "output_type": "execute_result"
    }
   ],
   "source": [
    "#data description\n",
    "raw_data.describe(include='all')"
   ]
  },
  {
   "cell_type": "markdown",
   "metadata": {},
   "source": [
    "## 2.3 Data Cleaning"
   ]
  },
  {
   "cell_type": "code",
   "execution_count": 6,
   "metadata": {},
   "outputs": [
    {
     "data": {
      "text/plain": [
       "dispatching_base_number    0\n",
       "date                       0\n",
       "active_vehicles            0\n",
       "trips                      0\n",
       "dtype: int64"
      ]
     },
     "execution_count": 6,
     "metadata": {},
     "output_type": "execute_result"
    }
   ],
   "source": [
    "#check null values\n",
    "raw_data.isnull().sum()"
   ]
  },
  {
   "cell_type": "code",
   "execution_count": 7,
   "metadata": {},
   "outputs": [
    {
     "data": {
      "text/plain": [
       "0"
      ]
     },
     "execution_count": 7,
     "metadata": {},
     "output_type": "execute_result"
    }
   ],
   "source": [
    "raw_data.duplicated().sum()"
   ]
  },
  {
   "cell_type": "code",
   "execution_count": 8,
   "metadata": {
    "scrolled": true
   },
   "outputs": [
    {
     "name": "stderr",
     "output_type": "stream",
     "text": [
      "/Users/Jumana/opt/anaconda3/lib/python3.8/site-packages/seaborn/distributions.py:2551: FutureWarning: `distplot` is a deprecated function and will be removed in a future version. Please adapt your code to use either `displot` (a figure-level function with similar flexibility) or `histplot` (an axes-level function for histograms).\n",
      "  warnings.warn(msg, FutureWarning)\n"
     ]
    },
    {
     "data": {
      "text/plain": [
       "<AxesSubplot:xlabel='active_vehicles', ylabel='Density'>"
      ]
     },
     "execution_count": 8,
     "metadata": {},
     "output_type": "execute_result"
    },
    {
     "data": {
      "image/png": "[encoded data removed]",
      "text/plain": [
       "<Figure size 432x288 with 1 Axes>"
      ]
     },
     "metadata": {},
     "output_type": "display_data"
    }
   ],
   "source": [
    "# View data distributions for active vehicles\n",
    "sns.distplot(raw_data['active_vehicles'])"
   ]
  },
  {
   "cell_type": "code",
   "execution_count": 9,
   "metadata": {},
   "outputs": [
    {
     "name": "stderr",
     "output_type": "stream",
     "text": [
      "/Users/Jumana/opt/anaconda3/lib/python3.8/site-packages/seaborn/distributions.py:2551: FutureWarning: `distplot` is a deprecated function and will be removed in a future version. Please adapt your code to use either `displot` (a figure-level function with similar flexibility) or `histplot` (an axes-level function for histograms).\n",
      "  warnings.warn(msg, FutureWarning)\n"
     ]
    },
    {
     "data": {
      "text/plain": [
       "<AxesSubplot:xlabel='trips', ylabel='Density'>"
      ]
     },
     "execution_count": 9,
     "metadata": {},
     "output_type": "execute_result"
    },
    {
     "data": {
      "image/png": "[encoded data removed]",
      "text/plain": [
       "<Figure size 432x288 with 1 Axes>"
      ]
     },
     "metadata": {},
     "output_type": "display_data"
    }
   ],
   "source": [
    "# View data distributions for trips\n",
    "sns.distplot(raw_data['trips'])"
   ]
  },
  {
   "cell_type": "code",
   "execution_count": 10,
   "metadata": {},
   "outputs": [
    {
     "data": {
      "text/plain": [
       "3904.7499999999986"
      ]
     },
     "execution_count": 10,
     "metadata": {},
     "output_type": "execute_result"
    }
   ],
   "source": [
    "#Here a 95% quantile is generated for active vehicles & trips\n",
    "quant1= raw_data['active_vehicles'].quantile(0.95)\n",
    "quant1"
   ]
  },
  {
   "cell_type": "code",
   "execution_count": 11,
   "metadata": {},
   "outputs": [
    {
     "data": {
      "text/plain": [
       "36025.34999999999"
      ]
     },
     "execution_count": 11,
     "metadata": {},
     "output_type": "execute_result"
    }
   ],
   "source": [
    "quant1= raw_data['trips'].quantile(0.95)\n",
    "quant1"
   ]
  },
  {
   "cell_type": "code",
   "execution_count": 12,
   "metadata": {},
   "outputs": [],
   "source": [
    "#quantile containment for active_vehicles\n",
    "data1= raw_data[raw_data['active_vehicles']<quant1]"
   ]
  },
  {
   "cell_type": "code",
   "execution_count": 13,
   "metadata": {},
   "outputs": [],
   "source": [
    "#Quantile containment for trips\n",
    "\n",
    "data1=raw_data[raw_data['trips']<quant1]"
   ]
  },
  {
   "cell_type": "code",
   "execution_count": 14,
   "metadata": {},
   "outputs": [
    {
     "data": {
      "text/html": [
       "<div>\n",
       "<style scoped>\n",
       "    .dataframe tbody tr th:only-of-type {\n",
       "        vertical-align: middle;\n",
       "    }\n",
       "\n",
       "    .dataframe tbody tr th {\n",
       "        vertical-align: top;\n",
       "    }\n",
       "\n",
       "    .dataframe thead th {\n",
       "        text-align: right;\n",
       "    }\n",
       "</style>\n",
       "<table border=\"1\" class=\"dataframe\">\n",
       "  <thead>\n",
       "    <tr style=\"text-align: right;\">\n",
       "      <th></th>\n",
       "      <th>dispatching_base_number</th>\n",
       "      <th>date</th>\n",
       "      <th>active_vehicles</th>\n",
       "      <th>trips</th>\n",
       "    </tr>\n",
       "  </thead>\n",
       "  <tbody>\n",
       "    <tr>\n",
       "      <th>count</th>\n",
       "      <td>336</td>\n",
       "      <td>336</td>\n",
       "      <td>336.000000</td>\n",
       "      <td>336.000000</td>\n",
       "    </tr>\n",
       "    <tr>\n",
       "      <th>unique</th>\n",
       "      <td>6</td>\n",
       "      <td>59</td>\n",
       "      <td>NaN</td>\n",
       "      <td>NaN</td>\n",
       "    </tr>\n",
       "    <tr>\n",
       "      <th>top</th>\n",
       "      <td>B02598</td>\n",
       "      <td>1/27/2015</td>\n",
       "      <td>NaN</td>\n",
       "      <td>NaN</td>\n",
       "    </tr>\n",
       "    <tr>\n",
       "      <th>freq</th>\n",
       "      <td>59</td>\n",
       "      <td>6</td>\n",
       "      <td>NaN</td>\n",
       "      <td>NaN</td>\n",
       "    </tr>\n",
       "    <tr>\n",
       "      <th>mean</th>\n",
       "      <td>NaN</td>\n",
       "      <td>NaN</td>\n",
       "      <td>1163.815476</td>\n",
       "      <td>10141.514881</td>\n",
       "    </tr>\n",
       "    <tr>\n",
       "      <th>std</th>\n",
       "      <td>NaN</td>\n",
       "      <td>NaN</td>\n",
       "      <td>1006.895472</td>\n",
       "      <td>8548.456980</td>\n",
       "    </tr>\n",
       "    <tr>\n",
       "      <th>min</th>\n",
       "      <td>NaN</td>\n",
       "      <td>NaN</td>\n",
       "      <td>112.000000</td>\n",
       "      <td>629.000000</td>\n",
       "    </tr>\n",
       "    <tr>\n",
       "      <th>25%</th>\n",
       "      <td>NaN</td>\n",
       "      <td>NaN</td>\n",
       "      <td>288.250000</td>\n",
       "      <td>2265.750000</td>\n",
       "    </tr>\n",
       "    <tr>\n",
       "      <th>50%</th>\n",
       "      <td>NaN</td>\n",
       "      <td>NaN</td>\n",
       "      <td>1056.500000</td>\n",
       "      <td>9467.500000</td>\n",
       "    </tr>\n",
       "    <tr>\n",
       "      <th>75%</th>\n",
       "      <td>NaN</td>\n",
       "      <td>NaN</td>\n",
       "      <td>1368.250000</td>\n",
       "      <td>12707.000000</td>\n",
       "    </tr>\n",
       "    <tr>\n",
       "      <th>max</th>\n",
       "      <td>NaN</td>\n",
       "      <td>NaN</td>\n",
       "      <td>4093.000000</td>\n",
       "      <td>35990.000000</td>\n",
       "    </tr>\n",
       "  </tbody>\n",
       "</table>\n",
       "</div>"
      ],
      "text/plain": [
       "       dispatching_base_number       date  active_vehicles         trips\n",
       "count                      336        336       336.000000    336.000000\n",
       "unique                       6         59              NaN           NaN\n",
       "top                     B02598  1/27/2015              NaN           NaN\n",
       "freq                        59          6              NaN           NaN\n",
       "mean                       NaN        NaN      1163.815476  10141.514881\n",
       "std                        NaN        NaN      1006.895472   8548.456980\n",
       "min                        NaN        NaN       112.000000    629.000000\n",
       "25%                        NaN        NaN       288.250000   2265.750000\n",
       "50%                        NaN        NaN      1056.500000   9467.500000\n",
       "75%                        NaN        NaN      1368.250000  12707.000000\n",
       "max                        NaN        NaN      4093.000000  35990.000000"
      ]
     },
     "execution_count": 14,
     "metadata": {},
     "output_type": "execute_result"
    }
   ],
   "source": [
    "data1.describe(include='all')"
   ]
  },
  {
   "cell_type": "code",
   "execution_count": 15,
   "metadata": {},
   "outputs": [
    {
     "name": "stderr",
     "output_type": "stream",
     "text": [
      "/Users/Jumana/opt/anaconda3/lib/python3.8/site-packages/seaborn/distributions.py:2551: FutureWarning: `distplot` is a deprecated function and will be removed in a future version. Please adapt your code to use either `displot` (a figure-level function with similar flexibility) or `histplot` (an axes-level function for histograms).\n",
      "  warnings.warn(msg, FutureWarning)\n"
     ]
    },
    {
     "data": {
      "text/plain": [
       "<AxesSubplot:xlabel='active_vehicles', ylabel='Density'>"
      ]
     },
     "execution_count": 15,
     "metadata": {},
     "output_type": "execute_result"
    },
    {
     "data": {
      "image/png": "[encoded data removed]",
      "text/plain": [
       "<Figure size 432x288 with 1 Axes>"
      ]
     },
     "metadata": {},
     "output_type": "display_data"
    }
   ],
   "source": [
    "#Displot from the quantile is generated & the irregular distribution is still noticed\n",
    "sns.distplot(data1['active_vehicles'])"
   ]
  },
  {
   "cell_type": "code",
   "execution_count": 16,
   "metadata": {},
   "outputs": [
    {
     "name": "stderr",
     "output_type": "stream",
     "text": [
      "/Users/Jumana/opt/anaconda3/lib/python3.8/site-packages/seaborn/distributions.py:2551: FutureWarning: `distplot` is a deprecated function and will be removed in a future version. Please adapt your code to use either `displot` (a figure-level function with similar flexibility) or `histplot` (an axes-level function for histograms).\n",
      "  warnings.warn(msg, FutureWarning)\n"
     ]
    },
    {
     "data": {
      "text/plain": [
       "<AxesSubplot:xlabel='active_vehicles', ylabel='Density'>"
      ]
     },
     "execution_count": 16,
     "metadata": {},
     "output_type": "execute_result"
    },
    {
     "data": {
      "image/png": "[encoded data removed]",
      "text/plain": [
       "<Figure size 432x288 with 1 Axes>"
      ]
     },
     "metadata": {},
     "output_type": "display_data"
    }
   ],
   "source": [
    "#Next step is to narrow down the values to 4000(active vehicles).\n",
    "#On the left side you can see the main distribution of the dataset\n",
    "data2= data1[data1['active_vehicles']<=4000]\n",
    "data2= data1[data1['active_vehicles']>=600]\n",
    "plt.xlim(0,4000)\n",
    "sns.distplot(data2['active_vehicles'])"
   ]
  },
  {
   "cell_type": "code",
   "execution_count": 17,
   "metadata": {},
   "outputs": [],
   "source": [
    "#here a quantile is created for number of trips\n",
    "#data2= data1[data1['trips']<quant1]"
   ]
  },
  {
   "cell_type": "code",
   "execution_count": 18,
   "metadata": {},
   "outputs": [
    {
     "name": "stderr",
     "output_type": "stream",
     "text": [
      "/Users/Jumana/opt/anaconda3/lib/python3.8/site-packages/seaborn/distributions.py:2551: FutureWarning: `distplot` is a deprecated function and will be removed in a future version. Please adapt your code to use either `displot` (a figure-level function with similar flexibility) or `histplot` (an axes-level function for histograms).\n",
      "  warnings.warn(msg, FutureWarning)\n"
     ]
    },
    {
     "data": {
      "text/plain": [
       "<AxesSubplot:xlabel='trips', ylabel='Density'>"
      ]
     },
     "execution_count": 18,
     "metadata": {},
     "output_type": "execute_result"
    },
    {
     "data": {
      "image/png": "[encoded data removed]",
      "text/plain": [
       "<Figure size 432x288 with 1 Axes>"
      ]
     },
     "metadata": {},
     "output_type": "display_data"
    }
   ],
   "source": [
    "sns.distplot(data2['trips'])"
   ]
  },
  {
   "cell_type": "code",
   "execution_count": 19,
   "metadata": {},
   "outputs": [
    {
     "name": "stderr",
     "output_type": "stream",
     "text": [
      "/Users/Jumana/opt/anaconda3/lib/python3.8/site-packages/seaborn/distributions.py:2551: FutureWarning: `distplot` is a deprecated function and will be removed in a future version. Please adapt your code to use either `displot` (a figure-level function with similar flexibility) or `histplot` (an axes-level function for histograms).\n",
      "  warnings.warn(msg, FutureWarning)\n"
     ]
    },
    {
     "data": {
      "text/plain": [
       "<AxesSubplot:xlabel='trips', ylabel='Density'>"
      ]
     },
     "execution_count": 19,
     "metadata": {},
     "output_type": "execute_result"
    },
    {
     "data": {
      "image/png": "[encoded data removed]",
      "text/plain": [
       "<Figure size 432x288 with 1 Axes>"
      ]
     },
     "metadata": {},
     "output_type": "display_data"
    }
   ],
   "source": [
    "#Define value ranges\n",
    "data2= data1[data1['trips']<=20000]\n",
    "data2= data1[data1['trips']>=2000]\n",
    "plt.xlim(1000,17000)\n",
    "sns.distplot(data2['trips'])"
   ]
  },
  {
   "cell_type": "markdown",
   "metadata": {},
   "source": [
    "# 3. Data Preparation"
   ]
  },
  {
   "cell_type": "code",
   "execution_count": 20,
   "metadata": {},
   "outputs": [
    {
     "data": {
      "text/html": [
       "<div>\n",
       "<style scoped>\n",
       "    .dataframe tbody tr th:only-of-type {\n",
       "        vertical-align: middle;\n",
       "    }\n",
       "\n",
       "    .dataframe tbody tr th {\n",
       "        vertical-align: top;\n",
       "    }\n",
       "\n",
       "    .dataframe thead th {\n",
       "        text-align: right;\n",
       "    }\n",
       "</style>\n",
       "<table border=\"1\" class=\"dataframe\">\n",
       "  <thead>\n",
       "    <tr style=\"text-align: right;\">\n",
       "      <th></th>\n",
       "      <th>dispatching_base_number</th>\n",
       "      <th>date</th>\n",
       "      <th>active_vehicles</th>\n",
       "      <th>trips</th>\n",
       "    </tr>\n",
       "  </thead>\n",
       "  <tbody>\n",
       "    <tr>\n",
       "      <th>count</th>\n",
       "      <td>266</td>\n",
       "      <td>266</td>\n",
       "      <td>266.000000</td>\n",
       "      <td>266.000000</td>\n",
       "    </tr>\n",
       "    <tr>\n",
       "      <th>unique</th>\n",
       "      <td>6</td>\n",
       "      <td>59</td>\n",
       "      <td>NaN</td>\n",
       "      <td>NaN</td>\n",
       "    </tr>\n",
       "    <tr>\n",
       "      <th>top</th>\n",
       "      <td>B02598</td>\n",
       "      <td>2/5/2015</td>\n",
       "      <td>NaN</td>\n",
       "      <td>NaN</td>\n",
       "    </tr>\n",
       "    <tr>\n",
       "      <th>freq</th>\n",
       "      <td>59</td>\n",
       "      <td>6</td>\n",
       "      <td>NaN</td>\n",
       "      <td>NaN</td>\n",
       "    </tr>\n",
       "    <tr>\n",
       "      <th>mean</th>\n",
       "      <td>NaN</td>\n",
       "      <td>NaN</td>\n",
       "      <td>1411.646617</td>\n",
       "      <td>12414.560150</td>\n",
       "    </tr>\n",
       "    <tr>\n",
       "      <th>std</th>\n",
       "      <td>NaN</td>\n",
       "      <td>NaN</td>\n",
       "      <td>992.671651</td>\n",
       "      <td>8213.348133</td>\n",
       "    </tr>\n",
       "    <tr>\n",
       "      <th>min</th>\n",
       "      <td>NaN</td>\n",
       "      <td>NaN</td>\n",
       "      <td>236.000000</td>\n",
       "      <td>2016.000000</td>\n",
       "    </tr>\n",
       "    <tr>\n",
       "      <th>25%</th>\n",
       "      <td>NaN</td>\n",
       "      <td>NaN</td>\n",
       "      <td>925.500000</td>\n",
       "      <td>7620.500000</td>\n",
       "    </tr>\n",
       "    <tr>\n",
       "      <th>50%</th>\n",
       "      <td>NaN</td>\n",
       "      <td>NaN</td>\n",
       "      <td>1181.000000</td>\n",
       "      <td>10727.000000</td>\n",
       "    </tr>\n",
       "    <tr>\n",
       "      <th>75%</th>\n",
       "      <td>NaN</td>\n",
       "      <td>NaN</td>\n",
       "      <td>1439.500000</td>\n",
       "      <td>13842.500000</td>\n",
       "    </tr>\n",
       "    <tr>\n",
       "      <th>max</th>\n",
       "      <td>NaN</td>\n",
       "      <td>NaN</td>\n",
       "      <td>4093.000000</td>\n",
       "      <td>35990.000000</td>\n",
       "    </tr>\n",
       "  </tbody>\n",
       "</table>\n",
       "</div>"
      ],
      "text/plain": [
       "       dispatching_base_number      date  active_vehicles         trips\n",
       "count                      266       266       266.000000    266.000000\n",
       "unique                       6        59              NaN           NaN\n",
       "top                     B02598  2/5/2015              NaN           NaN\n",
       "freq                        59         6              NaN           NaN\n",
       "mean                       NaN       NaN      1411.646617  12414.560150\n",
       "std                        NaN       NaN       992.671651   8213.348133\n",
       "min                        NaN       NaN       236.000000   2016.000000\n",
       "25%                        NaN       NaN       925.500000   7620.500000\n",
       "50%                        NaN       NaN      1181.000000  10727.000000\n",
       "75%                        NaN       NaN      1439.500000  13842.500000\n",
       "max                        NaN       NaN      4093.000000  35990.000000"
      ]
     },
     "execution_count": 20,
     "metadata": {},
     "output_type": "execute_result"
    }
   ],
   "source": [
    "data_cleaned=pd.to_datetime(data2['date'])\n",
    "data_cleaned=str(data2['dispatching_base_number'].astype(str))\n",
    "#data_cleaned= data2[\"dispatching_base_number\"].astype(str)\n",
    "data_cleaned = data2.reset_index(drop=True)\n",
    "data_cleaned.describe(include='all')"
   ]
  },
  {
   "cell_type": "code",
   "execution_count": 21,
   "metadata": {},
   "outputs": [
    {
     "data": {
      "text/plain": [
       "<matplotlib.collections.PathCollection at 0x11ed7d310>"
      ]
     },
     "execution_count": 21,
     "metadata": {},
     "output_type": "execute_result"
    },
    {
     "data": {
      "image/png": "[encoded data removed]",
      "text/plain": [
       "<Figure size 432x288 with 1 Axes>"
      ]
     },
     "metadata": {},
     "output_type": "display_data"
    }
   ],
   "source": [
    "#After assuming that the data has been cleaned as far as possible, we continue with OLS assumptions.\n",
    "#Before a scatter plot showing the split and density of the values\n",
    "#Main feature: The data in the dataset are concentrated in the x=2000 & y= 20000 range\n",
    "#However, values in the range of 3000 to over 4000 must also be included in the model\n",
    "plt.scatter(data_cleaned['active_vehicles'], data_cleaned['trips'])"
   ]
  },
  {
   "cell_type": "code",
   "execution_count": 22,
   "metadata": {},
   "outputs": [
    {
     "data": {
      "text/plain": [
       "(0.0, 20000.0)"
      ]
     },
     "execution_count": 22,
     "metadata": {},
     "output_type": "execute_result"
    },
    {
     "data": {
      "image/png": "[encoded data removed]",
      "text/plain": [
       "<Figure size 432x288 with 1 Axes>"
      ]
     },
     "metadata": {},
     "output_type": "display_data"
    }
   ],
   "source": [
    "#Related to statement(s) from the line above.\n",
    "#Main distribution here is in the 2000 range\n",
    "plt.scatter(data_cleaned['active_vehicles'], data_cleaned['trips'])\n",
    "plt.xlim(0,2000)\n",
    "plt.ylim(0,20000)"
   ]
  },
  {
   "cell_type": "code",
   "execution_count": 23,
   "metadata": {},
   "outputs": [
    {
     "data": {
      "text/plain": [
       "<matplotlib.collections.PathCollection at 0x11ef43e80>"
      ]
     },
     "execution_count": 23,
     "metadata": {},
     "output_type": "execute_result"
    },
    {
     "data": {
      "image/png": "[encoded data removed]",
      "text/plain": [
       "<Figure size 432x288 with 1 Axes>"
      ]
     },
     "metadata": {},
     "output_type": "display_data"
    }
   ],
   "source": [
    "#A few more checks on the other variables\n",
    "plt.scatter(data_cleaned['trips'], data_cleaned['dispatching_base_number'])"
   ]
  },
  {
   "cell_type": "code",
   "execution_count": 24,
   "metadata": {},
   "outputs": [
    {
     "data": {
      "text/plain": [
       "<matplotlib.collections.PathCollection at 0x11f02a340>"
      ]
     },
     "execution_count": 24,
     "metadata": {},
     "output_type": "execute_result"
    },
    {
     "data": {
      "image/png": "[encoded data removed]",
      "text/plain": [
       "<Figure size 432x288 with 1 Axes>"
      ]
     },
     "metadata": {},
     "output_type": "display_data"
    }
   ],
   "source": [
    "plt.scatter(data_cleaned['dispatching_base_number'], data_cleaned['active_vehicles'])"
   ]
  },
  {
   "cell_type": "code",
   "execution_count": 25,
   "metadata": {},
   "outputs": [],
   "source": [
    "#Transformation für kontinuierliche Variablen\n",
    "#Log: Die Logarithmentransformation hilft bei schiefen Daten, die Schiefe zu reduzieren. Siehe Oben\n",
    "\n",
    "log_trips = np.log(data_cleaned['trips'])\n",
    "data_cleaned['log_trips'] = log_trips\n",
    "\n",
    "\n",
    "#Linearity is not present-> Violation of OLS Assumption"
   ]
  },
  {
   "cell_type": "code",
   "execution_count": 26,
   "metadata": {},
   "outputs": [
    {
     "data": {
      "text/plain": [
       "<matplotlib.collections.PathCollection at 0x11f099d90>"
      ]
     },
     "execution_count": 26,
     "metadata": {},
     "output_type": "execute_result"
    },
    {
     "data": {
      "image/png": "[encoded data removed]",
      "text/plain": [
       "<Figure size 432x288 with 1 Axes>"
      ]
     },
     "metadata": {},
     "output_type": "display_data"
    }
   ],
   "source": [
    "plt.scatter(data_cleaned['dispatching_base_number'], data_cleaned['log_trips'])"
   ]
  },
  {
   "cell_type": "code",
   "execution_count": 27,
   "metadata": {},
   "outputs": [
    {
     "data": {
      "text/plain": [
       "array(['dispatching_base_number', 'date', 'active_vehicles', 'trips',\n",
       "       'log_trips'], dtype=object)"
      ]
     },
     "execution_count": 27,
     "metadata": {},
     "output_type": "execute_result"
    }
   ],
   "source": [
    "#Output of the new columns -> You can see that \"Trips\" occurs twice since log transformation\n",
    "data_cleaned.columns.values"
   ]
  },
  {
   "cell_type": "code",
   "execution_count": 28,
   "metadata": {},
   "outputs": [],
   "source": [
    "#data_cleaned = data_cleaned.drop(['trips'], axis=1)"
   ]
  },
  {
   "cell_type": "code",
   "execution_count": 29,
   "metadata": {},
   "outputs": [],
   "source": [
    "#Variance Inflation Factor (VIF).\n",
    "#If the VIF is between 5 and 10, multicolinearity is probably present and you should consider dropping the variable.\n",
    "\n",
    "from statsmodels.stats.outliers_influence import variance_inflation_factor\n",
    "\n",
    "variables = data_cleaned[['active_vehicles', 'log_trips']]\n",
    "vif = pd.DataFrame()\n",
    "\n",
    "vif[\"VIF\"]= [variance_inflation_factor(variables.values, i) for i in range(variables.shape[1])]\n",
    "\n",
    "vif[\"Features\"]= variables.columns"
   ]
  },
  {
   "cell_type": "code",
   "execution_count": 30,
   "metadata": {},
   "outputs": [
    {
     "data": {
      "text/html": [
       "<div>\n",
       "<style scoped>\n",
       "    .dataframe tbody tr th:only-of-type {\n",
       "        vertical-align: middle;\n",
       "    }\n",
       "\n",
       "    .dataframe tbody tr th {\n",
       "        vertical-align: top;\n",
       "    }\n",
       "\n",
       "    .dataframe thead th {\n",
       "        text-align: right;\n",
       "    }\n",
       "</style>\n",
       "<table border=\"1\" class=\"dataframe\">\n",
       "  <thead>\n",
       "    <tr style=\"text-align: right;\">\n",
       "      <th></th>\n",
       "      <th>VIF</th>\n",
       "      <th>Features</th>\n",
       "    </tr>\n",
       "  </thead>\n",
       "  <tbody>\n",
       "    <tr>\n",
       "      <th>0</th>\n",
       "      <td>3.684423</td>\n",
       "      <td>active_vehicles</td>\n",
       "    </tr>\n",
       "    <tr>\n",
       "      <th>1</th>\n",
       "      <td>3.684423</td>\n",
       "      <td>log_trips</td>\n",
       "    </tr>\n",
       "  </tbody>\n",
       "</table>\n",
       "</div>"
      ],
      "text/plain": [
       "        VIF         Features\n",
       "0  3.684423  active_vehicles\n",
       "1  3.684423        log_trips"
      ]
     },
     "execution_count": 30,
     "metadata": {},
     "output_type": "execute_result"
    }
   ],
   "source": [
    "#VIF is output and the values are <5 \n",
    "vif"
   ]
  },
  {
   "cell_type": "code",
   "execution_count": 31,
   "metadata": {},
   "outputs": [
    {
     "data": {
      "text/html": [
       "<div>\n",
       "<style scoped>\n",
       "    .dataframe tbody tr th:only-of-type {\n",
       "        vertical-align: middle;\n",
       "    }\n",
       "\n",
       "    .dataframe tbody tr th {\n",
       "        vertical-align: top;\n",
       "    }\n",
       "\n",
       "    .dataframe thead th {\n",
       "        text-align: right;\n",
       "    }\n",
       "</style>\n",
       "<table border=\"1\" class=\"dataframe\">\n",
       "  <thead>\n",
       "    <tr style=\"text-align: right;\">\n",
       "      <th></th>\n",
       "      <th>dispatching_base_number</th>\n",
       "      <th>date</th>\n",
       "      <th>active_vehicles</th>\n",
       "      <th>trips</th>\n",
       "      <th>log_trips</th>\n",
       "    </tr>\n",
       "  </thead>\n",
       "  <tbody>\n",
       "    <tr>\n",
       "      <th>count</th>\n",
       "      <td>266</td>\n",
       "      <td>266</td>\n",
       "      <td>266.000000</td>\n",
       "      <td>266.000000</td>\n",
       "      <td>266.000000</td>\n",
       "    </tr>\n",
       "    <tr>\n",
       "      <th>unique</th>\n",
       "      <td>6</td>\n",
       "      <td>59</td>\n",
       "      <td>NaN</td>\n",
       "      <td>NaN</td>\n",
       "      <td>NaN</td>\n",
       "    </tr>\n",
       "    <tr>\n",
       "      <th>top</th>\n",
       "      <td>B02598</td>\n",
       "      <td>2/5/2015</td>\n",
       "      <td>NaN</td>\n",
       "      <td>NaN</td>\n",
       "      <td>NaN</td>\n",
       "    </tr>\n",
       "    <tr>\n",
       "      <th>freq</th>\n",
       "      <td>59</td>\n",
       "      <td>6</td>\n",
       "      <td>NaN</td>\n",
       "      <td>NaN</td>\n",
       "      <td>NaN</td>\n",
       "    </tr>\n",
       "    <tr>\n",
       "      <th>mean</th>\n",
       "      <td>NaN</td>\n",
       "      <td>NaN</td>\n",
       "      <td>1411.646617</td>\n",
       "      <td>12414.560150</td>\n",
       "      <td>9.208195</td>\n",
       "    </tr>\n",
       "    <tr>\n",
       "      <th>std</th>\n",
       "      <td>NaN</td>\n",
       "      <td>NaN</td>\n",
       "      <td>992.671651</td>\n",
       "      <td>8213.348133</td>\n",
       "      <td>0.697698</td>\n",
       "    </tr>\n",
       "    <tr>\n",
       "      <th>min</th>\n",
       "      <td>NaN</td>\n",
       "      <td>NaN</td>\n",
       "      <td>236.000000</td>\n",
       "      <td>2016.000000</td>\n",
       "      <td>7.608871</td>\n",
       "    </tr>\n",
       "    <tr>\n",
       "      <th>25%</th>\n",
       "      <td>NaN</td>\n",
       "      <td>NaN</td>\n",
       "      <td>925.500000</td>\n",
       "      <td>7620.500000</td>\n",
       "      <td>8.938593</td>\n",
       "    </tr>\n",
       "    <tr>\n",
       "      <th>50%</th>\n",
       "      <td>NaN</td>\n",
       "      <td>NaN</td>\n",
       "      <td>1181.000000</td>\n",
       "      <td>10727.000000</td>\n",
       "      <td>9.280516</td>\n",
       "    </tr>\n",
       "    <tr>\n",
       "      <th>75%</th>\n",
       "      <td>NaN</td>\n",
       "      <td>NaN</td>\n",
       "      <td>1439.500000</td>\n",
       "      <td>13842.500000</td>\n",
       "      <td>9.535498</td>\n",
       "    </tr>\n",
       "    <tr>\n",
       "      <th>max</th>\n",
       "      <td>NaN</td>\n",
       "      <td>NaN</td>\n",
       "      <td>4093.000000</td>\n",
       "      <td>35990.000000</td>\n",
       "      <td>10.490996</td>\n",
       "    </tr>\n",
       "  </tbody>\n",
       "</table>\n",
       "</div>"
      ],
      "text/plain": [
       "       dispatching_base_number      date  active_vehicles         trips  \\\n",
       "count                      266       266       266.000000    266.000000   \n",
       "unique                       6        59              NaN           NaN   \n",
       "top                     B02598  2/5/2015              NaN           NaN   \n",
       "freq                        59         6              NaN           NaN   \n",
       "mean                       NaN       NaN      1411.646617  12414.560150   \n",
       "std                        NaN       NaN       992.671651   8213.348133   \n",
       "min                        NaN       NaN       236.000000   2016.000000   \n",
       "25%                        NaN       NaN       925.500000   7620.500000   \n",
       "50%                        NaN       NaN      1181.000000  10727.000000   \n",
       "75%                        NaN       NaN      1439.500000  13842.500000   \n",
       "max                        NaN       NaN      4093.000000  35990.000000   \n",
       "\n",
       "         log_trips  \n",
       "count   266.000000  \n",
       "unique         NaN  \n",
       "top            NaN  \n",
       "freq           NaN  \n",
       "mean      9.208195  \n",
       "std       0.697698  \n",
       "min       7.608871  \n",
       "25%       8.938593  \n",
       "50%       9.280516  \n",
       "75%       9.535498  \n",
       "max      10.490996  "
      ]
     },
     "execution_count": 31,
     "metadata": {},
     "output_type": "execute_result"
    }
   ],
   "source": [
    "data_cleaned.describe(include='all')"
   ]
  },
  {
   "cell_type": "code",
   "execution_count": 32,
   "metadata": {},
   "outputs": [
    {
     "data": {
      "text/plain": [
       "<matplotlib.collections.PathCollection at 0x11f1e4d90>"
      ]
     },
     "execution_count": 32,
     "metadata": {},
     "output_type": "execute_result"
    },
    {
     "data": {
      "image/png": "[encoded data removed]",
      "text/plain": [
       "<Figure size 432x288 with 1 Axes>"
      ]
     },
     "metadata": {},
     "output_type": "display_data"
    }
   ],
   "source": [
    "#Linearity could be improved by LOG transformation\n",
    "plt.scatter(data_cleaned['active_vehicles'], data_cleaned['log_trips'])"
   ]
  },
  {
   "cell_type": "markdown",
   "metadata": {},
   "source": [
    "## 3.1 Recoding of categorical variables"
   ]
  },
  {
   "cell_type": "code",
   "execution_count": 33,
   "metadata": {},
   "outputs": [],
   "source": [
    "#Convert vpn categorical data into dummy/ indicator variables. Focus on base number for more general model\n",
    "data_with_dummies = pd.get_dummies(data_cleaned, drop_first = True)"
   ]
  },
  {
   "cell_type": "code",
   "execution_count": 34,
   "metadata": {},
   "outputs": [
    {
     "data": {
      "text/html": [
       "<div>\n",
       "<style scoped>\n",
       "    .dataframe tbody tr th:only-of-type {\n",
       "        vertical-align: middle;\n",
       "    }\n",
       "\n",
       "    .dataframe tbody tr th {\n",
       "        vertical-align: top;\n",
       "    }\n",
       "\n",
       "    .dataframe thead th {\n",
       "        text-align: right;\n",
       "    }\n",
       "</style>\n",
       "<table border=\"1\" class=\"dataframe\">\n",
       "  <thead>\n",
       "    <tr style=\"text-align: right;\">\n",
       "      <th></th>\n",
       "      <th>active_vehicles</th>\n",
       "      <th>trips</th>\n",
       "      <th>log_trips</th>\n",
       "      <th>dispatching_base_number_B02598</th>\n",
       "      <th>dispatching_base_number_B02617</th>\n",
       "      <th>dispatching_base_number_B02682</th>\n",
       "      <th>dispatching_base_number_B02764</th>\n",
       "      <th>dispatching_base_number_B02765</th>\n",
       "      <th>date_1/10/2015</th>\n",
       "      <th>date_1/11/2015</th>\n",
       "      <th>...</th>\n",
       "      <th>date_2/26/2015</th>\n",
       "      <th>date_2/27/2015</th>\n",
       "      <th>date_2/28/2015</th>\n",
       "      <th>date_2/3/2015</th>\n",
       "      <th>date_2/4/2015</th>\n",
       "      <th>date_2/5/2015</th>\n",
       "      <th>date_2/6/2015</th>\n",
       "      <th>date_2/7/2015</th>\n",
       "      <th>date_2/8/2015</th>\n",
       "      <th>date_2/9/2015</th>\n",
       "    </tr>\n",
       "  </thead>\n",
       "  <tbody>\n",
       "    <tr>\n",
       "      <th>0</th>\n",
       "      <td>3427</td>\n",
       "      <td>29421</td>\n",
       "      <td>10.289464</td>\n",
       "      <td>0</td>\n",
       "      <td>0</td>\n",
       "      <td>0</td>\n",
       "      <td>1</td>\n",
       "      <td>0</td>\n",
       "      <td>0</td>\n",
       "      <td>0</td>\n",
       "      <td>...</td>\n",
       "      <td>0</td>\n",
       "      <td>0</td>\n",
       "      <td>0</td>\n",
       "      <td>0</td>\n",
       "      <td>0</td>\n",
       "      <td>0</td>\n",
       "      <td>0</td>\n",
       "      <td>0</td>\n",
       "      <td>0</td>\n",
       "      <td>0</td>\n",
       "    </tr>\n",
       "    <tr>\n",
       "      <th>1</th>\n",
       "      <td>945</td>\n",
       "      <td>7679</td>\n",
       "      <td>8.946245</td>\n",
       "      <td>0</td>\n",
       "      <td>0</td>\n",
       "      <td>1</td>\n",
       "      <td>0</td>\n",
       "      <td>0</td>\n",
       "      <td>0</td>\n",
       "      <td>0</td>\n",
       "      <td>...</td>\n",
       "      <td>0</td>\n",
       "      <td>0</td>\n",
       "      <td>0</td>\n",
       "      <td>0</td>\n",
       "      <td>0</td>\n",
       "      <td>0</td>\n",
       "      <td>0</td>\n",
       "      <td>0</td>\n",
       "      <td>0</td>\n",
       "      <td>0</td>\n",
       "    </tr>\n",
       "    <tr>\n",
       "      <th>2</th>\n",
       "      <td>1228</td>\n",
       "      <td>9537</td>\n",
       "      <td>9.162934</td>\n",
       "      <td>0</td>\n",
       "      <td>1</td>\n",
       "      <td>0</td>\n",
       "      <td>0</td>\n",
       "      <td>0</td>\n",
       "      <td>0</td>\n",
       "      <td>0</td>\n",
       "      <td>...</td>\n",
       "      <td>0</td>\n",
       "      <td>0</td>\n",
       "      <td>0</td>\n",
       "      <td>0</td>\n",
       "      <td>0</td>\n",
       "      <td>0</td>\n",
       "      <td>0</td>\n",
       "      <td>0</td>\n",
       "      <td>0</td>\n",
       "      <td>0</td>\n",
       "    </tr>\n",
       "    <tr>\n",
       "      <th>3</th>\n",
       "      <td>870</td>\n",
       "      <td>6903</td>\n",
       "      <td>8.839711</td>\n",
       "      <td>1</td>\n",
       "      <td>0</td>\n",
       "      <td>0</td>\n",
       "      <td>0</td>\n",
       "      <td>0</td>\n",
       "      <td>0</td>\n",
       "      <td>0</td>\n",
       "      <td>...</td>\n",
       "      <td>0</td>\n",
       "      <td>0</td>\n",
       "      <td>0</td>\n",
       "      <td>0</td>\n",
       "      <td>0</td>\n",
       "      <td>0</td>\n",
       "      <td>0</td>\n",
       "      <td>0</td>\n",
       "      <td>0</td>\n",
       "      <td>0</td>\n",
       "    </tr>\n",
       "    <tr>\n",
       "      <th>4</th>\n",
       "      <td>785</td>\n",
       "      <td>4768</td>\n",
       "      <td>8.469682</td>\n",
       "      <td>1</td>\n",
       "      <td>0</td>\n",
       "      <td>0</td>\n",
       "      <td>0</td>\n",
       "      <td>0</td>\n",
       "      <td>0</td>\n",
       "      <td>0</td>\n",
       "      <td>...</td>\n",
       "      <td>0</td>\n",
       "      <td>0</td>\n",
       "      <td>0</td>\n",
       "      <td>0</td>\n",
       "      <td>0</td>\n",
       "      <td>0</td>\n",
       "      <td>0</td>\n",
       "      <td>0</td>\n",
       "      <td>0</td>\n",
       "      <td>0</td>\n",
       "    </tr>\n",
       "  </tbody>\n",
       "</table>\n",
       "<p>5 rows × 66 columns</p>\n",
       "</div>"
      ],
      "text/plain": [
       "   active_vehicles  trips  log_trips  dispatching_base_number_B02598  \\\n",
       "0             3427  29421  10.289464                               0   \n",
       "1              945   7679   8.946245                               0   \n",
       "2             1228   9537   9.162934                               0   \n",
       "3              870   6903   8.839711                               1   \n",
       "4              785   4768   8.469682                               1   \n",
       "\n",
       "   dispatching_base_number_B02617  dispatching_base_number_B02682  \\\n",
       "0                               0                               0   \n",
       "1                               0                               1   \n",
       "2                               1                               0   \n",
       "3                               0                               0   \n",
       "4                               0                               0   \n",
       "\n",
       "   dispatching_base_number_B02764  dispatching_base_number_B02765  \\\n",
       "0                               1                               0   \n",
       "1                               0                               0   \n",
       "2                               0                               0   \n",
       "3                               0                               0   \n",
       "4                               0                               0   \n",
       "\n",
       "   date_1/10/2015  date_1/11/2015  ...  date_2/26/2015  date_2/27/2015  \\\n",
       "0               0               0  ...               0               0   \n",
       "1               0               0  ...               0               0   \n",
       "2               0               0  ...               0               0   \n",
       "3               0               0  ...               0               0   \n",
       "4               0               0  ...               0               0   \n",
       "\n",
       "   date_2/28/2015  date_2/3/2015  date_2/4/2015  date_2/5/2015  date_2/6/2015  \\\n",
       "0               0              0              0              0              0   \n",
       "1               0              0              0              0              0   \n",
       "2               0              0              0              0              0   \n",
       "3               0              0              0              0              0   \n",
       "4               0              0              0              0              0   \n",
       "\n",
       "   date_2/7/2015  date_2/8/2015  date_2/9/2015  \n",
       "0              0              0              0  \n",
       "1              0              0              0  \n",
       "2              0              0              0  \n",
       "3              0              0              0  \n",
       "4              0              0              0  \n",
       "\n",
       "[5 rows x 66 columns]"
      ]
     },
     "execution_count": 34,
     "metadata": {},
     "output_type": "execute_result"
    }
   ],
   "source": [
    "# Dummy variables head output\n",
    "data_with_dummies.head()"
   ]
  },
  {
   "cell_type": "code",
   "execution_count": 35,
   "metadata": {
    "scrolled": true
   },
   "outputs": [
    {
     "data": {
      "text/plain": [
       "array(['active_vehicles', 'trips', 'log_trips',\n",
       "       'dispatching_base_number_B02598', 'dispatching_base_number_B02617',\n",
       "       'dispatching_base_number_B02682', 'dispatching_base_number_B02764',\n",
       "       'dispatching_base_number_B02765', 'date_1/10/2015',\n",
       "       'date_1/11/2015', 'date_1/12/2015', 'date_1/13/2015',\n",
       "       'date_1/14/2015', 'date_1/15/2015', 'date_1/16/2015',\n",
       "       'date_1/17/2015', 'date_1/18/2015', 'date_1/19/2015',\n",
       "       'date_1/2/2015', 'date_1/20/2015', 'date_1/21/2015',\n",
       "       'date_1/22/2015', 'date_1/23/2015', 'date_1/24/2015',\n",
       "       'date_1/25/2015', 'date_1/26/2015', 'date_1/27/2015',\n",
       "       'date_1/28/2015', 'date_1/29/2015', 'date_1/3/2015',\n",
       "       'date_1/30/2015', 'date_1/31/2015', 'date_1/4/2015',\n",
       "       'date_1/5/2015', 'date_1/6/2015', 'date_1/7/2015', 'date_1/8/2015',\n",
       "       'date_1/9/2015', 'date_2/1/2015', 'date_2/10/2015',\n",
       "       'date_2/11/2015', 'date_2/12/2015', 'date_2/13/2015',\n",
       "       'date_2/14/2015', 'date_2/15/2015', 'date_2/16/2015',\n",
       "       'date_2/17/2015', 'date_2/18/2015', 'date_2/19/2015',\n",
       "       'date_2/2/2015', 'date_2/20/2015', 'date_2/21/2015',\n",
       "       'date_2/22/2015', 'date_2/23/2015', 'date_2/24/2015',\n",
       "       'date_2/25/2015', 'date_2/26/2015', 'date_2/27/2015',\n",
       "       'date_2/28/2015', 'date_2/3/2015', 'date_2/4/2015',\n",
       "       'date_2/5/2015', 'date_2/6/2015', 'date_2/7/2015', 'date_2/8/2015',\n",
       "       'date_2/9/2015'], dtype=object)"
      ]
     },
     "execution_count": 35,
     "metadata": {},
     "output_type": "execute_result"
    }
   ],
   "source": [
    "data_with_dummies.columns.values"
   ]
  },
  {
   "cell_type": "code",
   "execution_count": 36,
   "metadata": {},
   "outputs": [],
   "source": [
    "#Columns for the later model are provided\n",
    "cols=['active_vehicles','log_trips','dispatching_base_number_B02598',\n",
    "       'dispatching_base_number_B02617', 'dispatching_base_number_B02682',\n",
    "       'dispatching_base_number_B02764', 'dispatching_base_number_B02765']"
   ]
  },
  {
   "cell_type": "code",
   "execution_count": 37,
   "metadata": {},
   "outputs": [],
   "source": [
    "#-> At this point it was decided that the variable 'Date' is no longer useful and too costly for model building\n",
    "#-> It is therefore not considered for the model"
   ]
  },
  {
   "cell_type": "code",
   "execution_count": 38,
   "metadata": {},
   "outputs": [
    {
     "data": {
      "text/html": [
       "<div>\n",
       "<style scoped>\n",
       "    .dataframe tbody tr th:only-of-type {\n",
       "        vertical-align: middle;\n",
       "    }\n",
       "\n",
       "    .dataframe tbody tr th {\n",
       "        vertical-align: top;\n",
       "    }\n",
       "\n",
       "    .dataframe thead th {\n",
       "        text-align: right;\n",
       "    }\n",
       "</style>\n",
       "<table border=\"1\" class=\"dataframe\">\n",
       "  <thead>\n",
       "    <tr style=\"text-align: right;\">\n",
       "      <th></th>\n",
       "      <th>active_vehicles</th>\n",
       "      <th>log_trips</th>\n",
       "      <th>dispatching_base_number_B02598</th>\n",
       "      <th>dispatching_base_number_B02617</th>\n",
       "      <th>dispatching_base_number_B02682</th>\n",
       "      <th>dispatching_base_number_B02764</th>\n",
       "      <th>dispatching_base_number_B02765</th>\n",
       "    </tr>\n",
       "  </thead>\n",
       "  <tbody>\n",
       "    <tr>\n",
       "      <th>0</th>\n",
       "      <td>3427</td>\n",
       "      <td>10.289464</td>\n",
       "      <td>0</td>\n",
       "      <td>0</td>\n",
       "      <td>0</td>\n",
       "      <td>1</td>\n",
       "      <td>0</td>\n",
       "    </tr>\n",
       "    <tr>\n",
       "      <th>1</th>\n",
       "      <td>945</td>\n",
       "      <td>8.946245</td>\n",
       "      <td>0</td>\n",
       "      <td>0</td>\n",
       "      <td>1</td>\n",
       "      <td>0</td>\n",
       "      <td>0</td>\n",
       "    </tr>\n",
       "    <tr>\n",
       "      <th>2</th>\n",
       "      <td>1228</td>\n",
       "      <td>9.162934</td>\n",
       "      <td>0</td>\n",
       "      <td>1</td>\n",
       "      <td>0</td>\n",
       "      <td>0</td>\n",
       "      <td>0</td>\n",
       "    </tr>\n",
       "    <tr>\n",
       "      <th>3</th>\n",
       "      <td>870</td>\n",
       "      <td>8.839711</td>\n",
       "      <td>1</td>\n",
       "      <td>0</td>\n",
       "      <td>0</td>\n",
       "      <td>0</td>\n",
       "      <td>0</td>\n",
       "    </tr>\n",
       "    <tr>\n",
       "      <th>4</th>\n",
       "      <td>785</td>\n",
       "      <td>8.469682</td>\n",
       "      <td>1</td>\n",
       "      <td>0</td>\n",
       "      <td>0</td>\n",
       "      <td>0</td>\n",
       "      <td>0</td>\n",
       "    </tr>\n",
       "  </tbody>\n",
       "</table>\n",
       "</div>"
      ],
      "text/plain": [
       "   active_vehicles  log_trips  dispatching_base_number_B02598  \\\n",
       "0             3427  10.289464                               0   \n",
       "1              945   8.946245                               0   \n",
       "2             1228   9.162934                               0   \n",
       "3              870   8.839711                               1   \n",
       "4              785   8.469682                               1   \n",
       "\n",
       "   dispatching_base_number_B02617  dispatching_base_number_B02682  \\\n",
       "0                               0                               0   \n",
       "1                               0                               1   \n",
       "2                               1                               0   \n",
       "3                               0                               0   \n",
       "4                               0                               0   \n",
       "\n",
       "   dispatching_base_number_B02764  dispatching_base_number_B02765  \n",
       "0                               1                               0  \n",
       "1                               0                               0  \n",
       "2                               0                               0  \n",
       "3                               0                               0  \n",
       "4                               0                               0  "
      ]
     },
     "execution_count": 38,
     "metadata": {},
     "output_type": "execute_result"
    }
   ],
   "source": [
    "#Arrangement-> First column becomes target variable\n",
    "data_preprocessed = data_with_dummies[cols]\n",
    "data_preprocessed.head()"
   ]
  },
  {
   "cell_type": "markdown",
   "metadata": {},
   "source": [
    "## 3.2 Create Test and Training Data"
   ]
  },
  {
   "cell_type": "code",
   "execution_count": 40,
   "metadata": {},
   "outputs": [],
   "source": [
    "targets = data_preprocessed['active_vehicles']\n",
    "inputs = data_preprocessed.drop(['active_vehicles'], axis=1)"
   ]
  },
  {
   "cell_type": "code",
   "execution_count": 41,
   "metadata": {},
   "outputs": [],
   "source": [
    "from sklearn.preprocessing import StandardScaler\n",
    "scaler = StandardScaler()\n",
    "scaler.fit(inputs)\n",
    "input_scaled = scaler.transform(inputs)"
   ]
  },
  {
   "cell_type": "code",
   "execution_count": 42,
   "metadata": {},
   "outputs": [],
   "source": [
    "from sklearn.model_selection import train_test_split\n",
    "x_train, x_test, y_train, y_test = train_test_split(input_scaled, targets, test_size=0.20, random_state=365)"
   ]
  },
  {
   "cell_type": "markdown",
   "metadata": {},
   "source": [
    "# 4. Modelling and Evaluation"
   ]
  },
  {
   "cell_type": "markdown",
   "metadata": {},
   "source": [
    "## 4.1 Linear Regression"
   ]
  },
  {
   "cell_type": "code",
   "execution_count": 44,
   "metadata": {},
   "outputs": [
    {
     "data": {
      "text/plain": [
       "LinearRegression()"
      ]
     },
     "execution_count": 44,
     "metadata": {},
     "output_type": "execute_result"
    }
   ],
   "source": [
    "reg = LinearRegression()\n",
    "reg.fit(x_train, y_train)"
   ]
  },
  {
   "cell_type": "code",
   "execution_count": 45,
   "metadata": {},
   "outputs": [],
   "source": [
    "y_hat = reg.predict(x_train)"
   ]
  },
  {
   "cell_type": "code",
   "execution_count": 46,
   "metadata": {},
   "outputs": [
    {
     "data": {
      "image/png": "[encoded data removed]",
      "text/plain": [
       "<Figure size 432x288 with 1 Axes>"
      ]
     },
     "metadata": {},
     "output_type": "display_data"
    }
   ],
   "source": [
    "#The division of values is also noticeable here\n",
    "plt.scatter(y_train, y_hat)\n",
    "plt.xlabel('Targets')\n",
    "plt.ylabel('Predictions')\n",
    "plt.show()"
   ]
  },
  {
   "cell_type": "code",
   "execution_count": 47,
   "metadata": {},
   "outputs": [
    {
     "name": "stderr",
     "output_type": "stream",
     "text": [
      "/Users/Jumana/opt/anaconda3/lib/python3.8/site-packages/seaborn/distributions.py:2551: FutureWarning: `distplot` is a deprecated function and will be removed in a future version. Please adapt your code to use either `displot` (a figure-level function with similar flexibility) or `histplot` (an axes-level function for histograms).\n",
      "  warnings.warn(msg, FutureWarning)\n"
     ]
    },
    {
     "data": {
      "text/plain": [
       "Text(0.5, 1.0, 'Residuals')"
      ]
     },
     "execution_count": 47,
     "metadata": {},
     "output_type": "execute_result"
    },
    {
     "data": {
      "image/png": "[encoded data removed]",
      "text/plain": [
       "<Figure size 432x288 with 1 Axes>"
      ]
     },
     "metadata": {},
     "output_type": "display_data"
    }
   ],
   "source": [
    "#Error thermal: Trainins values minus predicted data\n",
    "sns.distplot(y_train - y_hat)\n",
    "plt.title(\"Residuals\")\n",
    "#plt.show()"
   ]
  },
  {
   "cell_type": "code",
   "execution_count": 48,
   "metadata": {},
   "outputs": [
    {
     "data": {
      "text/plain": [
       "0.9747815666217599"
      ]
     },
     "execution_count": 48,
     "metadata": {},
     "output_type": "execute_result"
    }
   ],
   "source": [
    "#R-squared value is important: variance of the target variable\n",
    "reg.score(x_train, y_train)"
   ]
  },
  {
   "cell_type": "code",
   "execution_count": 49,
   "metadata": {},
   "outputs": [
    {
     "data": {
      "text/plain": [
       "1413.3913426862414"
      ]
     },
     "execution_count": 49,
     "metadata": {},
     "output_type": "execute_result"
    }
   ],
   "source": [
    "# Important for the regression line\n",
    "reg.intercept_"
   ]
  },
  {
   "cell_type": "code",
   "execution_count": 50,
   "metadata": {},
   "outputs": [
    {
     "data": {
      "text/plain": [
       "0.9849060957803961"
      ]
     },
     "execution_count": 50,
     "metadata": {},
     "output_type": "execute_result"
    }
   ],
   "source": [
    "reg.score(x_test, y_test)"
   ]
  },
  {
   "cell_type": "code",
   "execution_count": 51,
   "metadata": {},
   "outputs": [
    {
     "name": "stdout",
     "output_type": "stream",
     "text": [
      "training Performance\n",
      "0.9747815666217599\n",
      "test Performance\n",
      "0.9849060957803961\n"
     ]
    }
   ],
   "source": [
    "print('training Performance')\n",
    "print(reg.score(x_train,y_train))\n",
    "print('test Performance')\n",
    "print(reg.score(x_test,y_test))"
   ]
  },
  {
   "cell_type": "code",
   "execution_count": 52,
   "metadata": {},
   "outputs": [
    {
     "data": {
      "text/plain": [
       "array([432.4680536 , -55.50352875,  11.88834549, -20.8881854 ,\n",
       "       611.37694067, -50.75412983])"
      ]
     },
     "execution_count": 52,
     "metadata": {},
     "output_type": "execute_result"
    }
   ],
   "source": [
    "#Regression coefficients for the model \n",
    "reg.coef_"
   ]
  },
  {
   "cell_type": "code",
   "execution_count": 53,
   "metadata": {},
   "outputs": [
    {
     "data": {
      "text/html": [
       "<div>\n",
       "<style scoped>\n",
       "    .dataframe tbody tr th:only-of-type {\n",
       "        vertical-align: middle;\n",
       "    }\n",
       "\n",
       "    .dataframe tbody tr th {\n",
       "        vertical-align: top;\n",
       "    }\n",
       "\n",
       "    .dataframe thead th {\n",
       "        text-align: right;\n",
       "    }\n",
       "</style>\n",
       "<table border=\"1\" class=\"dataframe\">\n",
       "  <thead>\n",
       "    <tr style=\"text-align: right;\">\n",
       "      <th></th>\n",
       "      <th>Features</th>\n",
       "      <th>Weights</th>\n",
       "    </tr>\n",
       "  </thead>\n",
       "  <tbody>\n",
       "    <tr>\n",
       "      <th>0</th>\n",
       "      <td>log_trips</td>\n",
       "      <td>0.432468</td>\n",
       "    </tr>\n",
       "    <tr>\n",
       "      <th>1</th>\n",
       "      <td>dispatching_base_number_B02598</td>\n",
       "      <td>-0.055504</td>\n",
       "    </tr>\n",
       "    <tr>\n",
       "      <th>2</th>\n",
       "      <td>dispatching_base_number_B02617</td>\n",
       "      <td>0.011888</td>\n",
       "    </tr>\n",
       "    <tr>\n",
       "      <th>3</th>\n",
       "      <td>dispatching_base_number_B02682</td>\n",
       "      <td>-0.020888</td>\n",
       "    </tr>\n",
       "    <tr>\n",
       "      <th>4</th>\n",
       "      <td>dispatching_base_number_B02764</td>\n",
       "      <td>0.611377</td>\n",
       "    </tr>\n",
       "    <tr>\n",
       "      <th>5</th>\n",
       "      <td>dispatching_base_number_B02765</td>\n",
       "      <td>-0.050754</td>\n",
       "    </tr>\n",
       "  </tbody>\n",
       "</table>\n",
       "</div>"
      ],
      "text/plain": [
       "                         Features   Weights\n",
       "0                       log_trips  0.432468\n",
       "1  dispatching_base_number_B02598 -0.055504\n",
       "2  dispatching_base_number_B02617  0.011888\n",
       "3  dispatching_base_number_B02682 -0.020888\n",
       "4  dispatching_base_number_B02764  0.611377\n",
       "5  dispatching_base_number_B02765 -0.050754"
      ]
     },
     "execution_count": 53,
     "metadata": {},
     "output_type": "execute_result"
    }
   ],
   "source": [
    "#What weights are critical to the model:\n",
    "reg_summary = pd.DataFrame(inputs.columns, columns = ['Features'])\n",
    "reg_summary['Weights']= reg.coef_/1000\n",
    "reg_summary"
   ]
  },
  {
   "cell_type": "code",
   "execution_count": 54,
   "metadata": {},
   "outputs": [],
   "source": [
    "#Testing the model"
   ]
  },
  {
   "cell_type": "code",
   "execution_count": 55,
   "metadata": {},
   "outputs": [],
   "source": [
    "y_hat_test = reg.predict(x_test)"
   ]
  },
  {
   "cell_type": "code",
   "execution_count": 56,
   "metadata": {},
   "outputs": [
    {
     "data": {
      "image/png": "[encoded data removed]",
      "text/plain": [
       "<Figure size 432x288 with 1 Axes>"
      ]
     },
     "metadata": {},
     "output_type": "display_data"
    }
   ],
   "source": [
    "plt.scatter(y_test, y_hat_test, alpha=0.2)\n",
    "plt.xlabel('Targets Test')\n",
    "plt.ylabel('Predictions Test')\n",
    "plt.show()"
   ]
  },
  {
   "cell_type": "code",
   "execution_count": 57,
   "metadata": {},
   "outputs": [
    {
     "data": {
      "text/html": [
       "<div>\n",
       "<style scoped>\n",
       "    .dataframe tbody tr th:only-of-type {\n",
       "        vertical-align: middle;\n",
       "    }\n",
       "\n",
       "    .dataframe tbody tr th {\n",
       "        vertical-align: top;\n",
       "    }\n",
       "\n",
       "    .dataframe thead th {\n",
       "        text-align: right;\n",
       "    }\n",
       "</style>\n",
       "<table border=\"1\" class=\"dataframe\">\n",
       "  <thead>\n",
       "    <tr style=\"text-align: right;\">\n",
       "      <th></th>\n",
       "      <th>Predictions</th>\n",
       "    </tr>\n",
       "  </thead>\n",
       "  <tbody>\n",
       "    <tr>\n",
       "      <th>0</th>\n",
       "      <td>1091.364516</td>\n",
       "    </tr>\n",
       "    <tr>\n",
       "      <th>1</th>\n",
       "      <td>1057.719388</td>\n",
       "    </tr>\n",
       "    <tr>\n",
       "      <th>2</th>\n",
       "      <td>1170.036887</td>\n",
       "    </tr>\n",
       "    <tr>\n",
       "      <th>3</th>\n",
       "      <td>1259.987262</td>\n",
       "    </tr>\n",
       "    <tr>\n",
       "      <th>4</th>\n",
       "      <td>1078.100005</td>\n",
       "    </tr>\n",
       "  </tbody>\n",
       "</table>\n",
       "</div>"
      ],
      "text/plain": [
       "   Predictions\n",
       "0  1091.364516\n",
       "1  1057.719388\n",
       "2  1170.036887\n",
       "3  1259.987262\n",
       "4  1078.100005"
      ]
     },
     "execution_count": 57,
     "metadata": {},
     "output_type": "execute_result"
    }
   ],
   "source": [
    "#Vprediction= has\n",
    "df_pf = pd.DataFrame((y_hat_test), columns = ['Predictions'])\n",
    "df_pf.head()"
   ]
  },
  {
   "cell_type": "code",
   "execution_count": 58,
   "metadata": {},
   "outputs": [
    {
     "data": {
      "text/plain": [
       "0    1218\n",
       "1    1151\n",
       "2    1027\n",
       "3    1330\n",
       "4     945\n",
       "Name: active_vehicles, dtype: int64"
      ]
     },
     "execution_count": 58,
     "metadata": {},
     "output_type": "execute_result"
    }
   ],
   "source": [
    "y_test=y_test.reset_index(drop=True)\n",
    "y_test.head()"
   ]
  },
  {
   "cell_type": "code",
   "execution_count": 59,
   "metadata": {},
   "outputs": [
    {
     "data": {
      "text/html": [
       "<div>\n",
       "<style scoped>\n",
       "    .dataframe tbody tr th:only-of-type {\n",
       "        vertical-align: middle;\n",
       "    }\n",
       "\n",
       "    .dataframe tbody tr th {\n",
       "        vertical-align: top;\n",
       "    }\n",
       "\n",
       "    .dataframe thead th {\n",
       "        text-align: right;\n",
       "    }\n",
       "</style>\n",
       "<table border=\"1\" class=\"dataframe\">\n",
       "  <thead>\n",
       "    <tr style=\"text-align: right;\">\n",
       "      <th></th>\n",
       "      <th>Predictions</th>\n",
       "      <th>Targets</th>\n",
       "    </tr>\n",
       "  </thead>\n",
       "  <tbody>\n",
       "    <tr>\n",
       "      <th>0</th>\n",
       "      <td>1091.364516</td>\n",
       "      <td>1218</td>\n",
       "    </tr>\n",
       "    <tr>\n",
       "      <th>1</th>\n",
       "      <td>1057.719388</td>\n",
       "      <td>1151</td>\n",
       "    </tr>\n",
       "    <tr>\n",
       "      <th>2</th>\n",
       "      <td>1170.036887</td>\n",
       "      <td>1027</td>\n",
       "    </tr>\n",
       "    <tr>\n",
       "      <th>3</th>\n",
       "      <td>1259.987262</td>\n",
       "      <td>1330</td>\n",
       "    </tr>\n",
       "    <tr>\n",
       "      <th>4</th>\n",
       "      <td>1078.100005</td>\n",
       "      <td>945</td>\n",
       "    </tr>\n",
       "  </tbody>\n",
       "</table>\n",
       "</div>"
      ],
      "text/plain": [
       "   Predictions  Targets\n",
       "0  1091.364516     1218\n",
       "1  1057.719388     1151\n",
       "2  1170.036887     1027\n",
       "3  1259.987262     1330\n",
       "4  1078.100005      945"
      ]
     },
     "execution_count": 59,
     "metadata": {},
     "output_type": "execute_result"
    }
   ],
   "source": [
    "df_pf['Targets'] = y_test\n",
    "df_pf.head()"
   ]
  },
  {
   "cell_type": "code",
   "execution_count": 60,
   "metadata": {},
   "outputs": [
    {
     "data": {
      "image/png": "[encoded data removed]",
      "text/plain": [
       "<Figure size 1152x576 with 1 Axes>"
      ]
     },
     "metadata": {},
     "output_type": "display_data"
    },
    {
     "data": {
      "image/png": "[encoded data removed]",
      "text/plain": [
       "<Figure size 432x432 with 3 Axes>"
      ]
     },
     "metadata": {},
     "output_type": "display_data"
    }
   ],
   "source": [
    "#Overview how much the prediction and the actual values differ:\n",
    "y_pred= reg.predict(x_test)\n",
    "test=pd.DataFrame({'Predicted':y_pred, 'Actual':y_test})\n",
    "fig=plt.figure(figsize=(16,8))\n",
    "test=test.reset_index()\n",
    "test=test.drop(['index'],axis=1)\n",
    "plt.plot(test[:50])\n",
    "plt.legend(['Actual', 'Predicted'])\n",
    "sns.jointplot(x='Actual', y='Predicted', data=test, kind='reg');"
   ]
  },
  {
   "cell_type": "markdown",
   "metadata": {},
   "source": [
    "## 4.2 Evaluation"
   ]
  },
  {
   "cell_type": "code",
   "execution_count": 61,
   "metadata": {},
   "outputs": [
    {
     "data": {
      "text/html": [
       "<div>\n",
       "<style scoped>\n",
       "    .dataframe tbody tr th:only-of-type {\n",
       "        vertical-align: middle;\n",
       "    }\n",
       "\n",
       "    .dataframe tbody tr th {\n",
       "        vertical-align: top;\n",
       "    }\n",
       "\n",
       "    .dataframe thead th {\n",
       "        text-align: right;\n",
       "    }\n",
       "</style>\n",
       "<table border=\"1\" class=\"dataframe\">\n",
       "  <thead>\n",
       "    <tr style=\"text-align: right;\">\n",
       "      <th></th>\n",
       "      <th>Predictions</th>\n",
       "      <th>Targets</th>\n",
       "    </tr>\n",
       "  </thead>\n",
       "  <tbody>\n",
       "    <tr>\n",
       "      <th>0</th>\n",
       "      <td>1091.364516</td>\n",
       "      <td>1218</td>\n",
       "    </tr>\n",
       "    <tr>\n",
       "      <th>1</th>\n",
       "      <td>1057.719388</td>\n",
       "      <td>1151</td>\n",
       "    </tr>\n",
       "    <tr>\n",
       "      <th>2</th>\n",
       "      <td>1170.036887</td>\n",
       "      <td>1027</td>\n",
       "    </tr>\n",
       "    <tr>\n",
       "      <th>3</th>\n",
       "      <td>1259.987262</td>\n",
       "      <td>1330</td>\n",
       "    </tr>\n",
       "    <tr>\n",
       "      <th>4</th>\n",
       "      <td>1078.100005</td>\n",
       "      <td>945</td>\n",
       "    </tr>\n",
       "    <tr>\n",
       "      <th>5</th>\n",
       "      <td>1394.956731</td>\n",
       "      <td>1223</td>\n",
       "    </tr>\n",
       "    <tr>\n",
       "      <th>6</th>\n",
       "      <td>1506.660989</td>\n",
       "      <td>1526</td>\n",
       "    </tr>\n",
       "    <tr>\n",
       "      <th>7</th>\n",
       "      <td>1358.148148</td>\n",
       "      <td>1418</td>\n",
       "    </tr>\n",
       "    <tr>\n",
       "      <th>8</th>\n",
       "      <td>990.063854</td>\n",
       "      <td>975</td>\n",
       "    </tr>\n",
       "    <tr>\n",
       "      <th>9</th>\n",
       "      <td>1384.551075</td>\n",
       "      <td>1350</td>\n",
       "    </tr>\n",
       "    <tr>\n",
       "      <th>10</th>\n",
       "      <td>1343.005058</td>\n",
       "      <td>1300</td>\n",
       "    </tr>\n",
       "    <tr>\n",
       "      <th>11</th>\n",
       "      <td>967.122403</td>\n",
       "      <td>974</td>\n",
       "    </tr>\n",
       "    <tr>\n",
       "      <th>12</th>\n",
       "      <td>1426.599642</td>\n",
       "      <td>1321</td>\n",
       "    </tr>\n",
       "    <tr>\n",
       "      <th>13</th>\n",
       "      <td>1200.898158</td>\n",
       "      <td>1295</td>\n",
       "    </tr>\n",
       "    <tr>\n",
       "      <th>14</th>\n",
       "      <td>985.642063</td>\n",
       "      <td>1084</td>\n",
       "    </tr>\n",
       "    <tr>\n",
       "      <th>15</th>\n",
       "      <td>271.859854</td>\n",
       "      <td>322</td>\n",
       "    </tr>\n",
       "    <tr>\n",
       "      <th>16</th>\n",
       "      <td>672.261307</td>\n",
       "      <td>746</td>\n",
       "    </tr>\n",
       "    <tr>\n",
       "      <th>17</th>\n",
       "      <td>114.609218</td>\n",
       "      <td>299</td>\n",
       "    </tr>\n",
       "    <tr>\n",
       "      <th>18</th>\n",
       "      <td>1476.113622</td>\n",
       "      <td>1551</td>\n",
       "    </tr>\n",
       "    <tr>\n",
       "      <th>19</th>\n",
       "      <td>1289.180154</td>\n",
       "      <td>1356</td>\n",
       "    </tr>\n",
       "    <tr>\n",
       "      <th>20</th>\n",
       "      <td>1279.616087</td>\n",
       "      <td>1248</td>\n",
       "    </tr>\n",
       "    <tr>\n",
       "      <th>21</th>\n",
       "      <td>3584.319579</td>\n",
       "      <td>3658</td>\n",
       "    </tr>\n",
       "    <tr>\n",
       "      <th>22</th>\n",
       "      <td>1434.194940</td>\n",
       "      <td>1456</td>\n",
       "    </tr>\n",
       "    <tr>\n",
       "      <th>23</th>\n",
       "      <td>1349.242107</td>\n",
       "      <td>1405</td>\n",
       "    </tr>\n",
       "    <tr>\n",
       "      <th>24</th>\n",
       "      <td>162.148057</td>\n",
       "      <td>309</td>\n",
       "    </tr>\n",
       "    <tr>\n",
       "      <th>25</th>\n",
       "      <td>114.034467</td>\n",
       "      <td>252</td>\n",
       "    </tr>\n",
       "    <tr>\n",
       "      <th>26</th>\n",
       "      <td>1358.412778</td>\n",
       "      <td>1471</td>\n",
       "    </tr>\n",
       "    <tr>\n",
       "      <th>27</th>\n",
       "      <td>237.654959</td>\n",
       "      <td>269</td>\n",
       "    </tr>\n",
       "    <tr>\n",
       "      <th>28</th>\n",
       "      <td>1479.194768</td>\n",
       "      <td>1452</td>\n",
       "    </tr>\n",
       "    <tr>\n",
       "      <th>29</th>\n",
       "      <td>892.269643</td>\n",
       "      <td>786</td>\n",
       "    </tr>\n",
       "    <tr>\n",
       "      <th>30</th>\n",
       "      <td>3653.514821</td>\n",
       "      <td>3820</td>\n",
       "    </tr>\n",
       "    <tr>\n",
       "      <th>31</th>\n",
       "      <td>3478.878964</td>\n",
       "      <td>3473</td>\n",
       "    </tr>\n",
       "    <tr>\n",
       "      <th>32</th>\n",
       "      <td>3534.709964</td>\n",
       "      <td>3186</td>\n",
       "    </tr>\n",
       "    <tr>\n",
       "      <th>33</th>\n",
       "      <td>900.021763</td>\n",
       "      <td>685</td>\n",
       "    </tr>\n",
       "    <tr>\n",
       "      <th>34</th>\n",
       "      <td>214.674054</td>\n",
       "      <td>256</td>\n",
       "    </tr>\n",
       "    <tr>\n",
       "      <th>35</th>\n",
       "      <td>639.482237</td>\n",
       "      <td>566</td>\n",
       "    </tr>\n",
       "    <tr>\n",
       "      <th>36</th>\n",
       "      <td>1475.478612</td>\n",
       "      <td>1293</td>\n",
       "    </tr>\n",
       "    <tr>\n",
       "      <th>37</th>\n",
       "      <td>872.131134</td>\n",
       "      <td>944</td>\n",
       "    </tr>\n",
       "    <tr>\n",
       "      <th>38</th>\n",
       "      <td>1226.884458</td>\n",
       "      <td>1186</td>\n",
       "    </tr>\n",
       "    <tr>\n",
       "      <th>39</th>\n",
       "      <td>1195.639823</td>\n",
       "      <td>1044</td>\n",
       "    </tr>\n",
       "    <tr>\n",
       "      <th>40</th>\n",
       "      <td>1432.790074</td>\n",
       "      <td>1383</td>\n",
       "    </tr>\n",
       "    <tr>\n",
       "      <th>41</th>\n",
       "      <td>3575.285742</td>\n",
       "      <td>3736</td>\n",
       "    </tr>\n",
       "    <tr>\n",
       "      <th>42</th>\n",
       "      <td>1098.867095</td>\n",
       "      <td>1039</td>\n",
       "    </tr>\n",
       "    <tr>\n",
       "      <th>43</th>\n",
       "      <td>1095.121958</td>\n",
       "      <td>994</td>\n",
       "    </tr>\n",
       "    <tr>\n",
       "      <th>44</th>\n",
       "      <td>1296.851003</td>\n",
       "      <td>1429</td>\n",
       "    </tr>\n",
       "    <tr>\n",
       "      <th>45</th>\n",
       "      <td>1458.344504</td>\n",
       "      <td>1532</td>\n",
       "    </tr>\n",
       "    <tr>\n",
       "      <th>46</th>\n",
       "      <td>1257.183801</td>\n",
       "      <td>1262</td>\n",
       "    </tr>\n",
       "    <tr>\n",
       "      <th>47</th>\n",
       "      <td>1294.327396</td>\n",
       "      <td>1214</td>\n",
       "    </tr>\n",
       "    <tr>\n",
       "      <th>48</th>\n",
       "      <td>3587.913110</td>\n",
       "      <td>3478</td>\n",
       "    </tr>\n",
       "    <tr>\n",
       "      <th>49</th>\n",
       "      <td>3572.568763</td>\n",
       "      <td>3427</td>\n",
       "    </tr>\n",
       "    <tr>\n",
       "      <th>50</th>\n",
       "      <td>694.462976</td>\n",
       "      <td>521</td>\n",
       "    </tr>\n",
       "    <tr>\n",
       "      <th>51</th>\n",
       "      <td>1241.508649</td>\n",
       "      <td>1216</td>\n",
       "    </tr>\n",
       "    <tr>\n",
       "      <th>52</th>\n",
       "      <td>957.733177</td>\n",
       "      <td>909</td>\n",
       "    </tr>\n",
       "    <tr>\n",
       "      <th>53</th>\n",
       "      <td>1277.755356</td>\n",
       "      <td>1188</td>\n",
       "    </tr>\n",
       "  </tbody>\n",
       "</table>\n",
       "</div>"
      ],
      "text/plain": [
       "    Predictions  Targets\n",
       "0   1091.364516     1218\n",
       "1   1057.719388     1151\n",
       "2   1170.036887     1027\n",
       "3   1259.987262     1330\n",
       "4   1078.100005      945\n",
       "5   1394.956731     1223\n",
       "6   1506.660989     1526\n",
       "7   1358.148148     1418\n",
       "8    990.063854      975\n",
       "9   1384.551075     1350\n",
       "10  1343.005058     1300\n",
       "11   967.122403      974\n",
       "12  1426.599642     1321\n",
       "13  1200.898158     1295\n",
       "14   985.642063     1084\n",
       "15   271.859854      322\n",
       "16   672.261307      746\n",
       "17   114.609218      299\n",
       "18  1476.113622     1551\n",
       "19  1289.180154     1356\n",
       "20  1279.616087     1248\n",
       "21  3584.319579     3658\n",
       "22  1434.194940     1456\n",
       "23  1349.242107     1405\n",
       "24   162.148057      309\n",
       "25   114.034467      252\n",
       "26  1358.412778     1471\n",
       "27   237.654959      269\n",
       "28  1479.194768     1452\n",
       "29   892.269643      786\n",
       "30  3653.514821     3820\n",
       "31  3478.878964     3473\n",
       "32  3534.709964     3186\n",
       "33   900.021763      685\n",
       "34   214.674054      256\n",
       "35   639.482237      566\n",
       "36  1475.478612     1293\n",
       "37   872.131134      944\n",
       "38  1226.884458     1186\n",
       "39  1195.639823     1044\n",
       "40  1432.790074     1383\n",
       "41  3575.285742     3736\n",
       "42  1098.867095     1039\n",
       "43  1095.121958      994\n",
       "44  1296.851003     1429\n",
       "45  1458.344504     1532\n",
       "46  1257.183801     1262\n",
       "47  1294.327396     1214\n",
       "48  3587.913110     3478\n",
       "49  3572.568763     3427\n",
       "50   694.462976      521\n",
       "51  1241.508649     1216\n",
       "52   957.733177      909\n",
       "53  1277.755356     1188"
      ]
     },
     "execution_count": 61,
     "metadata": {},
     "output_type": "execute_result"
    }
   ],
   "source": [
    "df_pf"
   ]
  },
  {
   "cell_type": "code",
   "execution_count": 62,
   "metadata": {},
   "outputs": [
    {
     "data": {
      "text/html": [
       "<div>\n",
       "<style scoped>\n",
       "    .dataframe tbody tr th:only-of-type {\n",
       "        vertical-align: middle;\n",
       "    }\n",
       "\n",
       "    .dataframe tbody tr th {\n",
       "        vertical-align: top;\n",
       "    }\n",
       "\n",
       "    .dataframe thead th {\n",
       "        text-align: right;\n",
       "    }\n",
       "</style>\n",
       "<table border=\"1\" class=\"dataframe\">\n",
       "  <thead>\n",
       "    <tr style=\"text-align: right;\">\n",
       "      <th></th>\n",
       "      <th>Predictions</th>\n",
       "      <th>Targets</th>\n",
       "      <th>Residuals</th>\n",
       "    </tr>\n",
       "  </thead>\n",
       "  <tbody>\n",
       "    <tr>\n",
       "      <th>0</th>\n",
       "      <td>1091.364516</td>\n",
       "      <td>1218</td>\n",
       "      <td>126.635484</td>\n",
       "    </tr>\n",
       "    <tr>\n",
       "      <th>1</th>\n",
       "      <td>1057.719388</td>\n",
       "      <td>1151</td>\n",
       "      <td>93.280612</td>\n",
       "    </tr>\n",
       "    <tr>\n",
       "      <th>2</th>\n",
       "      <td>1170.036887</td>\n",
       "      <td>1027</td>\n",
       "      <td>-143.036887</td>\n",
       "    </tr>\n",
       "    <tr>\n",
       "      <th>3</th>\n",
       "      <td>1259.987262</td>\n",
       "      <td>1330</td>\n",
       "      <td>70.012738</td>\n",
       "    </tr>\n",
       "    <tr>\n",
       "      <th>4</th>\n",
       "      <td>1078.100005</td>\n",
       "      <td>945</td>\n",
       "      <td>-133.100005</td>\n",
       "    </tr>\n",
       "    <tr>\n",
       "      <th>5</th>\n",
       "      <td>1394.956731</td>\n",
       "      <td>1223</td>\n",
       "      <td>-171.956731</td>\n",
       "    </tr>\n",
       "    <tr>\n",
       "      <th>6</th>\n",
       "      <td>1506.660989</td>\n",
       "      <td>1526</td>\n",
       "      <td>19.339011</td>\n",
       "    </tr>\n",
       "    <tr>\n",
       "      <th>7</th>\n",
       "      <td>1358.148148</td>\n",
       "      <td>1418</td>\n",
       "      <td>59.851852</td>\n",
       "    </tr>\n",
       "    <tr>\n",
       "      <th>8</th>\n",
       "      <td>990.063854</td>\n",
       "      <td>975</td>\n",
       "      <td>-15.063854</td>\n",
       "    </tr>\n",
       "    <tr>\n",
       "      <th>9</th>\n",
       "      <td>1384.551075</td>\n",
       "      <td>1350</td>\n",
       "      <td>-34.551075</td>\n",
       "    </tr>\n",
       "    <tr>\n",
       "      <th>10</th>\n",
       "      <td>1343.005058</td>\n",
       "      <td>1300</td>\n",
       "      <td>-43.005058</td>\n",
       "    </tr>\n",
       "    <tr>\n",
       "      <th>11</th>\n",
       "      <td>967.122403</td>\n",
       "      <td>974</td>\n",
       "      <td>6.877597</td>\n",
       "    </tr>\n",
       "    <tr>\n",
       "      <th>12</th>\n",
       "      <td>1426.599642</td>\n",
       "      <td>1321</td>\n",
       "      <td>-105.599642</td>\n",
       "    </tr>\n",
       "    <tr>\n",
       "      <th>13</th>\n",
       "      <td>1200.898158</td>\n",
       "      <td>1295</td>\n",
       "      <td>94.101842</td>\n",
       "    </tr>\n",
       "    <tr>\n",
       "      <th>14</th>\n",
       "      <td>985.642063</td>\n",
       "      <td>1084</td>\n",
       "      <td>98.357937</td>\n",
       "    </tr>\n",
       "    <tr>\n",
       "      <th>15</th>\n",
       "      <td>271.859854</td>\n",
       "      <td>322</td>\n",
       "      <td>50.140146</td>\n",
       "    </tr>\n",
       "    <tr>\n",
       "      <th>16</th>\n",
       "      <td>672.261307</td>\n",
       "      <td>746</td>\n",
       "      <td>73.738693</td>\n",
       "    </tr>\n",
       "    <tr>\n",
       "      <th>17</th>\n",
       "      <td>114.609218</td>\n",
       "      <td>299</td>\n",
       "      <td>184.390782</td>\n",
       "    </tr>\n",
       "    <tr>\n",
       "      <th>18</th>\n",
       "      <td>1476.113622</td>\n",
       "      <td>1551</td>\n",
       "      <td>74.886378</td>\n",
       "    </tr>\n",
       "    <tr>\n",
       "      <th>19</th>\n",
       "      <td>1289.180154</td>\n",
       "      <td>1356</td>\n",
       "      <td>66.819846</td>\n",
       "    </tr>\n",
       "    <tr>\n",
       "      <th>20</th>\n",
       "      <td>1279.616087</td>\n",
       "      <td>1248</td>\n",
       "      <td>-31.616087</td>\n",
       "    </tr>\n",
       "    <tr>\n",
       "      <th>21</th>\n",
       "      <td>3584.319579</td>\n",
       "      <td>3658</td>\n",
       "      <td>73.680421</td>\n",
       "    </tr>\n",
       "    <tr>\n",
       "      <th>22</th>\n",
       "      <td>1434.194940</td>\n",
       "      <td>1456</td>\n",
       "      <td>21.805060</td>\n",
       "    </tr>\n",
       "    <tr>\n",
       "      <th>23</th>\n",
       "      <td>1349.242107</td>\n",
       "      <td>1405</td>\n",
       "      <td>55.757893</td>\n",
       "    </tr>\n",
       "    <tr>\n",
       "      <th>24</th>\n",
       "      <td>162.148057</td>\n",
       "      <td>309</td>\n",
       "      <td>146.851943</td>\n",
       "    </tr>\n",
       "    <tr>\n",
       "      <th>25</th>\n",
       "      <td>114.034467</td>\n",
       "      <td>252</td>\n",
       "      <td>137.965533</td>\n",
       "    </tr>\n",
       "    <tr>\n",
       "      <th>26</th>\n",
       "      <td>1358.412778</td>\n",
       "      <td>1471</td>\n",
       "      <td>112.587222</td>\n",
       "    </tr>\n",
       "    <tr>\n",
       "      <th>27</th>\n",
       "      <td>237.654959</td>\n",
       "      <td>269</td>\n",
       "      <td>31.345041</td>\n",
       "    </tr>\n",
       "    <tr>\n",
       "      <th>28</th>\n",
       "      <td>1479.194768</td>\n",
       "      <td>1452</td>\n",
       "      <td>-27.194768</td>\n",
       "    </tr>\n",
       "    <tr>\n",
       "      <th>29</th>\n",
       "      <td>892.269643</td>\n",
       "      <td>786</td>\n",
       "      <td>-106.269643</td>\n",
       "    </tr>\n",
       "    <tr>\n",
       "      <th>30</th>\n",
       "      <td>3653.514821</td>\n",
       "      <td>3820</td>\n",
       "      <td>166.485179</td>\n",
       "    </tr>\n",
       "    <tr>\n",
       "      <th>31</th>\n",
       "      <td>3478.878964</td>\n",
       "      <td>3473</td>\n",
       "      <td>-5.878964</td>\n",
       "    </tr>\n",
       "    <tr>\n",
       "      <th>32</th>\n",
       "      <td>3534.709964</td>\n",
       "      <td>3186</td>\n",
       "      <td>-348.709964</td>\n",
       "    </tr>\n",
       "    <tr>\n",
       "      <th>33</th>\n",
       "      <td>900.021763</td>\n",
       "      <td>685</td>\n",
       "      <td>-215.021763</td>\n",
       "    </tr>\n",
       "    <tr>\n",
       "      <th>34</th>\n",
       "      <td>214.674054</td>\n",
       "      <td>256</td>\n",
       "      <td>41.325946</td>\n",
       "    </tr>\n",
       "    <tr>\n",
       "      <th>35</th>\n",
       "      <td>639.482237</td>\n",
       "      <td>566</td>\n",
       "      <td>-73.482237</td>\n",
       "    </tr>\n",
       "    <tr>\n",
       "      <th>36</th>\n",
       "      <td>1475.478612</td>\n",
       "      <td>1293</td>\n",
       "      <td>-182.478612</td>\n",
       "    </tr>\n",
       "    <tr>\n",
       "      <th>37</th>\n",
       "      <td>872.131134</td>\n",
       "      <td>944</td>\n",
       "      <td>71.868866</td>\n",
       "    </tr>\n",
       "    <tr>\n",
       "      <th>38</th>\n",
       "      <td>1226.884458</td>\n",
       "      <td>1186</td>\n",
       "      <td>-40.884458</td>\n",
       "    </tr>\n",
       "    <tr>\n",
       "      <th>39</th>\n",
       "      <td>1195.639823</td>\n",
       "      <td>1044</td>\n",
       "      <td>-151.639823</td>\n",
       "    </tr>\n",
       "    <tr>\n",
       "      <th>40</th>\n",
       "      <td>1432.790074</td>\n",
       "      <td>1383</td>\n",
       "      <td>-49.790074</td>\n",
       "    </tr>\n",
       "    <tr>\n",
       "      <th>41</th>\n",
       "      <td>3575.285742</td>\n",
       "      <td>3736</td>\n",
       "      <td>160.714258</td>\n",
       "    </tr>\n",
       "    <tr>\n",
       "      <th>42</th>\n",
       "      <td>1098.867095</td>\n",
       "      <td>1039</td>\n",
       "      <td>-59.867095</td>\n",
       "    </tr>\n",
       "    <tr>\n",
       "      <th>43</th>\n",
       "      <td>1095.121958</td>\n",
       "      <td>994</td>\n",
       "      <td>-101.121958</td>\n",
       "    </tr>\n",
       "    <tr>\n",
       "      <th>44</th>\n",
       "      <td>1296.851003</td>\n",
       "      <td>1429</td>\n",
       "      <td>132.148997</td>\n",
       "    </tr>\n",
       "    <tr>\n",
       "      <th>45</th>\n",
       "      <td>1458.344504</td>\n",
       "      <td>1532</td>\n",
       "      <td>73.655496</td>\n",
       "    </tr>\n",
       "    <tr>\n",
       "      <th>46</th>\n",
       "      <td>1257.183801</td>\n",
       "      <td>1262</td>\n",
       "      <td>4.816199</td>\n",
       "    </tr>\n",
       "    <tr>\n",
       "      <th>47</th>\n",
       "      <td>1294.327396</td>\n",
       "      <td>1214</td>\n",
       "      <td>-80.327396</td>\n",
       "    </tr>\n",
       "    <tr>\n",
       "      <th>48</th>\n",
       "      <td>3587.913110</td>\n",
       "      <td>3478</td>\n",
       "      <td>-109.913110</td>\n",
       "    </tr>\n",
       "    <tr>\n",
       "      <th>49</th>\n",
       "      <td>3572.568763</td>\n",
       "      <td>3427</td>\n",
       "      <td>-145.568763</td>\n",
       "    </tr>\n",
       "    <tr>\n",
       "      <th>50</th>\n",
       "      <td>694.462976</td>\n",
       "      <td>521</td>\n",
       "      <td>-173.462976</td>\n",
       "    </tr>\n",
       "    <tr>\n",
       "      <th>51</th>\n",
       "      <td>1241.508649</td>\n",
       "      <td>1216</td>\n",
       "      <td>-25.508649</td>\n",
       "    </tr>\n",
       "    <tr>\n",
       "      <th>52</th>\n",
       "      <td>957.733177</td>\n",
       "      <td>909</td>\n",
       "      <td>-48.733177</td>\n",
       "    </tr>\n",
       "    <tr>\n",
       "      <th>53</th>\n",
       "      <td>1277.755356</td>\n",
       "      <td>1188</td>\n",
       "      <td>-89.755356</td>\n",
       "    </tr>\n",
       "  </tbody>\n",
       "</table>\n",
       "</div>"
      ],
      "text/plain": [
       "    Predictions  Targets   Residuals\n",
       "0   1091.364516     1218  126.635484\n",
       "1   1057.719388     1151   93.280612\n",
       "2   1170.036887     1027 -143.036887\n",
       "3   1259.987262     1330   70.012738\n",
       "4   1078.100005      945 -133.100005\n",
       "5   1394.956731     1223 -171.956731\n",
       "6   1506.660989     1526   19.339011\n",
       "7   1358.148148     1418   59.851852\n",
       "8    990.063854      975  -15.063854\n",
       "9   1384.551075     1350  -34.551075\n",
       "10  1343.005058     1300  -43.005058\n",
       "11   967.122403      974    6.877597\n",
       "12  1426.599642     1321 -105.599642\n",
       "13  1200.898158     1295   94.101842\n",
       "14   985.642063     1084   98.357937\n",
       "15   271.859854      322   50.140146\n",
       "16   672.261307      746   73.738693\n",
       "17   114.609218      299  184.390782\n",
       "18  1476.113622     1551   74.886378\n",
       "19  1289.180154     1356   66.819846\n",
       "20  1279.616087     1248  -31.616087\n",
       "21  3584.319579     3658   73.680421\n",
       "22  1434.194940     1456   21.805060\n",
       "23  1349.242107     1405   55.757893\n",
       "24   162.148057      309  146.851943\n",
       "25   114.034467      252  137.965533\n",
       "26  1358.412778     1471  112.587222\n",
       "27   237.654959      269   31.345041\n",
       "28  1479.194768     1452  -27.194768\n",
       "29   892.269643      786 -106.269643\n",
       "30  3653.514821     3820  166.485179\n",
       "31  3478.878964     3473   -5.878964\n",
       "32  3534.709964     3186 -348.709964\n",
       "33   900.021763      685 -215.021763\n",
       "34   214.674054      256   41.325946\n",
       "35   639.482237      566  -73.482237\n",
       "36  1475.478612     1293 -182.478612\n",
       "37   872.131134      944   71.868866\n",
       "38  1226.884458     1186  -40.884458\n",
       "39  1195.639823     1044 -151.639823\n",
       "40  1432.790074     1383  -49.790074\n",
       "41  3575.285742     3736  160.714258\n",
       "42  1098.867095     1039  -59.867095\n",
       "43  1095.121958      994 -101.121958\n",
       "44  1296.851003     1429  132.148997\n",
       "45  1458.344504     1532   73.655496\n",
       "46  1257.183801     1262    4.816199\n",
       "47  1294.327396     1214  -80.327396\n",
       "48  3587.913110     3478 -109.913110\n",
       "49  3572.568763     3427 -145.568763\n",
       "50   694.462976      521 -173.462976\n",
       "51  1241.508649     1216  -25.508649\n",
       "52   957.733177      909  -48.733177\n",
       "53  1277.755356     1188  -89.755356"
      ]
     },
     "execution_count": 62,
     "metadata": {},
     "output_type": "execute_result"
    }
   ],
   "source": [
    "df_pf['Residuals'] = df_pf['Targets']-df_pf['Predictions']\n",
    "df_pf"
   ]
  },
  {
   "cell_type": "code",
   "execution_count": 63,
   "metadata": {
    "scrolled": false
   },
   "outputs": [
    {
     "data": {
      "text/html": [
       "<div>\n",
       "<style scoped>\n",
       "    .dataframe tbody tr th:only-of-type {\n",
       "        vertical-align: middle;\n",
       "    }\n",
       "\n",
       "    .dataframe tbody tr th {\n",
       "        vertical-align: top;\n",
       "    }\n",
       "\n",
       "    .dataframe thead th {\n",
       "        text-align: right;\n",
       "    }\n",
       "</style>\n",
       "<table border=\"1\" class=\"dataframe\">\n",
       "  <thead>\n",
       "    <tr style=\"text-align: right;\">\n",
       "      <th></th>\n",
       "      <th>Predictions</th>\n",
       "      <th>Targets</th>\n",
       "      <th>Residuals</th>\n",
       "      <th>Difference%</th>\n",
       "    </tr>\n",
       "  </thead>\n",
       "  <tbody>\n",
       "    <tr>\n",
       "      <th>0</th>\n",
       "      <td>1091.364516</td>\n",
       "      <td>1218</td>\n",
       "      <td>126.635484</td>\n",
       "      <td>10.397002</td>\n",
       "    </tr>\n",
       "    <tr>\n",
       "      <th>1</th>\n",
       "      <td>1057.719388</td>\n",
       "      <td>1151</td>\n",
       "      <td>93.280612</td>\n",
       "      <td>8.104310</td>\n",
       "    </tr>\n",
       "    <tr>\n",
       "      <th>2</th>\n",
       "      <td>1170.036887</td>\n",
       "      <td>1027</td>\n",
       "      <td>-143.036887</td>\n",
       "      <td>13.927642</td>\n",
       "    </tr>\n",
       "    <tr>\n",
       "      <th>3</th>\n",
       "      <td>1259.987262</td>\n",
       "      <td>1330</td>\n",
       "      <td>70.012738</td>\n",
       "      <td>5.264116</td>\n",
       "    </tr>\n",
       "    <tr>\n",
       "      <th>4</th>\n",
       "      <td>1078.100005</td>\n",
       "      <td>945</td>\n",
       "      <td>-133.100005</td>\n",
       "      <td>14.084657</td>\n",
       "    </tr>\n",
       "    <tr>\n",
       "      <th>5</th>\n",
       "      <td>1394.956731</td>\n",
       "      <td>1223</td>\n",
       "      <td>-171.956731</td>\n",
       "      <td>14.060240</td>\n",
       "    </tr>\n",
       "    <tr>\n",
       "      <th>6</th>\n",
       "      <td>1506.660989</td>\n",
       "      <td>1526</td>\n",
       "      <td>19.339011</td>\n",
       "      <td>1.267301</td>\n",
       "    </tr>\n",
       "    <tr>\n",
       "      <th>7</th>\n",
       "      <td>1358.148148</td>\n",
       "      <td>1418</td>\n",
       "      <td>59.851852</td>\n",
       "      <td>4.220864</td>\n",
       "    </tr>\n",
       "    <tr>\n",
       "      <th>8</th>\n",
       "      <td>990.063854</td>\n",
       "      <td>975</td>\n",
       "      <td>-15.063854</td>\n",
       "      <td>1.545011</td>\n",
       "    </tr>\n",
       "    <tr>\n",
       "      <th>9</th>\n",
       "      <td>1384.551075</td>\n",
       "      <td>1350</td>\n",
       "      <td>-34.551075</td>\n",
       "      <td>2.559339</td>\n",
       "    </tr>\n",
       "    <tr>\n",
       "      <th>10</th>\n",
       "      <td>1343.005058</td>\n",
       "      <td>1300</td>\n",
       "      <td>-43.005058</td>\n",
       "      <td>3.308081</td>\n",
       "    </tr>\n",
       "    <tr>\n",
       "      <th>11</th>\n",
       "      <td>967.122403</td>\n",
       "      <td>974</td>\n",
       "      <td>6.877597</td>\n",
       "      <td>0.706119</td>\n",
       "    </tr>\n",
       "    <tr>\n",
       "      <th>12</th>\n",
       "      <td>1426.599642</td>\n",
       "      <td>1321</td>\n",
       "      <td>-105.599642</td>\n",
       "      <td>7.993917</td>\n",
       "    </tr>\n",
       "    <tr>\n",
       "      <th>13</th>\n",
       "      <td>1200.898158</td>\n",
       "      <td>1295</td>\n",
       "      <td>94.101842</td>\n",
       "      <td>7.266551</td>\n",
       "    </tr>\n",
       "    <tr>\n",
       "      <th>14</th>\n",
       "      <td>985.642063</td>\n",
       "      <td>1084</td>\n",
       "      <td>98.357937</td>\n",
       "      <td>9.073610</td>\n",
       "    </tr>\n",
       "    <tr>\n",
       "      <th>15</th>\n",
       "      <td>271.859854</td>\n",
       "      <td>322</td>\n",
       "      <td>50.140146</td>\n",
       "      <td>15.571474</td>\n",
       "    </tr>\n",
       "    <tr>\n",
       "      <th>16</th>\n",
       "      <td>672.261307</td>\n",
       "      <td>746</td>\n",
       "      <td>73.738693</td>\n",
       "      <td>9.884543</td>\n",
       "    </tr>\n",
       "    <tr>\n",
       "      <th>17</th>\n",
       "      <td>114.609218</td>\n",
       "      <td>299</td>\n",
       "      <td>184.390782</td>\n",
       "      <td>61.669158</td>\n",
       "    </tr>\n",
       "    <tr>\n",
       "      <th>18</th>\n",
       "      <td>1476.113622</td>\n",
       "      <td>1551</td>\n",
       "      <td>74.886378</td>\n",
       "      <td>4.828264</td>\n",
       "    </tr>\n",
       "    <tr>\n",
       "      <th>19</th>\n",
       "      <td>1289.180154</td>\n",
       "      <td>1356</td>\n",
       "      <td>66.819846</td>\n",
       "      <td>4.927717</td>\n",
       "    </tr>\n",
       "    <tr>\n",
       "      <th>20</th>\n",
       "      <td>1279.616087</td>\n",
       "      <td>1248</td>\n",
       "      <td>-31.616087</td>\n",
       "      <td>2.533340</td>\n",
       "    </tr>\n",
       "    <tr>\n",
       "      <th>21</th>\n",
       "      <td>3584.319579</td>\n",
       "      <td>3658</td>\n",
       "      <td>73.680421</td>\n",
       "      <td>2.014227</td>\n",
       "    </tr>\n",
       "    <tr>\n",
       "      <th>22</th>\n",
       "      <td>1434.194940</td>\n",
       "      <td>1456</td>\n",
       "      <td>21.805060</td>\n",
       "      <td>1.497600</td>\n",
       "    </tr>\n",
       "    <tr>\n",
       "      <th>23</th>\n",
       "      <td>1349.242107</td>\n",
       "      <td>1405</td>\n",
       "      <td>55.757893</td>\n",
       "      <td>3.968533</td>\n",
       "    </tr>\n",
       "    <tr>\n",
       "      <th>24</th>\n",
       "      <td>162.148057</td>\n",
       "      <td>309</td>\n",
       "      <td>146.851943</td>\n",
       "      <td>47.524901</td>\n",
       "    </tr>\n",
       "    <tr>\n",
       "      <th>25</th>\n",
       "      <td>114.034467</td>\n",
       "      <td>252</td>\n",
       "      <td>137.965533</td>\n",
       "      <td>54.748227</td>\n",
       "    </tr>\n",
       "    <tr>\n",
       "      <th>26</th>\n",
       "      <td>1358.412778</td>\n",
       "      <td>1471</td>\n",
       "      <td>112.587222</td>\n",
       "      <td>7.653788</td>\n",
       "    </tr>\n",
       "    <tr>\n",
       "      <th>27</th>\n",
       "      <td>237.654959</td>\n",
       "      <td>269</td>\n",
       "      <td>31.345041</td>\n",
       "      <td>11.652431</td>\n",
       "    </tr>\n",
       "    <tr>\n",
       "      <th>28</th>\n",
       "      <td>1479.194768</td>\n",
       "      <td>1452</td>\n",
       "      <td>-27.194768</td>\n",
       "      <td>1.872918</td>\n",
       "    </tr>\n",
       "    <tr>\n",
       "      <th>29</th>\n",
       "      <td>892.269643</td>\n",
       "      <td>786</td>\n",
       "      <td>-106.269643</td>\n",
       "      <td>13.520311</td>\n",
       "    </tr>\n",
       "    <tr>\n",
       "      <th>30</th>\n",
       "      <td>3653.514821</td>\n",
       "      <td>3820</td>\n",
       "      <td>166.485179</td>\n",
       "      <td>4.358251</td>\n",
       "    </tr>\n",
       "    <tr>\n",
       "      <th>31</th>\n",
       "      <td>3478.878964</td>\n",
       "      <td>3473</td>\n",
       "      <td>-5.878964</td>\n",
       "      <td>0.169276</td>\n",
       "    </tr>\n",
       "    <tr>\n",
       "      <th>32</th>\n",
       "      <td>3534.709964</td>\n",
       "      <td>3186</td>\n",
       "      <td>-348.709964</td>\n",
       "      <td>10.945071</td>\n",
       "    </tr>\n",
       "    <tr>\n",
       "      <th>33</th>\n",
       "      <td>900.021763</td>\n",
       "      <td>685</td>\n",
       "      <td>-215.021763</td>\n",
       "      <td>31.390038</td>\n",
       "    </tr>\n",
       "    <tr>\n",
       "      <th>34</th>\n",
       "      <td>214.674054</td>\n",
       "      <td>256</td>\n",
       "      <td>41.325946</td>\n",
       "      <td>16.142948</td>\n",
       "    </tr>\n",
       "    <tr>\n",
       "      <th>35</th>\n",
       "      <td>639.482237</td>\n",
       "      <td>566</td>\n",
       "      <td>-73.482237</td>\n",
       "      <td>12.982727</td>\n",
       "    </tr>\n",
       "    <tr>\n",
       "      <th>36</th>\n",
       "      <td>1475.478612</td>\n",
       "      <td>1293</td>\n",
       "      <td>-182.478612</td>\n",
       "      <td>14.112808</td>\n",
       "    </tr>\n",
       "    <tr>\n",
       "      <th>37</th>\n",
       "      <td>872.131134</td>\n",
       "      <td>944</td>\n",
       "      <td>71.868866</td>\n",
       "      <td>7.613227</td>\n",
       "    </tr>\n",
       "    <tr>\n",
       "      <th>38</th>\n",
       "      <td>1226.884458</td>\n",
       "      <td>1186</td>\n",
       "      <td>-40.884458</td>\n",
       "      <td>3.447256</td>\n",
       "    </tr>\n",
       "    <tr>\n",
       "      <th>39</th>\n",
       "      <td>1195.639823</td>\n",
       "      <td>1044</td>\n",
       "      <td>-151.639823</td>\n",
       "      <td>14.524887</td>\n",
       "    </tr>\n",
       "    <tr>\n",
       "      <th>40</th>\n",
       "      <td>1432.790074</td>\n",
       "      <td>1383</td>\n",
       "      <td>-49.790074</td>\n",
       "      <td>3.600150</td>\n",
       "    </tr>\n",
       "    <tr>\n",
       "      <th>41</th>\n",
       "      <td>3575.285742</td>\n",
       "      <td>3736</td>\n",
       "      <td>160.714258</td>\n",
       "      <td>4.301773</td>\n",
       "    </tr>\n",
       "    <tr>\n",
       "      <th>42</th>\n",
       "      <td>1098.867095</td>\n",
       "      <td>1039</td>\n",
       "      <td>-59.867095</td>\n",
       "      <td>5.761992</td>\n",
       "    </tr>\n",
       "    <tr>\n",
       "      <th>43</th>\n",
       "      <td>1095.121958</td>\n",
       "      <td>994</td>\n",
       "      <td>-101.121958</td>\n",
       "      <td>10.173235</td>\n",
       "    </tr>\n",
       "    <tr>\n",
       "      <th>44</th>\n",
       "      <td>1296.851003</td>\n",
       "      <td>1429</td>\n",
       "      <td>132.148997</td>\n",
       "      <td>9.247655</td>\n",
       "    </tr>\n",
       "    <tr>\n",
       "      <th>45</th>\n",
       "      <td>1458.344504</td>\n",
       "      <td>1532</td>\n",
       "      <td>73.655496</td>\n",
       "      <td>4.807800</td>\n",
       "    </tr>\n",
       "    <tr>\n",
       "      <th>46</th>\n",
       "      <td>1257.183801</td>\n",
       "      <td>1262</td>\n",
       "      <td>4.816199</td>\n",
       "      <td>0.381632</td>\n",
       "    </tr>\n",
       "    <tr>\n",
       "      <th>47</th>\n",
       "      <td>1294.327396</td>\n",
       "      <td>1214</td>\n",
       "      <td>-80.327396</td>\n",
       "      <td>6.616754</td>\n",
       "    </tr>\n",
       "    <tr>\n",
       "      <th>48</th>\n",
       "      <td>3587.913110</td>\n",
       "      <td>3478</td>\n",
       "      <td>-109.913110</td>\n",
       "      <td>3.160239</td>\n",
       "    </tr>\n",
       "    <tr>\n",
       "      <th>49</th>\n",
       "      <td>3572.568763</td>\n",
       "      <td>3427</td>\n",
       "      <td>-145.568763</td>\n",
       "      <td>4.247702</td>\n",
       "    </tr>\n",
       "    <tr>\n",
       "      <th>50</th>\n",
       "      <td>694.462976</td>\n",
       "      <td>521</td>\n",
       "      <td>-173.462976</td>\n",
       "      <td>33.294237</td>\n",
       "    </tr>\n",
       "    <tr>\n",
       "      <th>51</th>\n",
       "      <td>1241.508649</td>\n",
       "      <td>1216</td>\n",
       "      <td>-25.508649</td>\n",
       "      <td>2.097751</td>\n",
       "    </tr>\n",
       "    <tr>\n",
       "      <th>52</th>\n",
       "      <td>957.733177</td>\n",
       "      <td>909</td>\n",
       "      <td>-48.733177</td>\n",
       "      <td>5.361186</td>\n",
       "    </tr>\n",
       "    <tr>\n",
       "      <th>53</th>\n",
       "      <td>1277.755356</td>\n",
       "      <td>1188</td>\n",
       "      <td>-89.755356</td>\n",
       "      <td>7.555165</td>\n",
       "    </tr>\n",
       "  </tbody>\n",
       "</table>\n",
       "</div>"
      ],
      "text/plain": [
       "    Predictions  Targets   Residuals  Difference%\n",
       "0   1091.364516     1218  126.635484    10.397002\n",
       "1   1057.719388     1151   93.280612     8.104310\n",
       "2   1170.036887     1027 -143.036887    13.927642\n",
       "3   1259.987262     1330   70.012738     5.264116\n",
       "4   1078.100005      945 -133.100005    14.084657\n",
       "5   1394.956731     1223 -171.956731    14.060240\n",
       "6   1506.660989     1526   19.339011     1.267301\n",
       "7   1358.148148     1418   59.851852     4.220864\n",
       "8    990.063854      975  -15.063854     1.545011\n",
       "9   1384.551075     1350  -34.551075     2.559339\n",
       "10  1343.005058     1300  -43.005058     3.308081\n",
       "11   967.122403      974    6.877597     0.706119\n",
       "12  1426.599642     1321 -105.599642     7.993917\n",
       "13  1200.898158     1295   94.101842     7.266551\n",
       "14   985.642063     1084   98.357937     9.073610\n",
       "15   271.859854      322   50.140146    15.571474\n",
       "16   672.261307      746   73.738693     9.884543\n",
       "17   114.609218      299  184.390782    61.669158\n",
       "18  1476.113622     1551   74.886378     4.828264\n",
       "19  1289.180154     1356   66.819846     4.927717\n",
       "20  1279.616087     1248  -31.616087     2.533340\n",
       "21  3584.319579     3658   73.680421     2.014227\n",
       "22  1434.194940     1456   21.805060     1.497600\n",
       "23  1349.242107     1405   55.757893     3.968533\n",
       "24   162.148057      309  146.851943    47.524901\n",
       "25   114.034467      252  137.965533    54.748227\n",
       "26  1358.412778     1471  112.587222     7.653788\n",
       "27   237.654959      269   31.345041    11.652431\n",
       "28  1479.194768     1452  -27.194768     1.872918\n",
       "29   892.269643      786 -106.269643    13.520311\n",
       "30  3653.514821     3820  166.485179     4.358251\n",
       "31  3478.878964     3473   -5.878964     0.169276\n",
       "32  3534.709964     3186 -348.709964    10.945071\n",
       "33   900.021763      685 -215.021763    31.390038\n",
       "34   214.674054      256   41.325946    16.142948\n",
       "35   639.482237      566  -73.482237    12.982727\n",
       "36  1475.478612     1293 -182.478612    14.112808\n",
       "37   872.131134      944   71.868866     7.613227\n",
       "38  1226.884458     1186  -40.884458     3.447256\n",
       "39  1195.639823     1044 -151.639823    14.524887\n",
       "40  1432.790074     1383  -49.790074     3.600150\n",
       "41  3575.285742     3736  160.714258     4.301773\n",
       "42  1098.867095     1039  -59.867095     5.761992\n",
       "43  1095.121958      994 -101.121958    10.173235\n",
       "44  1296.851003     1429  132.148997     9.247655\n",
       "45  1458.344504     1532   73.655496     4.807800\n",
       "46  1257.183801     1262    4.816199     0.381632\n",
       "47  1294.327396     1214  -80.327396     6.616754\n",
       "48  3587.913110     3478 -109.913110     3.160239\n",
       "49  3572.568763     3427 -145.568763     4.247702\n",
       "50   694.462976      521 -173.462976    33.294237\n",
       "51  1241.508649     1216  -25.508649     2.097751\n",
       "52   957.733177      909  -48.733177     5.361186\n",
       "53  1277.755356     1188  -89.755356     7.555165"
      ]
     },
     "execution_count": 63,
     "metadata": {},
     "output_type": "execute_result"
    }
   ],
   "source": [
    "#Residuals shows the deviation\n",
    "#Display difference in percent for Prediction & Target\n",
    "df_pf['Difference%']=np.absolute(df_pf['Residuals']/df_pf['Targets']*100)\n",
    "df_pf"
   ]
  },
  {
   "cell_type": "code",
   "execution_count": 64,
   "metadata": {},
   "outputs": [
    {
     "data": {
      "text/html": [
       "<div>\n",
       "<style scoped>\n",
       "    .dataframe tbody tr th:only-of-type {\n",
       "        vertical-align: middle;\n",
       "    }\n",
       "\n",
       "    .dataframe tbody tr th {\n",
       "        vertical-align: top;\n",
       "    }\n",
       "\n",
       "    .dataframe thead th {\n",
       "        text-align: right;\n",
       "    }\n",
       "</style>\n",
       "<table border=\"1\" class=\"dataframe\">\n",
       "  <thead>\n",
       "    <tr style=\"text-align: right;\">\n",
       "      <th></th>\n",
       "      <th>Predictions</th>\n",
       "      <th>Targets</th>\n",
       "      <th>Residuals</th>\n",
       "      <th>Difference%</th>\n",
       "    </tr>\n",
       "  </thead>\n",
       "  <tbody>\n",
       "    <tr>\n",
       "      <th>count</th>\n",
       "      <td>54.000000</td>\n",
       "      <td>54.000000</td>\n",
       "      <td>54.000000</td>\n",
       "      <td>54.000000</td>\n",
       "    </tr>\n",
       "    <tr>\n",
       "      <th>mean</th>\n",
       "      <td>1388.186984</td>\n",
       "      <td>1379.592593</td>\n",
       "      <td>-8.594392</td>\n",
       "      <td>10.443333</td>\n",
       "    </tr>\n",
       "    <tr>\n",
       "      <th>std</th>\n",
       "      <td>929.385603</td>\n",
       "      <td>918.172272</td>\n",
       "      <td>112.470052</td>\n",
       "      <td>12.721770</td>\n",
       "    </tr>\n",
       "    <tr>\n",
       "      <th>min</th>\n",
       "      <td>114.034467</td>\n",
       "      <td>252.000000</td>\n",
       "      <td>-348.709964</td>\n",
       "      <td>0.169276</td>\n",
       "    </tr>\n",
       "    <tr>\n",
       "      <th>25%</th>\n",
       "      <td>971.752318</td>\n",
       "      <td>952.250000</td>\n",
       "      <td>-87.398366</td>\n",
       "      <td>3.485480</td>\n",
       "    </tr>\n",
       "    <tr>\n",
       "      <th>50%</th>\n",
       "      <td>1258.585532</td>\n",
       "      <td>1220.500000</td>\n",
       "      <td>-0.531383</td>\n",
       "      <td>6.941653</td>\n",
       "    </tr>\n",
       "    <tr>\n",
       "      <th>75%</th>\n",
       "      <td>1431.242466</td>\n",
       "      <td>1426.250000</td>\n",
       "      <td>73.674190</td>\n",
       "      <td>12.650153</td>\n",
       "    </tr>\n",
       "    <tr>\n",
       "      <th>max</th>\n",
       "      <td>3653.514821</td>\n",
       "      <td>3820.000000</td>\n",
       "      <td>184.390782</td>\n",
       "      <td>61.669158</td>\n",
       "    </tr>\n",
       "  </tbody>\n",
       "</table>\n",
       "</div>"
      ],
      "text/plain": [
       "       Predictions      Targets   Residuals  Difference%\n",
       "count    54.000000    54.000000   54.000000    54.000000\n",
       "mean   1388.186984  1379.592593   -8.594392    10.443333\n",
       "std     929.385603   918.172272  112.470052    12.721770\n",
       "min     114.034467   252.000000 -348.709964     0.169276\n",
       "25%     971.752318   952.250000  -87.398366     3.485480\n",
       "50%    1258.585532  1220.500000   -0.531383     6.941653\n",
       "75%    1431.242466  1426.250000   73.674190    12.650153\n",
       "max    3653.514821  3820.000000  184.390782    61.669158"
      ]
     },
     "execution_count": 64,
     "metadata": {},
     "output_type": "execute_result"
    }
   ],
   "source": [
    "df_pf.describe()"
   ]
  },
  {
   "cell_type": "code",
   "execution_count": null,
   "metadata": {},
   "outputs": [],
   "source": []
  },
  {
   "cell_type": "code",
   "execution_count": null,
   "metadata": {},
   "outputs": [],
   "source": []
  }
 ],
 "metadata": {
  "kernelspec": {
   "display_name": "Python 3",
   "language": "python",
   "name": "python3"
  },
  "language_info": {
   "codemirror_mode": {
    "name": "ipython",
    "version": 3
   },
   "file_extension": ".py",
   "mimetype": "text/x-python",
   "name": "python",
   "nbconvert_exporter": "python",
   "pygments_lexer": "ipython3",
   "version": "3.8.5"
  }
 },
 "nbformat": 4,
 "nbformat_minor": 2
}
